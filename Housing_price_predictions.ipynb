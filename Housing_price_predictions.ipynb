{
  "nbformat": 4,
  "nbformat_minor": 0,
  "metadata": {
    "colab": {
      "name": "Housing_price_predictions.ipynb",
      "provenance": [],
      "collapsed_sections": [],
      "authorship_tag": "ABX9TyPmXl/Ps7ZPIQgPX6viVq6n",
      "include_colab_link": true
    },
    "kernelspec": {
      "name": "python3",
      "display_name": "Python 3"
    },
    "language_info": {
      "name": "python"
    }
  },
  "cells": [
    {
      "cell_type": "markdown",
      "metadata": {
        "id": "view-in-github",
        "colab_type": "text"
      },
      "source": [
        "<a href=\"https://colab.research.google.com/github/WendyOira/HASS-CONSULTING-PREDICTION/blob/main/Housing_price_predictions.ipynb\" target=\"_parent\"><img src=\"https://colab.research.google.com/assets/colab-badge.svg\" alt=\"Open In Colab\"/></a>"
      ]
    },
    {
      "cell_type": "markdown",
      "source": [
        "#REAL ESTATE SALE PRICE PREDICTION"
      ],
      "metadata": {
        "id": "QSpM0W3X2iUh"
      }
    },
    {
      "cell_type": "markdown",
      "source": [
        "##**Defining the Question**\n",
        "\n",
        "You have been tasked to study the factors that affect housing prices using the given information on real estate properties that was collected over the past few months. Later onwards, create a model that would allow the company to accurately predict the sale of prices upon being provided with the predictor variables. \n"
      ],
      "metadata": {
        "id": "ayGmaoNbja5P"
      }
    },
    {
      "cell_type": "markdown",
      "source": [
        "## **Specifying the Question**\n",
        "\n",
        "Study the factors that affect housing prices.\n",
        "\n",
        "Create a model that would allow the company to accurately predict the sale of prices\n",
        "\n",
        "\n",
        "\n"
      ],
      "metadata": {
        "id": "GOaQrlwmkw8n"
      }
    },
    {
      "cell_type": "markdown",
      "source": [
        "##**Defining the Metric for Success**\n",
        "\n",
        "\n",
        "Making correct predictions on housing sale prices with the model with the lowest mean squared error"
      ],
      "metadata": {
        "id": "l4uxnZHIjauk"
      }
    },
    {
      "cell_type": "markdown",
      "source": [
        "##**Understanding the Context**\n",
        "\n",
        "Hass Consulting Company is a real estate leader with over 25 years of experience\n",
        "\n"
      ],
      "metadata": {
        "id": "-wjOXFQpjamJ"
      }
    },
    {
      "cell_type": "markdown",
      "source": [
        "##**Recording the experimental design**\n",
        "\n",
        "Define the question, the metric for success, the context, experimental design taken.\n",
        "\n",
        "Read and explore the given dataset.\n",
        "\n",
        "Define the appropriateness of the available data to answer the given question.\n",
        "\n",
        "Find and deal with outliers, anomalies, and missing data within the dataset.\n",
        "\n",
        "Perform univariate, bivariate and multivariate analysis recording your observations.\n",
        "\n",
        "Performing regression analysis.\n",
        "\n",
        "Incorporate categorical independent variables into your models.\n",
        "\n",
        "Check for multicollinearity\n",
        "\n",
        "Provide a recommendation based on your analysis. \n",
        "\n",
        "Create residual plots for your models, and assess heteroskedasticity using Barlett's test.\n",
        "\n",
        "Challenge your solution by providing insights on how you can make improvements in model improvement."
      ],
      "metadata": {
        "id": "EDooy6m9jahB"
      }
    },
    {
      "cell_type": "code",
      "execution_count": null,
      "metadata": {
        "id": "cwOM1N7oRH33"
      },
      "outputs": [],
      "source": [
        "# Import the relevant libraries \n",
        "import pandas as pd\n",
        "import numpy as np\n",
        "import matplotlib.pyplot as plt\n",
        "import seaborn as sns"
      ]
    },
    {
      "cell_type": "code",
      "source": [
        "# Load the real estate dataset\n",
        "sale = pd.read_csv('/content/Independent Project Week 7 - house_data.csv')"
      ],
      "metadata": {
        "id": "JAeJOvW9UPfZ"
      },
      "execution_count": null,
      "outputs": []
    },
    {
      "cell_type": "code",
      "source": [
        "# Determining the no. of records in our dataset\n",
        "sale.shape"
      ],
      "metadata": {
        "colab": {
          "base_uri": "https://localhost:8080/"
        },
        "id": "8Jh3QyvIU7_M",
        "outputId": "3ef24de6-40f5-441d-88af-1fb2f4b58d2c"
      },
      "execution_count": null,
      "outputs": [
        {
          "output_type": "execute_result",
          "data": {
            "text/plain": [
              "(21613, 20)"
            ]
          },
          "metadata": {},
          "execution_count": 103
        }
      ]
    },
    {
      "cell_type": "markdown",
      "source": [
        "We have 21,613 records and 20 variables"
      ],
      "metadata": {
        "id": "r_BFhCnHVDPA"
      }
    },
    {
      "cell_type": "code",
      "source": [
        "# Previewing the top of our dataset\n",
        "sale.head()"
      ],
      "metadata": {
        "colab": {
          "base_uri": "https://localhost:8080/",
          "height": 270
        },
        "id": "dhGVCEr3VR24",
        "outputId": "d6428c39-07ce-43e5-fa10-6ca090e08e52"
      },
      "execution_count": null,
      "outputs": [
        {
          "output_type": "execute_result",
          "data": {
            "text/html": [
              "\n",
              "  <div id=\"df-68692b45-ccbf-47de-9fa3-6a03f98c8dc4\">\n",
              "    <div class=\"colab-df-container\">\n",
              "      <div>\n",
              "<style scoped>\n",
              "    .dataframe tbody tr th:only-of-type {\n",
              "        vertical-align: middle;\n",
              "    }\n",
              "\n",
              "    .dataframe tbody tr th {\n",
              "        vertical-align: top;\n",
              "    }\n",
              "\n",
              "    .dataframe thead th {\n",
              "        text-align: right;\n",
              "    }\n",
              "</style>\n",
              "<table border=\"1\" class=\"dataframe\">\n",
              "  <thead>\n",
              "    <tr style=\"text-align: right;\">\n",
              "      <th></th>\n",
              "      <th>id</th>\n",
              "      <th>price</th>\n",
              "      <th>bedrooms</th>\n",
              "      <th>bathrooms</th>\n",
              "      <th>sqft_living</th>\n",
              "      <th>sqft_lot</th>\n",
              "      <th>floors</th>\n",
              "      <th>waterfront</th>\n",
              "      <th>view</th>\n",
              "      <th>condition</th>\n",
              "      <th>grade</th>\n",
              "      <th>sqft_above</th>\n",
              "      <th>sqft_basement</th>\n",
              "      <th>yr_built</th>\n",
              "      <th>yr_renovated</th>\n",
              "      <th>zipcode</th>\n",
              "      <th>lat</th>\n",
              "      <th>long</th>\n",
              "      <th>sqft_living15</th>\n",
              "      <th>sqft_lot15</th>\n",
              "    </tr>\n",
              "  </thead>\n",
              "  <tbody>\n",
              "    <tr>\n",
              "      <th>0</th>\n",
              "      <td>7129300520</td>\n",
              "      <td>221900.0</td>\n",
              "      <td>3</td>\n",
              "      <td>1.00</td>\n",
              "      <td>1180</td>\n",
              "      <td>5650</td>\n",
              "      <td>1.0</td>\n",
              "      <td>0</td>\n",
              "      <td>0</td>\n",
              "      <td>3</td>\n",
              "      <td>7</td>\n",
              "      <td>1180</td>\n",
              "      <td>0</td>\n",
              "      <td>1955</td>\n",
              "      <td>0</td>\n",
              "      <td>98178</td>\n",
              "      <td>47.5112</td>\n",
              "      <td>-122.257</td>\n",
              "      <td>1340</td>\n",
              "      <td>5650</td>\n",
              "    </tr>\n",
              "    <tr>\n",
              "      <th>1</th>\n",
              "      <td>6414100192</td>\n",
              "      <td>538000.0</td>\n",
              "      <td>3</td>\n",
              "      <td>2.25</td>\n",
              "      <td>2570</td>\n",
              "      <td>7242</td>\n",
              "      <td>2.0</td>\n",
              "      <td>0</td>\n",
              "      <td>0</td>\n",
              "      <td>3</td>\n",
              "      <td>7</td>\n",
              "      <td>2170</td>\n",
              "      <td>400</td>\n",
              "      <td>1951</td>\n",
              "      <td>1991</td>\n",
              "      <td>98125</td>\n",
              "      <td>47.7210</td>\n",
              "      <td>-122.319</td>\n",
              "      <td>1690</td>\n",
              "      <td>7639</td>\n",
              "    </tr>\n",
              "    <tr>\n",
              "      <th>2</th>\n",
              "      <td>5631500400</td>\n",
              "      <td>180000.0</td>\n",
              "      <td>2</td>\n",
              "      <td>1.00</td>\n",
              "      <td>770</td>\n",
              "      <td>10000</td>\n",
              "      <td>1.0</td>\n",
              "      <td>0</td>\n",
              "      <td>0</td>\n",
              "      <td>3</td>\n",
              "      <td>6</td>\n",
              "      <td>770</td>\n",
              "      <td>0</td>\n",
              "      <td>1933</td>\n",
              "      <td>0</td>\n",
              "      <td>98028</td>\n",
              "      <td>47.7379</td>\n",
              "      <td>-122.233</td>\n",
              "      <td>2720</td>\n",
              "      <td>8062</td>\n",
              "    </tr>\n",
              "    <tr>\n",
              "      <th>3</th>\n",
              "      <td>2487200875</td>\n",
              "      <td>604000.0</td>\n",
              "      <td>4</td>\n",
              "      <td>3.00</td>\n",
              "      <td>1960</td>\n",
              "      <td>5000</td>\n",
              "      <td>1.0</td>\n",
              "      <td>0</td>\n",
              "      <td>0</td>\n",
              "      <td>5</td>\n",
              "      <td>7</td>\n",
              "      <td>1050</td>\n",
              "      <td>910</td>\n",
              "      <td>1965</td>\n",
              "      <td>0</td>\n",
              "      <td>98136</td>\n",
              "      <td>47.5208</td>\n",
              "      <td>-122.393</td>\n",
              "      <td>1360</td>\n",
              "      <td>5000</td>\n",
              "    </tr>\n",
              "    <tr>\n",
              "      <th>4</th>\n",
              "      <td>1954400510</td>\n",
              "      <td>510000.0</td>\n",
              "      <td>3</td>\n",
              "      <td>2.00</td>\n",
              "      <td>1680</td>\n",
              "      <td>8080</td>\n",
              "      <td>1.0</td>\n",
              "      <td>0</td>\n",
              "      <td>0</td>\n",
              "      <td>3</td>\n",
              "      <td>8</td>\n",
              "      <td>1680</td>\n",
              "      <td>0</td>\n",
              "      <td>1987</td>\n",
              "      <td>0</td>\n",
              "      <td>98074</td>\n",
              "      <td>47.6168</td>\n",
              "      <td>-122.045</td>\n",
              "      <td>1800</td>\n",
              "      <td>7503</td>\n",
              "    </tr>\n",
              "  </tbody>\n",
              "</table>\n",
              "</div>\n",
              "      <button class=\"colab-df-convert\" onclick=\"convertToInteractive('df-68692b45-ccbf-47de-9fa3-6a03f98c8dc4')\"\n",
              "              title=\"Convert this dataframe to an interactive table.\"\n",
              "              style=\"display:none;\">\n",
              "        \n",
              "  <svg xmlns=\"http://www.w3.org/2000/svg\" height=\"24px\"viewBox=\"0 0 24 24\"\n",
              "       width=\"24px\">\n",
              "    <path d=\"M0 0h24v24H0V0z\" fill=\"none\"/>\n",
              "    <path d=\"M18.56 5.44l.94 2.06.94-2.06 2.06-.94-2.06-.94-.94-2.06-.94 2.06-2.06.94zm-11 1L8.5 8.5l.94-2.06 2.06-.94-2.06-.94L8.5 2.5l-.94 2.06-2.06.94zm10 10l.94 2.06.94-2.06 2.06-.94-2.06-.94-.94-2.06-.94 2.06-2.06.94z\"/><path d=\"M17.41 7.96l-1.37-1.37c-.4-.4-.92-.59-1.43-.59-.52 0-1.04.2-1.43.59L10.3 9.45l-7.72 7.72c-.78.78-.78 2.05 0 2.83L4 21.41c.39.39.9.59 1.41.59.51 0 1.02-.2 1.41-.59l7.78-7.78 2.81-2.81c.8-.78.8-2.07 0-2.86zM5.41 20L4 18.59l7.72-7.72 1.47 1.35L5.41 20z\"/>\n",
              "  </svg>\n",
              "      </button>\n",
              "      \n",
              "  <style>\n",
              "    .colab-df-container {\n",
              "      display:flex;\n",
              "      flex-wrap:wrap;\n",
              "      gap: 12px;\n",
              "    }\n",
              "\n",
              "    .colab-df-convert {\n",
              "      background-color: #E8F0FE;\n",
              "      border: none;\n",
              "      border-radius: 50%;\n",
              "      cursor: pointer;\n",
              "      display: none;\n",
              "      fill: #1967D2;\n",
              "      height: 32px;\n",
              "      padding: 0 0 0 0;\n",
              "      width: 32px;\n",
              "    }\n",
              "\n",
              "    .colab-df-convert:hover {\n",
              "      background-color: #E2EBFA;\n",
              "      box-shadow: 0px 1px 2px rgba(60, 64, 67, 0.3), 0px 1px 3px 1px rgba(60, 64, 67, 0.15);\n",
              "      fill: #174EA6;\n",
              "    }\n",
              "\n",
              "    [theme=dark] .colab-df-convert {\n",
              "      background-color: #3B4455;\n",
              "      fill: #D2E3FC;\n",
              "    }\n",
              "\n",
              "    [theme=dark] .colab-df-convert:hover {\n",
              "      background-color: #434B5C;\n",
              "      box-shadow: 0px 1px 3px 1px rgba(0, 0, 0, 0.15);\n",
              "      filter: drop-shadow(0px 1px 2px rgba(0, 0, 0, 0.3));\n",
              "      fill: #FFFFFF;\n",
              "    }\n",
              "  </style>\n",
              "\n",
              "      <script>\n",
              "        const buttonEl =\n",
              "          document.querySelector('#df-68692b45-ccbf-47de-9fa3-6a03f98c8dc4 button.colab-df-convert');\n",
              "        buttonEl.style.display =\n",
              "          google.colab.kernel.accessAllowed ? 'block' : 'none';\n",
              "\n",
              "        async function convertToInteractive(key) {\n",
              "          const element = document.querySelector('#df-68692b45-ccbf-47de-9fa3-6a03f98c8dc4');\n",
              "          const dataTable =\n",
              "            await google.colab.kernel.invokeFunction('convertToInteractive',\n",
              "                                                     [key], {});\n",
              "          if (!dataTable) return;\n",
              "\n",
              "          const docLinkHtml = 'Like what you see? Visit the ' +\n",
              "            '<a target=\"_blank\" href=https://colab.research.google.com/notebooks/data_table.ipynb>data table notebook</a>'\n",
              "            + ' to learn more about interactive tables.';\n",
              "          element.innerHTML = '';\n",
              "          dataTable['output_type'] = 'display_data';\n",
              "          await google.colab.output.renderOutput(dataTable, element);\n",
              "          const docLink = document.createElement('div');\n",
              "          docLink.innerHTML = docLinkHtml;\n",
              "          element.appendChild(docLink);\n",
              "        }\n",
              "      </script>\n",
              "    </div>\n",
              "  </div>\n",
              "  "
            ],
            "text/plain": [
              "           id     price  bedrooms  ...     long  sqft_living15  sqft_lot15\n",
              "0  7129300520  221900.0         3  ... -122.257           1340        5650\n",
              "1  6414100192  538000.0         3  ... -122.319           1690        7639\n",
              "2  5631500400  180000.0         2  ... -122.233           2720        8062\n",
              "3  2487200875  604000.0         4  ... -122.393           1360        5000\n",
              "4  1954400510  510000.0         3  ... -122.045           1800        7503\n",
              "\n",
              "[5 rows x 20 columns]"
            ]
          },
          "metadata": {},
          "execution_count": 104
        }
      ]
    },
    {
      "cell_type": "code",
      "source": [
        "# Previewing the bottom of our dataset\n",
        "sale.tail()"
      ],
      "metadata": {
        "colab": {
          "base_uri": "https://localhost:8080/",
          "height": 270
        },
        "id": "uMrQ3tUdVhWi",
        "outputId": "8537711d-f3e0-45fc-e9a1-e705f07c694b"
      },
      "execution_count": null,
      "outputs": [
        {
          "output_type": "execute_result",
          "data": {
            "text/html": [
              "\n",
              "  <div id=\"df-c6dd583d-ebce-493d-aa77-f9f8667f6618\">\n",
              "    <div class=\"colab-df-container\">\n",
              "      <div>\n",
              "<style scoped>\n",
              "    .dataframe tbody tr th:only-of-type {\n",
              "        vertical-align: middle;\n",
              "    }\n",
              "\n",
              "    .dataframe tbody tr th {\n",
              "        vertical-align: top;\n",
              "    }\n",
              "\n",
              "    .dataframe thead th {\n",
              "        text-align: right;\n",
              "    }\n",
              "</style>\n",
              "<table border=\"1\" class=\"dataframe\">\n",
              "  <thead>\n",
              "    <tr style=\"text-align: right;\">\n",
              "      <th></th>\n",
              "      <th>id</th>\n",
              "      <th>price</th>\n",
              "      <th>bedrooms</th>\n",
              "      <th>bathrooms</th>\n",
              "      <th>sqft_living</th>\n",
              "      <th>sqft_lot</th>\n",
              "      <th>floors</th>\n",
              "      <th>waterfront</th>\n",
              "      <th>view</th>\n",
              "      <th>condition</th>\n",
              "      <th>grade</th>\n",
              "      <th>sqft_above</th>\n",
              "      <th>sqft_basement</th>\n",
              "      <th>yr_built</th>\n",
              "      <th>yr_renovated</th>\n",
              "      <th>zipcode</th>\n",
              "      <th>lat</th>\n",
              "      <th>long</th>\n",
              "      <th>sqft_living15</th>\n",
              "      <th>sqft_lot15</th>\n",
              "    </tr>\n",
              "  </thead>\n",
              "  <tbody>\n",
              "    <tr>\n",
              "      <th>21608</th>\n",
              "      <td>263000018</td>\n",
              "      <td>360000.0</td>\n",
              "      <td>3</td>\n",
              "      <td>2.50</td>\n",
              "      <td>1530</td>\n",
              "      <td>1131</td>\n",
              "      <td>3.0</td>\n",
              "      <td>0</td>\n",
              "      <td>0</td>\n",
              "      <td>3</td>\n",
              "      <td>8</td>\n",
              "      <td>1530</td>\n",
              "      <td>0</td>\n",
              "      <td>2009</td>\n",
              "      <td>0</td>\n",
              "      <td>98103</td>\n",
              "      <td>47.6993</td>\n",
              "      <td>-122.346</td>\n",
              "      <td>1530</td>\n",
              "      <td>1509</td>\n",
              "    </tr>\n",
              "    <tr>\n",
              "      <th>21609</th>\n",
              "      <td>6600060120</td>\n",
              "      <td>400000.0</td>\n",
              "      <td>4</td>\n",
              "      <td>2.50</td>\n",
              "      <td>2310</td>\n",
              "      <td>5813</td>\n",
              "      <td>2.0</td>\n",
              "      <td>0</td>\n",
              "      <td>0</td>\n",
              "      <td>3</td>\n",
              "      <td>8</td>\n",
              "      <td>2310</td>\n",
              "      <td>0</td>\n",
              "      <td>2014</td>\n",
              "      <td>0</td>\n",
              "      <td>98146</td>\n",
              "      <td>47.5107</td>\n",
              "      <td>-122.362</td>\n",
              "      <td>1830</td>\n",
              "      <td>7200</td>\n",
              "    </tr>\n",
              "    <tr>\n",
              "      <th>21610</th>\n",
              "      <td>1523300141</td>\n",
              "      <td>402101.0</td>\n",
              "      <td>2</td>\n",
              "      <td>0.75</td>\n",
              "      <td>1020</td>\n",
              "      <td>1350</td>\n",
              "      <td>2.0</td>\n",
              "      <td>0</td>\n",
              "      <td>0</td>\n",
              "      <td>3</td>\n",
              "      <td>7</td>\n",
              "      <td>1020</td>\n",
              "      <td>0</td>\n",
              "      <td>2009</td>\n",
              "      <td>0</td>\n",
              "      <td>98144</td>\n",
              "      <td>47.5944</td>\n",
              "      <td>-122.299</td>\n",
              "      <td>1020</td>\n",
              "      <td>2007</td>\n",
              "    </tr>\n",
              "    <tr>\n",
              "      <th>21611</th>\n",
              "      <td>291310100</td>\n",
              "      <td>400000.0</td>\n",
              "      <td>3</td>\n",
              "      <td>2.50</td>\n",
              "      <td>1600</td>\n",
              "      <td>2388</td>\n",
              "      <td>2.0</td>\n",
              "      <td>0</td>\n",
              "      <td>0</td>\n",
              "      <td>3</td>\n",
              "      <td>8</td>\n",
              "      <td>1600</td>\n",
              "      <td>0</td>\n",
              "      <td>2004</td>\n",
              "      <td>0</td>\n",
              "      <td>98027</td>\n",
              "      <td>47.5345</td>\n",
              "      <td>-122.069</td>\n",
              "      <td>1410</td>\n",
              "      <td>1287</td>\n",
              "    </tr>\n",
              "    <tr>\n",
              "      <th>21612</th>\n",
              "      <td>1523300157</td>\n",
              "      <td>325000.0</td>\n",
              "      <td>2</td>\n",
              "      <td>0.75</td>\n",
              "      <td>1020</td>\n",
              "      <td>1076</td>\n",
              "      <td>2.0</td>\n",
              "      <td>0</td>\n",
              "      <td>0</td>\n",
              "      <td>3</td>\n",
              "      <td>7</td>\n",
              "      <td>1020</td>\n",
              "      <td>0</td>\n",
              "      <td>2008</td>\n",
              "      <td>0</td>\n",
              "      <td>98144</td>\n",
              "      <td>47.5941</td>\n",
              "      <td>-122.299</td>\n",
              "      <td>1020</td>\n",
              "      <td>1357</td>\n",
              "    </tr>\n",
              "  </tbody>\n",
              "</table>\n",
              "</div>\n",
              "      <button class=\"colab-df-convert\" onclick=\"convertToInteractive('df-c6dd583d-ebce-493d-aa77-f9f8667f6618')\"\n",
              "              title=\"Convert this dataframe to an interactive table.\"\n",
              "              style=\"display:none;\">\n",
              "        \n",
              "  <svg xmlns=\"http://www.w3.org/2000/svg\" height=\"24px\"viewBox=\"0 0 24 24\"\n",
              "       width=\"24px\">\n",
              "    <path d=\"M0 0h24v24H0V0z\" fill=\"none\"/>\n",
              "    <path d=\"M18.56 5.44l.94 2.06.94-2.06 2.06-.94-2.06-.94-.94-2.06-.94 2.06-2.06.94zm-11 1L8.5 8.5l.94-2.06 2.06-.94-2.06-.94L8.5 2.5l-.94 2.06-2.06.94zm10 10l.94 2.06.94-2.06 2.06-.94-2.06-.94-.94-2.06-.94 2.06-2.06.94z\"/><path d=\"M17.41 7.96l-1.37-1.37c-.4-.4-.92-.59-1.43-.59-.52 0-1.04.2-1.43.59L10.3 9.45l-7.72 7.72c-.78.78-.78 2.05 0 2.83L4 21.41c.39.39.9.59 1.41.59.51 0 1.02-.2 1.41-.59l7.78-7.78 2.81-2.81c.8-.78.8-2.07 0-2.86zM5.41 20L4 18.59l7.72-7.72 1.47 1.35L5.41 20z\"/>\n",
              "  </svg>\n",
              "      </button>\n",
              "      \n",
              "  <style>\n",
              "    .colab-df-container {\n",
              "      display:flex;\n",
              "      flex-wrap:wrap;\n",
              "      gap: 12px;\n",
              "    }\n",
              "\n",
              "    .colab-df-convert {\n",
              "      background-color: #E8F0FE;\n",
              "      border: none;\n",
              "      border-radius: 50%;\n",
              "      cursor: pointer;\n",
              "      display: none;\n",
              "      fill: #1967D2;\n",
              "      height: 32px;\n",
              "      padding: 0 0 0 0;\n",
              "      width: 32px;\n",
              "    }\n",
              "\n",
              "    .colab-df-convert:hover {\n",
              "      background-color: #E2EBFA;\n",
              "      box-shadow: 0px 1px 2px rgba(60, 64, 67, 0.3), 0px 1px 3px 1px rgba(60, 64, 67, 0.15);\n",
              "      fill: #174EA6;\n",
              "    }\n",
              "\n",
              "    [theme=dark] .colab-df-convert {\n",
              "      background-color: #3B4455;\n",
              "      fill: #D2E3FC;\n",
              "    }\n",
              "\n",
              "    [theme=dark] .colab-df-convert:hover {\n",
              "      background-color: #434B5C;\n",
              "      box-shadow: 0px 1px 3px 1px rgba(0, 0, 0, 0.15);\n",
              "      filter: drop-shadow(0px 1px 2px rgba(0, 0, 0, 0.3));\n",
              "      fill: #FFFFFF;\n",
              "    }\n",
              "  </style>\n",
              "\n",
              "      <script>\n",
              "        const buttonEl =\n",
              "          document.querySelector('#df-c6dd583d-ebce-493d-aa77-f9f8667f6618 button.colab-df-convert');\n",
              "        buttonEl.style.display =\n",
              "          google.colab.kernel.accessAllowed ? 'block' : 'none';\n",
              "\n",
              "        async function convertToInteractive(key) {\n",
              "          const element = document.querySelector('#df-c6dd583d-ebce-493d-aa77-f9f8667f6618');\n",
              "          const dataTable =\n",
              "            await google.colab.kernel.invokeFunction('convertToInteractive',\n",
              "                                                     [key], {});\n",
              "          if (!dataTable) return;\n",
              "\n",
              "          const docLinkHtml = 'Like what you see? Visit the ' +\n",
              "            '<a target=\"_blank\" href=https://colab.research.google.com/notebooks/data_table.ipynb>data table notebook</a>'\n",
              "            + ' to learn more about interactive tables.';\n",
              "          element.innerHTML = '';\n",
              "          dataTable['output_type'] = 'display_data';\n",
              "          await google.colab.output.renderOutput(dataTable, element);\n",
              "          const docLink = document.createElement('div');\n",
              "          docLink.innerHTML = docLinkHtml;\n",
              "          element.appendChild(docLink);\n",
              "        }\n",
              "      </script>\n",
              "    </div>\n",
              "  </div>\n",
              "  "
            ],
            "text/plain": [
              "               id     price  bedrooms  ...     long  sqft_living15  sqft_lot15\n",
              "21608   263000018  360000.0         3  ... -122.346           1530        1509\n",
              "21609  6600060120  400000.0         4  ... -122.362           1830        7200\n",
              "21610  1523300141  402101.0         2  ... -122.299           1020        2007\n",
              "21611   291310100  400000.0         3  ... -122.069           1410        1287\n",
              "21612  1523300157  325000.0         2  ... -122.299           1020        1357\n",
              "\n",
              "[5 rows x 20 columns]"
            ]
          },
          "metadata": {},
          "execution_count": 105
        }
      ]
    },
    {
      "cell_type": "code",
      "source": [
        "# Checking our dataframe's information\n",
        "sale.info()"
      ],
      "metadata": {
        "colab": {
          "base_uri": "https://localhost:8080/"
        },
        "id": "j2wMYeJSVK6c",
        "outputId": "1cdfbb6d-79f2-453d-bc2e-ba574b202220"
      },
      "execution_count": null,
      "outputs": [
        {
          "output_type": "stream",
          "name": "stdout",
          "text": [
            "<class 'pandas.core.frame.DataFrame'>\n",
            "RangeIndex: 21613 entries, 0 to 21612\n",
            "Data columns (total 20 columns):\n",
            " #   Column         Non-Null Count  Dtype  \n",
            "---  ------         --------------  -----  \n",
            " 0   id             21613 non-null  int64  \n",
            " 1   price          21613 non-null  float64\n",
            " 2   bedrooms       21613 non-null  int64  \n",
            " 3   bathrooms      21613 non-null  float64\n",
            " 4   sqft_living    21613 non-null  int64  \n",
            " 5   sqft_lot       21613 non-null  int64  \n",
            " 6   floors         21613 non-null  float64\n",
            " 7   waterfront     21613 non-null  int64  \n",
            " 8   view           21613 non-null  int64  \n",
            " 9   condition      21613 non-null  int64  \n",
            " 10  grade          21613 non-null  int64  \n",
            " 11  sqft_above     21613 non-null  int64  \n",
            " 12  sqft_basement  21613 non-null  int64  \n",
            " 13  yr_built       21613 non-null  int64  \n",
            " 14  yr_renovated   21613 non-null  int64  \n",
            " 15  zipcode        21613 non-null  int64  \n",
            " 16  lat            21613 non-null  float64\n",
            " 17  long           21613 non-null  float64\n",
            " 18  sqft_living15  21613 non-null  int64  \n",
            " 19  sqft_lot15     21613 non-null  int64  \n",
            "dtypes: float64(5), int64(15)\n",
            "memory usage: 3.3 MB\n"
          ]
        }
      ]
    },
    {
      "cell_type": "markdown",
      "source": [
        "Most of our data are in float and integer datatypes"
      ],
      "metadata": {
        "id": "YphGp5lIV9m4"
      }
    },
    {
      "cell_type": "code",
      "source": [
        "# Checking the statistical information\n",
        "sale.describe()"
      ],
      "metadata": {
        "colab": {
          "base_uri": "https://localhost:8080/",
          "height": 363
        },
        "id": "ai7mqJOOWC8-",
        "outputId": "1f92b083-06b3-4721-847b-7572a83273cb"
      },
      "execution_count": null,
      "outputs": [
        {
          "output_type": "execute_result",
          "data": {
            "text/html": [
              "\n",
              "  <div id=\"df-f0c216b3-1352-4838-99b8-6c9d4b253860\">\n",
              "    <div class=\"colab-df-container\">\n",
              "      <div>\n",
              "<style scoped>\n",
              "    .dataframe tbody tr th:only-of-type {\n",
              "        vertical-align: middle;\n",
              "    }\n",
              "\n",
              "    .dataframe tbody tr th {\n",
              "        vertical-align: top;\n",
              "    }\n",
              "\n",
              "    .dataframe thead th {\n",
              "        text-align: right;\n",
              "    }\n",
              "</style>\n",
              "<table border=\"1\" class=\"dataframe\">\n",
              "  <thead>\n",
              "    <tr style=\"text-align: right;\">\n",
              "      <th></th>\n",
              "      <th>id</th>\n",
              "      <th>price</th>\n",
              "      <th>bedrooms</th>\n",
              "      <th>bathrooms</th>\n",
              "      <th>sqft_living</th>\n",
              "      <th>sqft_lot</th>\n",
              "      <th>floors</th>\n",
              "      <th>waterfront</th>\n",
              "      <th>view</th>\n",
              "      <th>condition</th>\n",
              "      <th>grade</th>\n",
              "      <th>sqft_above</th>\n",
              "      <th>sqft_basement</th>\n",
              "      <th>yr_built</th>\n",
              "      <th>yr_renovated</th>\n",
              "      <th>zipcode</th>\n",
              "      <th>lat</th>\n",
              "      <th>long</th>\n",
              "      <th>sqft_living15</th>\n",
              "      <th>sqft_lot15</th>\n",
              "    </tr>\n",
              "  </thead>\n",
              "  <tbody>\n",
              "    <tr>\n",
              "      <th>count</th>\n",
              "      <td>2.161300e+04</td>\n",
              "      <td>2.161300e+04</td>\n",
              "      <td>21613.000000</td>\n",
              "      <td>21613.000000</td>\n",
              "      <td>21613.000000</td>\n",
              "      <td>2.161300e+04</td>\n",
              "      <td>21613.000000</td>\n",
              "      <td>21613.000000</td>\n",
              "      <td>21613.000000</td>\n",
              "      <td>21613.000000</td>\n",
              "      <td>21613.000000</td>\n",
              "      <td>21613.000000</td>\n",
              "      <td>21613.000000</td>\n",
              "      <td>21613.000000</td>\n",
              "      <td>21613.000000</td>\n",
              "      <td>21613.000000</td>\n",
              "      <td>21613.000000</td>\n",
              "      <td>21613.000000</td>\n",
              "      <td>21613.000000</td>\n",
              "      <td>21613.000000</td>\n",
              "    </tr>\n",
              "    <tr>\n",
              "      <th>mean</th>\n",
              "      <td>4.580302e+09</td>\n",
              "      <td>5.401822e+05</td>\n",
              "      <td>3.370842</td>\n",
              "      <td>2.114757</td>\n",
              "      <td>2079.899736</td>\n",
              "      <td>1.510697e+04</td>\n",
              "      <td>1.494309</td>\n",
              "      <td>0.007542</td>\n",
              "      <td>0.234303</td>\n",
              "      <td>3.409430</td>\n",
              "      <td>7.656873</td>\n",
              "      <td>1788.390691</td>\n",
              "      <td>291.509045</td>\n",
              "      <td>1971.005136</td>\n",
              "      <td>84.402258</td>\n",
              "      <td>98077.939805</td>\n",
              "      <td>47.560053</td>\n",
              "      <td>-122.213896</td>\n",
              "      <td>1986.552492</td>\n",
              "      <td>12768.455652</td>\n",
              "    </tr>\n",
              "    <tr>\n",
              "      <th>std</th>\n",
              "      <td>2.876566e+09</td>\n",
              "      <td>3.673622e+05</td>\n",
              "      <td>0.930062</td>\n",
              "      <td>0.770163</td>\n",
              "      <td>918.440897</td>\n",
              "      <td>4.142051e+04</td>\n",
              "      <td>0.539989</td>\n",
              "      <td>0.086517</td>\n",
              "      <td>0.766318</td>\n",
              "      <td>0.650743</td>\n",
              "      <td>1.175459</td>\n",
              "      <td>828.090978</td>\n",
              "      <td>442.575043</td>\n",
              "      <td>29.373411</td>\n",
              "      <td>401.679240</td>\n",
              "      <td>53.505026</td>\n",
              "      <td>0.138564</td>\n",
              "      <td>0.140828</td>\n",
              "      <td>685.391304</td>\n",
              "      <td>27304.179631</td>\n",
              "    </tr>\n",
              "    <tr>\n",
              "      <th>min</th>\n",
              "      <td>1.000102e+06</td>\n",
              "      <td>7.500000e+04</td>\n",
              "      <td>0.000000</td>\n",
              "      <td>0.000000</td>\n",
              "      <td>290.000000</td>\n",
              "      <td>5.200000e+02</td>\n",
              "      <td>1.000000</td>\n",
              "      <td>0.000000</td>\n",
              "      <td>0.000000</td>\n",
              "      <td>1.000000</td>\n",
              "      <td>1.000000</td>\n",
              "      <td>290.000000</td>\n",
              "      <td>0.000000</td>\n",
              "      <td>1900.000000</td>\n",
              "      <td>0.000000</td>\n",
              "      <td>98001.000000</td>\n",
              "      <td>47.155900</td>\n",
              "      <td>-122.519000</td>\n",
              "      <td>399.000000</td>\n",
              "      <td>651.000000</td>\n",
              "    </tr>\n",
              "    <tr>\n",
              "      <th>25%</th>\n",
              "      <td>2.123049e+09</td>\n",
              "      <td>3.219500e+05</td>\n",
              "      <td>3.000000</td>\n",
              "      <td>1.750000</td>\n",
              "      <td>1427.000000</td>\n",
              "      <td>5.040000e+03</td>\n",
              "      <td>1.000000</td>\n",
              "      <td>0.000000</td>\n",
              "      <td>0.000000</td>\n",
              "      <td>3.000000</td>\n",
              "      <td>7.000000</td>\n",
              "      <td>1190.000000</td>\n",
              "      <td>0.000000</td>\n",
              "      <td>1951.000000</td>\n",
              "      <td>0.000000</td>\n",
              "      <td>98033.000000</td>\n",
              "      <td>47.471000</td>\n",
              "      <td>-122.328000</td>\n",
              "      <td>1490.000000</td>\n",
              "      <td>5100.000000</td>\n",
              "    </tr>\n",
              "    <tr>\n",
              "      <th>50%</th>\n",
              "      <td>3.904930e+09</td>\n",
              "      <td>4.500000e+05</td>\n",
              "      <td>3.000000</td>\n",
              "      <td>2.250000</td>\n",
              "      <td>1910.000000</td>\n",
              "      <td>7.618000e+03</td>\n",
              "      <td>1.500000</td>\n",
              "      <td>0.000000</td>\n",
              "      <td>0.000000</td>\n",
              "      <td>3.000000</td>\n",
              "      <td>7.000000</td>\n",
              "      <td>1560.000000</td>\n",
              "      <td>0.000000</td>\n",
              "      <td>1975.000000</td>\n",
              "      <td>0.000000</td>\n",
              "      <td>98065.000000</td>\n",
              "      <td>47.571800</td>\n",
              "      <td>-122.230000</td>\n",
              "      <td>1840.000000</td>\n",
              "      <td>7620.000000</td>\n",
              "    </tr>\n",
              "    <tr>\n",
              "      <th>75%</th>\n",
              "      <td>7.308900e+09</td>\n",
              "      <td>6.450000e+05</td>\n",
              "      <td>4.000000</td>\n",
              "      <td>2.500000</td>\n",
              "      <td>2550.000000</td>\n",
              "      <td>1.068800e+04</td>\n",
              "      <td>2.000000</td>\n",
              "      <td>0.000000</td>\n",
              "      <td>0.000000</td>\n",
              "      <td>4.000000</td>\n",
              "      <td>8.000000</td>\n",
              "      <td>2210.000000</td>\n",
              "      <td>560.000000</td>\n",
              "      <td>1997.000000</td>\n",
              "      <td>0.000000</td>\n",
              "      <td>98118.000000</td>\n",
              "      <td>47.678000</td>\n",
              "      <td>-122.125000</td>\n",
              "      <td>2360.000000</td>\n",
              "      <td>10083.000000</td>\n",
              "    </tr>\n",
              "    <tr>\n",
              "      <th>max</th>\n",
              "      <td>9.900000e+09</td>\n",
              "      <td>7.700000e+06</td>\n",
              "      <td>33.000000</td>\n",
              "      <td>8.000000</td>\n",
              "      <td>13540.000000</td>\n",
              "      <td>1.651359e+06</td>\n",
              "      <td>3.500000</td>\n",
              "      <td>1.000000</td>\n",
              "      <td>4.000000</td>\n",
              "      <td>5.000000</td>\n",
              "      <td>13.000000</td>\n",
              "      <td>9410.000000</td>\n",
              "      <td>4820.000000</td>\n",
              "      <td>2015.000000</td>\n",
              "      <td>2015.000000</td>\n",
              "      <td>98199.000000</td>\n",
              "      <td>47.777600</td>\n",
              "      <td>-121.315000</td>\n",
              "      <td>6210.000000</td>\n",
              "      <td>871200.000000</td>\n",
              "    </tr>\n",
              "  </tbody>\n",
              "</table>\n",
              "</div>\n",
              "      <button class=\"colab-df-convert\" onclick=\"convertToInteractive('df-f0c216b3-1352-4838-99b8-6c9d4b253860')\"\n",
              "              title=\"Convert this dataframe to an interactive table.\"\n",
              "              style=\"display:none;\">\n",
              "        \n",
              "  <svg xmlns=\"http://www.w3.org/2000/svg\" height=\"24px\"viewBox=\"0 0 24 24\"\n",
              "       width=\"24px\">\n",
              "    <path d=\"M0 0h24v24H0V0z\" fill=\"none\"/>\n",
              "    <path d=\"M18.56 5.44l.94 2.06.94-2.06 2.06-.94-2.06-.94-.94-2.06-.94 2.06-2.06.94zm-11 1L8.5 8.5l.94-2.06 2.06-.94-2.06-.94L8.5 2.5l-.94 2.06-2.06.94zm10 10l.94 2.06.94-2.06 2.06-.94-2.06-.94-.94-2.06-.94 2.06-2.06.94z\"/><path d=\"M17.41 7.96l-1.37-1.37c-.4-.4-.92-.59-1.43-.59-.52 0-1.04.2-1.43.59L10.3 9.45l-7.72 7.72c-.78.78-.78 2.05 0 2.83L4 21.41c.39.39.9.59 1.41.59.51 0 1.02-.2 1.41-.59l7.78-7.78 2.81-2.81c.8-.78.8-2.07 0-2.86zM5.41 20L4 18.59l7.72-7.72 1.47 1.35L5.41 20z\"/>\n",
              "  </svg>\n",
              "      </button>\n",
              "      \n",
              "  <style>\n",
              "    .colab-df-container {\n",
              "      display:flex;\n",
              "      flex-wrap:wrap;\n",
              "      gap: 12px;\n",
              "    }\n",
              "\n",
              "    .colab-df-convert {\n",
              "      background-color: #E8F0FE;\n",
              "      border: none;\n",
              "      border-radius: 50%;\n",
              "      cursor: pointer;\n",
              "      display: none;\n",
              "      fill: #1967D2;\n",
              "      height: 32px;\n",
              "      padding: 0 0 0 0;\n",
              "      width: 32px;\n",
              "    }\n",
              "\n",
              "    .colab-df-convert:hover {\n",
              "      background-color: #E2EBFA;\n",
              "      box-shadow: 0px 1px 2px rgba(60, 64, 67, 0.3), 0px 1px 3px 1px rgba(60, 64, 67, 0.15);\n",
              "      fill: #174EA6;\n",
              "    }\n",
              "\n",
              "    [theme=dark] .colab-df-convert {\n",
              "      background-color: #3B4455;\n",
              "      fill: #D2E3FC;\n",
              "    }\n",
              "\n",
              "    [theme=dark] .colab-df-convert:hover {\n",
              "      background-color: #434B5C;\n",
              "      box-shadow: 0px 1px 3px 1px rgba(0, 0, 0, 0.15);\n",
              "      filter: drop-shadow(0px 1px 2px rgba(0, 0, 0, 0.3));\n",
              "      fill: #FFFFFF;\n",
              "    }\n",
              "  </style>\n",
              "\n",
              "      <script>\n",
              "        const buttonEl =\n",
              "          document.querySelector('#df-f0c216b3-1352-4838-99b8-6c9d4b253860 button.colab-df-convert');\n",
              "        buttonEl.style.display =\n",
              "          google.colab.kernel.accessAllowed ? 'block' : 'none';\n",
              "\n",
              "        async function convertToInteractive(key) {\n",
              "          const element = document.querySelector('#df-f0c216b3-1352-4838-99b8-6c9d4b253860');\n",
              "          const dataTable =\n",
              "            await google.colab.kernel.invokeFunction('convertToInteractive',\n",
              "                                                     [key], {});\n",
              "          if (!dataTable) return;\n",
              "\n",
              "          const docLinkHtml = 'Like what you see? Visit the ' +\n",
              "            '<a target=\"_blank\" href=https://colab.research.google.com/notebooks/data_table.ipynb>data table notebook</a>'\n",
              "            + ' to learn more about interactive tables.';\n",
              "          element.innerHTML = '';\n",
              "          dataTable['output_type'] = 'display_data';\n",
              "          await google.colab.output.renderOutput(dataTable, element);\n",
              "          const docLink = document.createElement('div');\n",
              "          docLink.innerHTML = docLinkHtml;\n",
              "          element.appendChild(docLink);\n",
              "        }\n",
              "      </script>\n",
              "    </div>\n",
              "  </div>\n",
              "  "
            ],
            "text/plain": [
              "                 id         price  ...  sqft_living15     sqft_lot15\n",
              "count  2.161300e+04  2.161300e+04  ...   21613.000000   21613.000000\n",
              "mean   4.580302e+09  5.401822e+05  ...    1986.552492   12768.455652\n",
              "std    2.876566e+09  3.673622e+05  ...     685.391304   27304.179631\n",
              "min    1.000102e+06  7.500000e+04  ...     399.000000     651.000000\n",
              "25%    2.123049e+09  3.219500e+05  ...    1490.000000    5100.000000\n",
              "50%    3.904930e+09  4.500000e+05  ...    1840.000000    7620.000000\n",
              "75%    7.308900e+09  6.450000e+05  ...    2360.000000   10083.000000\n",
              "max    9.900000e+09  7.700000e+06  ...    6210.000000  871200.000000\n",
              "\n",
              "[8 rows x 20 columns]"
            ]
          },
          "metadata": {},
          "execution_count": 107
        }
      ]
    },
    {
      "cell_type": "code",
      "source": [
        "# Checking the column names \n",
        "print('The column names in our dataset are :')\n",
        "sale.columns"
      ],
      "metadata": {
        "colab": {
          "base_uri": "https://localhost:8080/"
        },
        "id": "ZGRHtmUVWRRN",
        "outputId": "650b90b5-e622-4ca0-93bd-ac9385244d58"
      },
      "execution_count": null,
      "outputs": [
        {
          "output_type": "stream",
          "name": "stdout",
          "text": [
            "The column names in our dataset are :\n"
          ]
        },
        {
          "output_type": "execute_result",
          "data": {
            "text/plain": [
              "Index(['id', 'price', 'bedrooms', 'bathrooms', 'sqft_living', 'sqft_lot',\n",
              "       'floors', 'waterfront', 'view', 'condition', 'grade', 'sqft_above',\n",
              "       'sqft_basement', 'yr_built', 'yr_renovated', 'zipcode', 'lat', 'long',\n",
              "       'sqft_living15', 'sqft_lot15'],\n",
              "      dtype='object')"
            ]
          },
          "metadata": {},
          "execution_count": 108
        }
      ]
    },
    {
      "cell_type": "code",
      "source": [
        "# Checking for null values\n",
        "sale.isnull().sum()"
      ],
      "metadata": {
        "colab": {
          "base_uri": "https://localhost:8080/"
        },
        "id": "e3gGh8C3WdG2",
        "outputId": "ae6ec2cd-fc02-47c8-a2e2-51474432d839"
      },
      "execution_count": null,
      "outputs": [
        {
          "output_type": "execute_result",
          "data": {
            "text/plain": [
              "id               0\n",
              "price            0\n",
              "bedrooms         0\n",
              "bathrooms        0\n",
              "sqft_living      0\n",
              "sqft_lot         0\n",
              "floors           0\n",
              "waterfront       0\n",
              "view             0\n",
              "condition        0\n",
              "grade            0\n",
              "sqft_above       0\n",
              "sqft_basement    0\n",
              "yr_built         0\n",
              "yr_renovated     0\n",
              "zipcode          0\n",
              "lat              0\n",
              "long             0\n",
              "sqft_living15    0\n",
              "sqft_lot15       0\n",
              "dtype: int64"
            ]
          },
          "metadata": {},
          "execution_count": 109
        }
      ]
    },
    {
      "cell_type": "markdown",
      "source": [
        "We have no null values in our dataframe"
      ],
      "metadata": {
        "id": "qP2HQR_zWjoy"
      }
    },
    {
      "cell_type": "code",
      "source": [
        "# Check for duplicate values \n",
        "sale.duplicated().sum()"
      ],
      "metadata": {
        "colab": {
          "base_uri": "https://localhost:8080/"
        },
        "id": "JNLFPjoHWzyA",
        "outputId": "940f72b9-e286-4e5e-a916-774092b38855"
      },
      "execution_count": null,
      "outputs": [
        {
          "output_type": "execute_result",
          "data": {
            "text/plain": [
              "3"
            ]
          },
          "metadata": {},
          "execution_count": 110
        }
      ]
    },
    {
      "cell_type": "markdown",
      "source": [
        "We have 3 duplicates"
      ],
      "metadata": {
        "id": "QEUX3-qVW7fk"
      }
    },
    {
      "cell_type": "code",
      "source": [
        "# Confirm the duplicated rows\n",
        "duplicate = sale[sale.duplicated()]\n",
        "print(\"Duplicate Rows :\")\n",
        "duplicate"
      ],
      "metadata": {
        "colab": {
          "base_uri": "https://localhost:8080/",
          "height": 225
        },
        "id": "sZOh17fdXAke",
        "outputId": "b7a181c0-909d-4980-91df-01cde031da88"
      },
      "execution_count": null,
      "outputs": [
        {
          "output_type": "stream",
          "name": "stdout",
          "text": [
            "Duplicate Rows :\n"
          ]
        },
        {
          "output_type": "execute_result",
          "data": {
            "text/html": [
              "\n",
              "  <div id=\"df-725d0d36-76d6-4875-8218-f7faa8045201\">\n",
              "    <div class=\"colab-df-container\">\n",
              "      <div>\n",
              "<style scoped>\n",
              "    .dataframe tbody tr th:only-of-type {\n",
              "        vertical-align: middle;\n",
              "    }\n",
              "\n",
              "    .dataframe tbody tr th {\n",
              "        vertical-align: top;\n",
              "    }\n",
              "\n",
              "    .dataframe thead th {\n",
              "        text-align: right;\n",
              "    }\n",
              "</style>\n",
              "<table border=\"1\" class=\"dataframe\">\n",
              "  <thead>\n",
              "    <tr style=\"text-align: right;\">\n",
              "      <th></th>\n",
              "      <th>id</th>\n",
              "      <th>price</th>\n",
              "      <th>bedrooms</th>\n",
              "      <th>bathrooms</th>\n",
              "      <th>sqft_living</th>\n",
              "      <th>sqft_lot</th>\n",
              "      <th>floors</th>\n",
              "      <th>waterfront</th>\n",
              "      <th>view</th>\n",
              "      <th>condition</th>\n",
              "      <th>grade</th>\n",
              "      <th>sqft_above</th>\n",
              "      <th>sqft_basement</th>\n",
              "      <th>yr_built</th>\n",
              "      <th>yr_renovated</th>\n",
              "      <th>zipcode</th>\n",
              "      <th>lat</th>\n",
              "      <th>long</th>\n",
              "      <th>sqft_living15</th>\n",
              "      <th>sqft_lot15</th>\n",
              "    </tr>\n",
              "  </thead>\n",
              "  <tbody>\n",
              "    <tr>\n",
              "      <th>3951</th>\n",
              "      <td>1825069031</td>\n",
              "      <td>550000.0</td>\n",
              "      <td>4</td>\n",
              "      <td>1.75</td>\n",
              "      <td>2410</td>\n",
              "      <td>8447</td>\n",
              "      <td>2.0</td>\n",
              "      <td>0</td>\n",
              "      <td>3</td>\n",
              "      <td>4</td>\n",
              "      <td>8</td>\n",
              "      <td>2060</td>\n",
              "      <td>350</td>\n",
              "      <td>1936</td>\n",
              "      <td>1980</td>\n",
              "      <td>98074</td>\n",
              "      <td>47.6499</td>\n",
              "      <td>-122.088</td>\n",
              "      <td>2520</td>\n",
              "      <td>14789</td>\n",
              "    </tr>\n",
              "    <tr>\n",
              "      <th>14983</th>\n",
              "      <td>6308000010</td>\n",
              "      <td>585000.0</td>\n",
              "      <td>3</td>\n",
              "      <td>2.50</td>\n",
              "      <td>2290</td>\n",
              "      <td>5089</td>\n",
              "      <td>2.0</td>\n",
              "      <td>0</td>\n",
              "      <td>0</td>\n",
              "      <td>3</td>\n",
              "      <td>9</td>\n",
              "      <td>2290</td>\n",
              "      <td>0</td>\n",
              "      <td>2001</td>\n",
              "      <td>0</td>\n",
              "      <td>98006</td>\n",
              "      <td>47.5443</td>\n",
              "      <td>-122.172</td>\n",
              "      <td>2290</td>\n",
              "      <td>7984</td>\n",
              "    </tr>\n",
              "    <tr>\n",
              "      <th>20054</th>\n",
              "      <td>8648900110</td>\n",
              "      <td>555000.0</td>\n",
              "      <td>3</td>\n",
              "      <td>2.50</td>\n",
              "      <td>1940</td>\n",
              "      <td>3211</td>\n",
              "      <td>2.0</td>\n",
              "      <td>0</td>\n",
              "      <td>0</td>\n",
              "      <td>3</td>\n",
              "      <td>8</td>\n",
              "      <td>1940</td>\n",
              "      <td>0</td>\n",
              "      <td>2009</td>\n",
              "      <td>0</td>\n",
              "      <td>98027</td>\n",
              "      <td>47.5644</td>\n",
              "      <td>-122.093</td>\n",
              "      <td>1880</td>\n",
              "      <td>3078</td>\n",
              "    </tr>\n",
              "  </tbody>\n",
              "</table>\n",
              "</div>\n",
              "      <button class=\"colab-df-convert\" onclick=\"convertToInteractive('df-725d0d36-76d6-4875-8218-f7faa8045201')\"\n",
              "              title=\"Convert this dataframe to an interactive table.\"\n",
              "              style=\"display:none;\">\n",
              "        \n",
              "  <svg xmlns=\"http://www.w3.org/2000/svg\" height=\"24px\"viewBox=\"0 0 24 24\"\n",
              "       width=\"24px\">\n",
              "    <path d=\"M0 0h24v24H0V0z\" fill=\"none\"/>\n",
              "    <path d=\"M18.56 5.44l.94 2.06.94-2.06 2.06-.94-2.06-.94-.94-2.06-.94 2.06-2.06.94zm-11 1L8.5 8.5l.94-2.06 2.06-.94-2.06-.94L8.5 2.5l-.94 2.06-2.06.94zm10 10l.94 2.06.94-2.06 2.06-.94-2.06-.94-.94-2.06-.94 2.06-2.06.94z\"/><path d=\"M17.41 7.96l-1.37-1.37c-.4-.4-.92-.59-1.43-.59-.52 0-1.04.2-1.43.59L10.3 9.45l-7.72 7.72c-.78.78-.78 2.05 0 2.83L4 21.41c.39.39.9.59 1.41.59.51 0 1.02-.2 1.41-.59l7.78-7.78 2.81-2.81c.8-.78.8-2.07 0-2.86zM5.41 20L4 18.59l7.72-7.72 1.47 1.35L5.41 20z\"/>\n",
              "  </svg>\n",
              "      </button>\n",
              "      \n",
              "  <style>\n",
              "    .colab-df-container {\n",
              "      display:flex;\n",
              "      flex-wrap:wrap;\n",
              "      gap: 12px;\n",
              "    }\n",
              "\n",
              "    .colab-df-convert {\n",
              "      background-color: #E8F0FE;\n",
              "      border: none;\n",
              "      border-radius: 50%;\n",
              "      cursor: pointer;\n",
              "      display: none;\n",
              "      fill: #1967D2;\n",
              "      height: 32px;\n",
              "      padding: 0 0 0 0;\n",
              "      width: 32px;\n",
              "    }\n",
              "\n",
              "    .colab-df-convert:hover {\n",
              "      background-color: #E2EBFA;\n",
              "      box-shadow: 0px 1px 2px rgba(60, 64, 67, 0.3), 0px 1px 3px 1px rgba(60, 64, 67, 0.15);\n",
              "      fill: #174EA6;\n",
              "    }\n",
              "\n",
              "    [theme=dark] .colab-df-convert {\n",
              "      background-color: #3B4455;\n",
              "      fill: #D2E3FC;\n",
              "    }\n",
              "\n",
              "    [theme=dark] .colab-df-convert:hover {\n",
              "      background-color: #434B5C;\n",
              "      box-shadow: 0px 1px 3px 1px rgba(0, 0, 0, 0.15);\n",
              "      filter: drop-shadow(0px 1px 2px rgba(0, 0, 0, 0.3));\n",
              "      fill: #FFFFFF;\n",
              "    }\n",
              "  </style>\n",
              "\n",
              "      <script>\n",
              "        const buttonEl =\n",
              "          document.querySelector('#df-725d0d36-76d6-4875-8218-f7faa8045201 button.colab-df-convert');\n",
              "        buttonEl.style.display =\n",
              "          google.colab.kernel.accessAllowed ? 'block' : 'none';\n",
              "\n",
              "        async function convertToInteractive(key) {\n",
              "          const element = document.querySelector('#df-725d0d36-76d6-4875-8218-f7faa8045201');\n",
              "          const dataTable =\n",
              "            await google.colab.kernel.invokeFunction('convertToInteractive',\n",
              "                                                     [key], {});\n",
              "          if (!dataTable) return;\n",
              "\n",
              "          const docLinkHtml = 'Like what you see? Visit the ' +\n",
              "            '<a target=\"_blank\" href=https://colab.research.google.com/notebooks/data_table.ipynb>data table notebook</a>'\n",
              "            + ' to learn more about interactive tables.';\n",
              "          element.innerHTML = '';\n",
              "          dataTable['output_type'] = 'display_data';\n",
              "          await google.colab.output.renderOutput(dataTable, element);\n",
              "          const docLink = document.createElement('div');\n",
              "          docLink.innerHTML = docLinkHtml;\n",
              "          element.appendChild(docLink);\n",
              "        }\n",
              "      </script>\n",
              "    </div>\n",
              "  </div>\n",
              "  "
            ],
            "text/plain": [
              "               id     price  bedrooms  ...     long  sqft_living15  sqft_lot15\n",
              "3951   1825069031  550000.0         4  ... -122.088           2520       14789\n",
              "14983  6308000010  585000.0         3  ... -122.172           2290        7984\n",
              "20054  8648900110  555000.0         3  ... -122.093           1880        3078\n",
              "\n",
              "[3 rows x 20 columns]"
            ]
          },
          "metadata": {},
          "execution_count": 111
        }
      ]
    },
    {
      "cell_type": "code",
      "source": [
        "# Dealing with the duplicate values \n",
        "# We will delete the identified duplicates\n",
        "sale_dup = sale.drop_duplicates(keep = 'first')\n",
        "# Confirm the changes \n",
        "sale_dup.duplicated().sum()"
      ],
      "metadata": {
        "colab": {
          "base_uri": "https://localhost:8080/"
        },
        "id": "7rtBDBtlY4B_",
        "outputId": "c7f0ae38-6057-4e49-d59a-d10fb9f41013"
      },
      "execution_count": null,
      "outputs": [
        {
          "output_type": "execute_result",
          "data": {
            "text/plain": [
              "0"
            ]
          },
          "metadata": {},
          "execution_count": 112
        }
      ]
    },
    {
      "cell_type": "code",
      "source": [
        "# Check the shape of our dataframe after deleting the duplicates\n",
        "sale_dup.shape"
      ],
      "metadata": {
        "colab": {
          "base_uri": "https://localhost:8080/"
        },
        "id": "Q8SNjDqBa0ZL",
        "outputId": "7f6351f4-1421-408e-e2cc-3ae3125f998c"
      },
      "execution_count": null,
      "outputs": [
        {
          "output_type": "execute_result",
          "data": {
            "text/plain": [
              "(21610, 20)"
            ]
          },
          "metadata": {},
          "execution_count": 113
        }
      ]
    },
    {
      "cell_type": "markdown",
      "source": [
        "We have successfully deleted the 3 duplicates we had found"
      ],
      "metadata": {
        "id": "1S7Xi6gucD_j"
      }
    },
    {
      "cell_type": "markdown",
      "source": [
        "##Data Cleaning"
      ],
      "metadata": {
        "id": "CdmGP49AcdHU"
      }
    },
    {
      "cell_type": "code",
      "source": [
        "# We will drop columns from the dataframe that we don't need in our analysis\n",
        "# ID is just a unique identification and will not play a role in predicting sales\n",
        "sale_df = sale.drop(['id','lat','long'], axis=1)\n",
        "# Confirm changes made\n",
        "sale_df.head()"
      ],
      "metadata": {
        "colab": {
          "base_uri": "https://localhost:8080/",
          "height": 206
        },
        "id": "2Cqa_dmpcliH",
        "outputId": "9559b30f-0c8b-4473-c926-14052a99fc40"
      },
      "execution_count": null,
      "outputs": [
        {
          "output_type": "execute_result",
          "data": {
            "text/html": [
              "\n",
              "  <div id=\"df-78b7f8be-e737-4ed6-8936-62d574cd2df6\">\n",
              "    <div class=\"colab-df-container\">\n",
              "      <div>\n",
              "<style scoped>\n",
              "    .dataframe tbody tr th:only-of-type {\n",
              "        vertical-align: middle;\n",
              "    }\n",
              "\n",
              "    .dataframe tbody tr th {\n",
              "        vertical-align: top;\n",
              "    }\n",
              "\n",
              "    .dataframe thead th {\n",
              "        text-align: right;\n",
              "    }\n",
              "</style>\n",
              "<table border=\"1\" class=\"dataframe\">\n",
              "  <thead>\n",
              "    <tr style=\"text-align: right;\">\n",
              "      <th></th>\n",
              "      <th>price</th>\n",
              "      <th>bedrooms</th>\n",
              "      <th>bathrooms</th>\n",
              "      <th>sqft_living</th>\n",
              "      <th>sqft_lot</th>\n",
              "      <th>floors</th>\n",
              "      <th>waterfront</th>\n",
              "      <th>view</th>\n",
              "      <th>condition</th>\n",
              "      <th>grade</th>\n",
              "      <th>sqft_above</th>\n",
              "      <th>sqft_basement</th>\n",
              "      <th>yr_built</th>\n",
              "      <th>yr_renovated</th>\n",
              "      <th>zipcode</th>\n",
              "      <th>sqft_living15</th>\n",
              "      <th>sqft_lot15</th>\n",
              "    </tr>\n",
              "  </thead>\n",
              "  <tbody>\n",
              "    <tr>\n",
              "      <th>0</th>\n",
              "      <td>221900.0</td>\n",
              "      <td>3</td>\n",
              "      <td>1.00</td>\n",
              "      <td>1180</td>\n",
              "      <td>5650</td>\n",
              "      <td>1.0</td>\n",
              "      <td>0</td>\n",
              "      <td>0</td>\n",
              "      <td>3</td>\n",
              "      <td>7</td>\n",
              "      <td>1180</td>\n",
              "      <td>0</td>\n",
              "      <td>1955</td>\n",
              "      <td>0</td>\n",
              "      <td>98178</td>\n",
              "      <td>1340</td>\n",
              "      <td>5650</td>\n",
              "    </tr>\n",
              "    <tr>\n",
              "      <th>1</th>\n",
              "      <td>538000.0</td>\n",
              "      <td>3</td>\n",
              "      <td>2.25</td>\n",
              "      <td>2570</td>\n",
              "      <td>7242</td>\n",
              "      <td>2.0</td>\n",
              "      <td>0</td>\n",
              "      <td>0</td>\n",
              "      <td>3</td>\n",
              "      <td>7</td>\n",
              "      <td>2170</td>\n",
              "      <td>400</td>\n",
              "      <td>1951</td>\n",
              "      <td>1991</td>\n",
              "      <td>98125</td>\n",
              "      <td>1690</td>\n",
              "      <td>7639</td>\n",
              "    </tr>\n",
              "    <tr>\n",
              "      <th>2</th>\n",
              "      <td>180000.0</td>\n",
              "      <td>2</td>\n",
              "      <td>1.00</td>\n",
              "      <td>770</td>\n",
              "      <td>10000</td>\n",
              "      <td>1.0</td>\n",
              "      <td>0</td>\n",
              "      <td>0</td>\n",
              "      <td>3</td>\n",
              "      <td>6</td>\n",
              "      <td>770</td>\n",
              "      <td>0</td>\n",
              "      <td>1933</td>\n",
              "      <td>0</td>\n",
              "      <td>98028</td>\n",
              "      <td>2720</td>\n",
              "      <td>8062</td>\n",
              "    </tr>\n",
              "    <tr>\n",
              "      <th>3</th>\n",
              "      <td>604000.0</td>\n",
              "      <td>4</td>\n",
              "      <td>3.00</td>\n",
              "      <td>1960</td>\n",
              "      <td>5000</td>\n",
              "      <td>1.0</td>\n",
              "      <td>0</td>\n",
              "      <td>0</td>\n",
              "      <td>5</td>\n",
              "      <td>7</td>\n",
              "      <td>1050</td>\n",
              "      <td>910</td>\n",
              "      <td>1965</td>\n",
              "      <td>0</td>\n",
              "      <td>98136</td>\n",
              "      <td>1360</td>\n",
              "      <td>5000</td>\n",
              "    </tr>\n",
              "    <tr>\n",
              "      <th>4</th>\n",
              "      <td>510000.0</td>\n",
              "      <td>3</td>\n",
              "      <td>2.00</td>\n",
              "      <td>1680</td>\n",
              "      <td>8080</td>\n",
              "      <td>1.0</td>\n",
              "      <td>0</td>\n",
              "      <td>0</td>\n",
              "      <td>3</td>\n",
              "      <td>8</td>\n",
              "      <td>1680</td>\n",
              "      <td>0</td>\n",
              "      <td>1987</td>\n",
              "      <td>0</td>\n",
              "      <td>98074</td>\n",
              "      <td>1800</td>\n",
              "      <td>7503</td>\n",
              "    </tr>\n",
              "  </tbody>\n",
              "</table>\n",
              "</div>\n",
              "      <button class=\"colab-df-convert\" onclick=\"convertToInteractive('df-78b7f8be-e737-4ed6-8936-62d574cd2df6')\"\n",
              "              title=\"Convert this dataframe to an interactive table.\"\n",
              "              style=\"display:none;\">\n",
              "        \n",
              "  <svg xmlns=\"http://www.w3.org/2000/svg\" height=\"24px\"viewBox=\"0 0 24 24\"\n",
              "       width=\"24px\">\n",
              "    <path d=\"M0 0h24v24H0V0z\" fill=\"none\"/>\n",
              "    <path d=\"M18.56 5.44l.94 2.06.94-2.06 2.06-.94-2.06-.94-.94-2.06-.94 2.06-2.06.94zm-11 1L8.5 8.5l.94-2.06 2.06-.94-2.06-.94L8.5 2.5l-.94 2.06-2.06.94zm10 10l.94 2.06.94-2.06 2.06-.94-2.06-.94-.94-2.06-.94 2.06-2.06.94z\"/><path d=\"M17.41 7.96l-1.37-1.37c-.4-.4-.92-.59-1.43-.59-.52 0-1.04.2-1.43.59L10.3 9.45l-7.72 7.72c-.78.78-.78 2.05 0 2.83L4 21.41c.39.39.9.59 1.41.59.51 0 1.02-.2 1.41-.59l7.78-7.78 2.81-2.81c.8-.78.8-2.07 0-2.86zM5.41 20L4 18.59l7.72-7.72 1.47 1.35L5.41 20z\"/>\n",
              "  </svg>\n",
              "      </button>\n",
              "      \n",
              "  <style>\n",
              "    .colab-df-container {\n",
              "      display:flex;\n",
              "      flex-wrap:wrap;\n",
              "      gap: 12px;\n",
              "    }\n",
              "\n",
              "    .colab-df-convert {\n",
              "      background-color: #E8F0FE;\n",
              "      border: none;\n",
              "      border-radius: 50%;\n",
              "      cursor: pointer;\n",
              "      display: none;\n",
              "      fill: #1967D2;\n",
              "      height: 32px;\n",
              "      padding: 0 0 0 0;\n",
              "      width: 32px;\n",
              "    }\n",
              "\n",
              "    .colab-df-convert:hover {\n",
              "      background-color: #E2EBFA;\n",
              "      box-shadow: 0px 1px 2px rgba(60, 64, 67, 0.3), 0px 1px 3px 1px rgba(60, 64, 67, 0.15);\n",
              "      fill: #174EA6;\n",
              "    }\n",
              "\n",
              "    [theme=dark] .colab-df-convert {\n",
              "      background-color: #3B4455;\n",
              "      fill: #D2E3FC;\n",
              "    }\n",
              "\n",
              "    [theme=dark] .colab-df-convert:hover {\n",
              "      background-color: #434B5C;\n",
              "      box-shadow: 0px 1px 3px 1px rgba(0, 0, 0, 0.15);\n",
              "      filter: drop-shadow(0px 1px 2px rgba(0, 0, 0, 0.3));\n",
              "      fill: #FFFFFF;\n",
              "    }\n",
              "  </style>\n",
              "\n",
              "      <script>\n",
              "        const buttonEl =\n",
              "          document.querySelector('#df-78b7f8be-e737-4ed6-8936-62d574cd2df6 button.colab-df-convert');\n",
              "        buttonEl.style.display =\n",
              "          google.colab.kernel.accessAllowed ? 'block' : 'none';\n",
              "\n",
              "        async function convertToInteractive(key) {\n",
              "          const element = document.querySelector('#df-78b7f8be-e737-4ed6-8936-62d574cd2df6');\n",
              "          const dataTable =\n",
              "            await google.colab.kernel.invokeFunction('convertToInteractive',\n",
              "                                                     [key], {});\n",
              "          if (!dataTable) return;\n",
              "\n",
              "          const docLinkHtml = 'Like what you see? Visit the ' +\n",
              "            '<a target=\"_blank\" href=https://colab.research.google.com/notebooks/data_table.ipynb>data table notebook</a>'\n",
              "            + ' to learn more about interactive tables.';\n",
              "          element.innerHTML = '';\n",
              "          dataTable['output_type'] = 'display_data';\n",
              "          await google.colab.output.renderOutput(dataTable, element);\n",
              "          const docLink = document.createElement('div');\n",
              "          docLink.innerHTML = docLinkHtml;\n",
              "          element.appendChild(docLink);\n",
              "        }\n",
              "      </script>\n",
              "    </div>\n",
              "  </div>\n",
              "  "
            ],
            "text/plain": [
              "      price  bedrooms  bathrooms  ...  zipcode  sqft_living15  sqft_lot15\n",
              "0  221900.0         3       1.00  ...    98178           1340        5650\n",
              "1  538000.0         3       2.25  ...    98125           1690        7639\n",
              "2  180000.0         2       1.00  ...    98028           2720        8062\n",
              "3  604000.0         4       3.00  ...    98136           1360        5000\n",
              "4  510000.0         3       2.00  ...    98074           1800        7503\n",
              "\n",
              "[5 rows x 17 columns]"
            ]
          },
          "metadata": {},
          "execution_count": 114
        }
      ]
    },
    {
      "cell_type": "code",
      "source": [
        "# Confirm our new dataframe shape\n",
        "sale_df.shape"
      ],
      "metadata": {
        "colab": {
          "base_uri": "https://localhost:8080/"
        },
        "id": "u2qtAPGRdfBg",
        "outputId": "ac131e2c-22f2-41c9-fe61-30d201b2b2e4"
      },
      "execution_count": null,
      "outputs": [
        {
          "output_type": "execute_result",
          "data": {
            "text/plain": [
              "(21613, 17)"
            ]
          },
          "metadata": {},
          "execution_count": 115
        }
      ]
    },
    {
      "cell_type": "markdown",
      "source": [
        "We now have 19 variables"
      ],
      "metadata": {
        "id": "IydLuefOdpbv"
      }
    },
    {
      "cell_type": "code",
      "source": [
        "# Check for unique values in our dataframes inorder to identify any annomalies\n",
        "columns = ['price', 'bedrooms', 'bathrooms', 'sqft_living', 'sqft_lot',\n",
        "       'floors', 'waterfront', 'view', 'condition', 'grade', 'sqft_above',\n",
        "       'sqft_basement', 'yr_built', 'yr_renovated', 'zipcode',\n",
        "       'sqft_living15', 'sqft_lot15']\n",
        "for i in columns:\n",
        "  print('Unique values in', i , 'are :')\n",
        "  print(sale_df[i].unique())\n",
        "  print('                                                                           ')\n",
        "  print('***************************************************************************')\n"
      ],
      "metadata": {
        "colab": {
          "base_uri": "https://localhost:8080/"
        },
        "id": "EDxZwe1Ed591",
        "outputId": "c23dad70-7c20-4d71-992a-1fe082acb181"
      },
      "execution_count": null,
      "outputs": [
        {
          "output_type": "stream",
          "name": "stdout",
          "text": [
            "Unique values in price are :\n",
            "[221900. 538000. 180000. ... 541800. 610685. 402101.]\n",
            "                                                                           \n",
            "***************************************************************************\n",
            "Unique values in bedrooms are :\n",
            "[ 3  2  4  5  1  6  7  0  8  9 11 10 33]\n",
            "                                                                           \n",
            "***************************************************************************\n",
            "Unique values in bathrooms are :\n",
            "[1.   2.25 3.   2.   4.5  1.5  2.5  1.75 2.75 3.25 4.   3.5  0.75 4.75\n",
            " 5.   4.25 3.75 0.   1.25 5.25 6.   0.5  5.5  6.75 5.75 8.   7.5  7.75\n",
            " 6.25 6.5 ]\n",
            "                                                                           \n",
            "***************************************************************************\n",
            "Unique values in sqft_living are :\n",
            "[1180 2570  770 ... 3087 3118 1425]\n",
            "                                                                           \n",
            "***************************************************************************\n",
            "Unique values in sqft_lot are :\n",
            "[ 5650  7242 10000 ...  5813  2388  1076]\n",
            "                                                                           \n",
            "***************************************************************************\n",
            "Unique values in floors are :\n",
            "[1.  2.  1.5 3.  2.5 3.5]\n",
            "                                                                           \n",
            "***************************************************************************\n",
            "Unique values in waterfront are :\n",
            "[0 1]\n",
            "                                                                           \n",
            "***************************************************************************\n",
            "Unique values in view are :\n",
            "[0 3 4 2 1]\n",
            "                                                                           \n",
            "***************************************************************************\n",
            "Unique values in condition are :\n",
            "[3 5 4 1 2]\n",
            "                                                                           \n",
            "***************************************************************************\n",
            "Unique values in grade are :\n",
            "[ 7  6  8 11  9  5 10 12  4  3 13  1]\n",
            "                                                                           \n",
            "***************************************************************************\n",
            "Unique values in sqft_above are :\n",
            "[1180 2170  770 1050 1680 3890 1715 1060 1890 1860  860 1430 1370 1810\n",
            " 1980 1600 1200 1250 2330 2270 1070 2450 1710 1750 1400  790 2570 2320\n",
            " 1190 1510 1090 1280  930 2360  890 2620 2600 3595 1570  920 3160  990\n",
            " 2290 2165 1640 1000 2130 2830 2250 2420 3250 1850 1590 1260 2519 1540\n",
            " 1110 1770 2720 2240 3070 2380 2390  880 1040  910 3450 2350 1900 1010\n",
            "  960 2660 1610  765 3520 1290 1960 1160 1210 1270 1440 2190 2920 1460\n",
            " 1170 1240 3140 2030 2310  700 1080 2520 2780 1560 1450 1720 2910 1620\n",
            " 1360 2070 2460 1390 2140 1320 1340 1550  940 1380 3670 2370 1130  980\n",
            " 3540 2500 1760 1030 1780 3400 2680 1670 2590  820 1220 2440 2090 1100\n",
            " 1330 1420 1690 2150 1910 1350 1940  900 1630 2714  850 1870 1950 2760\n",
            " 2020 1120 1480 1230 2280 3760 3530  830 1300 2740 1830  720 2010 3360\n",
            "  800 1730  760 1700 4750 5310  580 2653 2850 2210 2630 3500 1740 1140\n",
            " 2160 2650  970 2040 2180 2220 1660 3370 2690 1930 3150 3030 2050 2490\n",
            " 2560 1275 2580  560 1820 1840 2990 3230 1580 3480 2510 1410 2120 3300\n",
            " 3840 1500 1530 2840  833 2000 6070  950 2200 4040 1920 1490 3470 3130\n",
            " 2610 3260 2260  430 3390  630 4860 3860 2810  870 3180 2770 4030 4410\n",
            " 2400 1520 3040 6050 4740 1970 5403 3350 3580 1790  750 2860 2750 2340\n",
            " 2870 4120 3200 2550 1805 4150 1384 2060 2110 3590 2100 2540 1880 1150\n",
            " 1470 1255 1800 4370 3190 2730 4570 2470  670 2900 4670 4230 2156 1020\n",
            " 2940 2640 2710 3100 3610 4270  840 3090 2300  380 2480 3460 3060 3064\n",
            " 3000 1654 2790 1310 2230 2430 3680 2670 2208  810  740 1422  490 2080\n",
            " 3440 5670 4475  730 3410 3010  600 2960 3570 4300 3990  780 3020 5990\n",
            "  440 4460 4190 2800 2530 1650 3690 2932 3720 4250 3110 2963 4930 2950\n",
            " 5000 2452 2820 1981  640 2495 2403 5320 6720  660 2341 4210 3830 3280\n",
            " 2980 5153 1990 1646  610  710 5450 3504 3210 1782 2930  590 4280  680\n",
            " 3880 3430 3750 4130 5710 3380 3330 4700 3220 3362 3510 3810  620 4490\n",
            " 2410 3050 1008 3488 4070 3420 5770 1605  520 1088 3555 4360 3960 2700\n",
            " 4340 1552 3850 2303 3270 4350 3640 2174 4160 2496 5180 5130 6350 3770\n",
            " 2153 3780 2890 1714 2201 2970  992 3950 3527 2835 3915 1427 4870 3340\n",
            " 3620 4310 3930 4080 5400  570 3310 6110 3320 3490 3859 3710 1798 4600\n",
            " 3560 3940 3600 3800 1105 2305 3290 5050 1556 1553 4000 1657 3001 4220\n",
            "  480 3120 3740  530 3700 5230 5370 3080 4140 4430 3550 1159 1288 2880\n",
            " 4610 1122 3052 1479 7680 3820 1934 5080 2675 2506 5760 2154 4390 3240\n",
            " 1995 1689 2782 2395 4400 6200 3526 4320 2483 4380 4580 4180 2064 3650\n",
            " 1726 2019 4240 1256  500 1355 1747 1678 1833 1414 4115 3597 3170  390\n",
            " 1976 5830 2601 3920 2641 5070 2518 3910 3660 3695 4020 2803 2074 2038\n",
            " 4060 4890 2329 1264 1095  690 4090 1392 2844  902 4560 2811 4720 2168\n",
            " 5610 2683 4900 2095 4290 4050 4260 4440 6220 1175  998 2356 4500 3900\n",
            " 3831 1315 4470 4810 2286 2927 4760 8570 5140 1679 1811 2849 1676 1757\n",
            " 3730 2441 2163 5250 2795 2415 3970 4200 1068 5240 1509 1954 4820 1651\n",
            " 4100 1752 3630 2885 3154 1129 2632 1996 4010  550  410 6430 3790 2031\n",
            " 1652 2434 3316 1899 2331 2497 2216 4170 1341 1961 5584 8860 2507 5220\n",
            " 4850 5844 5530 2145  650 1982 4910 3605 1778 1463 2783 1946 1358 3870\n",
            " 1864 1845 6290 3980 2382 2979 3674 2726 5440 1295 2115 6085 3265 3136\n",
            " 6640 4620 3361 2245 2242 1078 2577 1329  420 4330 1975 7420 1788 2299\n",
            " 1092 4225 1087 1904  470 2966 2192 2253 5550 4133 4285 1216  540 9410\n",
            " 2075 5330 2166 1628 1808 1352 2557 6380 7880 2734 1363 1769 2093 1677\n",
            " 2588 5190 2298 1491 2961 5020 5980 4540  844 6120 2233 4480 4110 4770\n",
            " 2473  995 5160 1494 2007 1048 3002 4780 2155 2014 4980 2665 4830 4790\n",
            " 5010  370 2105 3006 3004 2689 4660 1746 2678 2755 2414  901 4630 2068\n",
            " 2807 2643 2181 4510 4420 1604 1435 3045 2717 2905 4940 5110 2533 6660\n",
            " 3485 2659 5090 2375 1964  866 1595  944 5480  809 5040 1764 1656 1802\n",
            "  460 2692 1544 2044 1212 4083 8020 3905 1502 4590  384 2092 6090 1615\n",
            " 7320 1396 1484 1765 5490 1453 1643 5300 1381 4065  290 1313 5430 1397\n",
            " 2793 2475 1936 3028  798 2575 3276 1584 2393 2029 3222 1072 1785 1984\n",
            "  962 2423 2052 2538 2437 2789 2906 4800 7850 2196 1847 2658 2655 3855\n",
            " 1728  963 2223 1611 2015 2448 1489 1116 3745 1002 3202 1347 1481 2311\n",
            " 2544 2584 2217 3569 3181 1921 2612 2671 2598 3284 3266 1076 2594 2718\n",
            " 1794 2481 3845 1413 1876 3148 2413 1767 5060  806 2547 1834 2024 1165\n",
            " 2134 1741 2798 1852 2099 3216 1094 2891 2432 2283 2701 1658  893 2009\n",
            " 1444 2744 3078 3065 1578 2815 4960 1571 6530 4640 1536 3172 6370 3223\n",
            " 1608 2229 3135 1408 1763 4840 1232 2502 2424 1296 1914  988 3828 3056\n",
            " 2267 1131 2796 1812 1084 2025 1564 1239 2568 1528 2628 2185 2478 2669\n",
            " 1912 2828 2425 1446 3206 2406 1419 2056 1144 2456 4950 3192  828 2529\n",
            " 2732 1987 3906 4073 2578 2738 3691 1061 2846 2542 1889 3336 3236 1451\n",
            " 1983 2313 1824 1322 1766 2301 3274 1108 2864 2716 1572 3281 2656 2398\n",
            " 1867 1613 2587 2623  894 1606 2244 2026 2238 2517 2708 2555 1405 4450\n",
            " 1248 6420 2531 1333 2198 3087 3118 1425]\n",
            "                                                                           \n",
            "***************************************************************************\n",
            "Unique values in sqft_basement are :\n",
            "[   0  400  910 1530  730 1700  300  970  760  720  700  820  780  790\n",
            "  330 1620  360  588 1510  410  990  600  560  550 1000 1600  500 1040\n",
            "  880 1010  240  265  290  800  540  380  710  840  770  480  570 1490\n",
            "  620 1250 1270  120  650  180 1130  450 1640 1460 1020 1030  750  640\n",
            " 1070  490 1310  630 2000  390  430  850  210 1430 1950  440  220 1160\n",
            "  860  580 2060 1820 1180  200 1150 1200  680  530 1450 1170 1080  960\n",
            " 1100  280  870  460 1400 1320  660 1220  900  420 1580 1380  475  690\n",
            "  270  350  935 1370  980 1470  160  950   50  740 1780 1900  340  470\n",
            "  370  140 1760  130  610  520  890 1110  150 1720  810  190 1290  670\n",
            " 1800 1120 1810   60 1050  940  310  930 1390 1830 1300  510 1330 1590\n",
            "  920 1420 1240 1960 1560 2020 1190 2110 1280  250 2390 1230  170  830\n",
            " 1260 1410 1340  590 1500 1140  260  100  320 1480 1060 1284 1670 1350\n",
            " 2570 2590 1090  110 2500   90 1940 1550 2350 2490 1481 1360 1135 1520\n",
            " 1850 1660 2130 2600 1690  243 1210 2620 1024 1798 1610 1440 1570 1650\n",
            "  704 1910 1630 2360 1852 2090 2400 1790 2150  230   70 1680 2100 3000\n",
            " 1870 1710 2030  875 1540 2850 2170  506  906  145 2040  784 1750  374\n",
            "  518 2720 2730 1840 3480 2160 1920 2330 1860 2050 4820 1913   80 2010\n",
            " 3260 2200  415 1730  652 2196 1930  515   40 2080 2580 1548 1740  235\n",
            "  861 1890 2220  792 2070 4130 2250 2240  894 1990  768 2550  435 1008\n",
            " 2300 2610  666 3500  172 1816 2190 1245 1525 1880  862  946 1281  414\n",
            " 2180  276 1248  602  516  176  225 1275  266  283   65 2310   10 1770\n",
            " 2120  295  207  915  556  417  143  508 2810   20  274  248]\n",
            "                                                                           \n",
            "***************************************************************************\n",
            "Unique values in yr_built are :\n",
            "[1955 1951 1933 1965 1987 2001 1995 1963 1960 2003 1942 1927 1977 1900\n",
            " 1979 1994 1916 1921 1969 1947 1968 1985 1941 1915 1909 1948 2005 1929\n",
            " 1981 1930 1904 1996 2000 1984 2014 1922 1959 1966 1953 1950 2008 1991\n",
            " 1954 1973 1925 1989 1972 1986 1956 2002 1992 1964 1952 1961 2006 1988\n",
            " 1962 1939 1946 1967 1975 1980 1910 1983 1978 1905 1971 2010 1945 1924\n",
            " 1990 1914 1926 2004 1923 2007 1976 1949 1999 1901 1993 1920 1997 1943\n",
            " 1957 1940 1918 1928 1974 1911 1936 1937 1982 1908 1931 1998 1913 2013\n",
            " 1907 1958 2012 1912 2011 1917 1932 1944 1902 2009 1903 1970 2015 1934\n",
            " 1938 1919 1906 1935]\n",
            "                                                                           \n",
            "***************************************************************************\n",
            "Unique values in yr_renovated are :\n",
            "[   0 1991 2002 2010 1999 1992 2013 1994 1978 2005 2008 2003 1984 1954\n",
            " 2014 2011 1974 1983 1945 1990 1988 1957 1977 1981 1995 2000 1998 1970\n",
            " 1989 2004 1986 2009 2007 1987 1973 2006 1985 2001 1980 1971 1979 1997\n",
            " 1950 1969 1948 2015 1968 2012 1963 1951 1993 1962 1996 1972 1953 1955\n",
            " 1982 1956 1940 1976 1946 1975 1958 1964 1959 1960 1967 1965 1934 1944]\n",
            "                                                                           \n",
            "***************************************************************************\n",
            "Unique values in zipcode are :\n",
            "[98178 98125 98028 98136 98074 98053 98003 98198 98146 98038 98007 98115\n",
            " 98107 98126 98019 98103 98002 98133 98040 98092 98030 98119 98112 98052\n",
            " 98027 98117 98058 98001 98056 98166 98023 98070 98148 98105 98042 98008\n",
            " 98059 98122 98144 98004 98005 98034 98075 98116 98010 98118 98199 98032\n",
            " 98045 98102 98077 98108 98168 98177 98065 98029 98006 98109 98022 98033\n",
            " 98155 98024 98011 98031 98106 98072 98188 98014 98055 98039]\n",
            "                                                                           \n",
            "***************************************************************************\n",
            "Unique values in sqft_living15 are :\n",
            "[1340 1690 2720 1360 1800 4760 2238 1650 1780 2390 2210 1330 1370 2140\n",
            " 1890 1610 1060 1280 1400 4110 2240 1220 2200 1030 1760 1860 1520 2630\n",
            " 2580 1390 1460 1570 2020 1590 2160 1730 1290 2620 2470 2410 3625 1580\n",
            " 3050 1228 2680  970 1190 1990 1410 1480 2730 1950 2250 2690 2960 2270\n",
            " 2570 2500 1440 2750 2221 1010 3390 3530 1640 1510 2420 1940 3240 1680\n",
            "  890 1130 3350 2350 1870 1720 1850 1900 1980 2520 1350 1750 1160 2550\n",
            " 2370 1240 1270 2990 1380 1540 2090 2640 1830 1620 1880 2340 1710 2700\n",
            " 3060 2660 1700 1970 1420 2060 2480 1550 1170 2820 1560 2230 2840 1450\n",
            " 1500 3160 1200 3400 2110 2920 1770 1070 1930 3740 2260 1670 2290 1050\n",
            " 2540 2190 2030 1230 2330 1300 1430 2770 1250 1630 2590 2130 1100 3836\n",
            " 1320 2120 3070 1910 2080 1960 2280 1150 3430 2070 2600  830 1260 3120\n",
            " 2010 1660 1600 2380 3890 4180 2653 2670 3920 2300 2310 2320 3150 1740\n",
            " 2400 4550 2510 2440 2880 3860 2150 1310 1820 3080  880 2560 3470 1020\n",
            " 2040 2610 1810 2860 3480 3130 3360 4050 2450 1790 3180 3600 2000 2430\n",
            " 2850 4680 2360 3930 1490 2460 2077 1920 3630 3220 2100 3230 4300 3850\n",
            " 2424 2530 3030 2830 2900 2950 1470  940 2740 4210 3340 3980 2180 3715\n",
            " 2050 1080 2095 1000 3330 2170 1408 1530 2760 3110  950 3000 1307 2220\n",
            " 4190 3440 3250 1110 2870 1210 2910 1120 4230 1708 3090 3270 2970 1180\n",
            " 3100 4100 2930 3510 2688 1840 2490 4090 2810 3260 3680 3420 1654 1365\n",
            "  980 1677 1140 3640 3460 3140 1502 3720 2790 2940  990 2890  860 4750\n",
            " 1525 3950 5790  760 2234  960 3210 2780 2800 2305 2665 3620 2710 4320\n",
            " 2650 3370 1509 1277 1981 2434 4640 2242 3040 3970 3200 4600  840 3290\n",
            " 2214 1162 3010 5600 3820 3540 1975 4800  740 3990 3170 1576 1768 3310\n",
            " 2980 1429 3900 3380  820 1090 4060 3910 3190 3450 3730  620 3020 3760\n",
            " 3320 1132 3300 3770 3960  870 3560 4620 3520 1572 3490 1088 3159 4470\n",
            " 3570 4890 3690 3280 2083 3780  920 1941 1566  850 2496 1040 3410 4240\n",
            " 4670 4350 1714 5380 4330 3830 5000 2144 1494 1357  930 3580 4250 4080\n",
            " 3660 1458 3736 1894 2037 1295 4170 3750 3550 4630 1439 3500 2091  900\n",
            " 3880 3710 1616  720  800 2315 1564 2767 3721 4650 4020  780 1728 2027\n",
            " 1264 1404 1459 2028 3639 1943 3425 2641 2114 1309 2412 2517 1802 2011\n",
            " 1466 1414 3193 1845 1156 3670 1696 5340 4440 1745 1884 4690 4920 2406\n",
            " 4160 3810 4480 2848 1746 2634 2049 5330 1536 2273 3056 4010 4700  910\n",
            " 2125 1665 2683 3790  700 1855  750 1078 4150 4340 2344 1098 1175 1188\n",
            " 3700 3840 4042 2518 3800 2488 3590 2052  810 1528 5030 4740 5070 2967\n",
            " 4280 2724 3610 3940 4940 4770 1811 4830 2876 1805 1216 5170 1304 2474\n",
            " 4590 4130 1492 1364 2168 4140 3543 1303 2005 3650 2583 4310 2451 1448\n",
            " 2955 2142  790 1638 2554 2441 2216 4220 1961 4540  770 4200 3413 1664\n",
            " 2136 3568 4510 1484 1358 2106 1834 2014 4390 4570 2175 6110 4260  710\n",
            " 2112 1934 1518 1302 2622 2619 2382 4290 4560 4000 1336 3112 4070 1468\n",
            " 1571 2605 1138 5110 4850 2165 4410 1678 5610 1984 4660 3870 4370  460\n",
            " 4610 1914 3515 2246 1786 2109 2326 2728 4400 4950 1767 2054 5500 2555\n",
            " 3674 2765 1862 1352 4030  399 2415 2901 1815 2236 2253 2004 1356 2403\n",
            " 1137 1256 4930 4040 2376 4520 4490 2189 2566 2396 1282 2155 1056 2389\n",
            " 2256 3618 1326 1168 4913  806 1369 2405 2875 1425 5220 1442 2333 3335\n",
            " 1321 3045 1546 4730 2697 2822 2076 1757 4780  952 4270 2075 2667 1092\n",
            " 1217 1716 1792 2961 1125 1463 1886  670 4460 2336 3557 5200 2258 1377\n",
            " 2019 2092 4900 2615 1639 1765 1554 1381 4120 5080 1445 2793 2475  998\n",
            " 2384 2575 1398 1584 2439 2197 2029 4362 1443 4420 1691 2495 2437 2547\n",
            " 6210 2009 1847 1346 2578 2879 2255 2815 1608  690 2425 1481 2458 2358\n",
            " 2056 1921 2419 2996 2502 1798 3087 1076 2981 2363 3191 1763 1876 1949\n",
            " 2598 1979 1415 2002 2574 2166 3726 2099 2154 1522 1544 2912 2648 1658\n",
            " 2755 2798 1405 2704 2738 3008 2586 2873 1232 2597 2516 1537 1128 2849\n",
            " 1399 1131 1569 2381 1084 2304 4530 2297 2279 2303 2669 4225 2513 2725\n",
            " 1955 2527 4443 2478 1919 1813 2533  828 2015 3078 4495 2673 2316 2647\n",
            " 3402 3494 2156 3236 2612 2323 2409 2354 1285 2616 1427 1516 2456 2844\n",
            " 1495 2594 2604 1268 2198 3038 2927]\n",
            "                                                                           \n",
            "***************************************************************************\n",
            "Unique values in sqft_lot15 are :\n",
            "[5650 7639 8062 ... 5731 1509 2007]\n",
            "                                                                           \n",
            "***************************************************************************\n"
          ]
        }
      ]
    },
    {
      "cell_type": "markdown",
      "source": [
        "There are no notable annomalies"
      ],
      "metadata": {
        "id": "5ddagRTdeW3n"
      }
    },
    {
      "cell_type": "code",
      "source": [
        "# let's check for outliers in our dataframe\n",
        "col = sale_df.columns\n",
        "for i in col:\n",
        "  fig = plt.figure(figsize = (10,7))\n",
        "  plt.boxplot(sale_df[i])\n",
        "  plt.title(i)\n",
        "  plt.show()"
      ],
      "metadata": {
        "colab": {
          "base_uri": "https://localhost:8080/",
          "height": 1000
        },
        "id": "OTJ_A6QEed9i",
        "outputId": "c373fc5b-dce8-4feb-e398-9464c65d03e6"
      },
      "execution_count": null,
      "outputs": [
        {
          "output_type": "display_data",
          "data": {
            "image/png": "[encoded data removed]",
            "text/plain": [
              "<Figure size 720x504 with 1 Axes>"
            ]
          },
          "metadata": {
            "needs_background": "light"
          }
        },
        {
          "output_type": "display_data",
          "data": {
            "image/png": "[encoded data removed]",
            "text/plain": [
              "<Figure size 720x504 with 1 Axes>"
            ]
          },
          "metadata": {
            "needs_background": "light"
          }
        },
        {
          "output_type": "display_data",
          "data": {
            "image/png": "[encoded data removed]",
            "text/plain": [
              "<Figure size 720x504 with 1 Axes>"
            ]
          },
          "metadata": {
            "needs_background": "light"
          }
        },
        {
          "output_type": "display_data",
          "data": {
            "image/png": "[encoded data removed]",
            "text/plain": [
              "<Figure size 720x504 with 1 Axes>"
            ]
          },
          "metadata": {
            "needs_background": "light"
          }
        },
        {
          "output_type": "display_data",
          "data": {
            "image/png": "[encoded data removed]",
            "text/plain": [
              "<Figure size 720x504 with 1 Axes>"
            ]
          },
          "metadata": {
            "needs_background": "light"
          }
        },
        {
          "output_type": "display_data",
          "data": {
            "image/png": "[encoded data removed]",
            "text/plain": [
              "<Figure size 720x504 with 1 Axes>"
            ]
          },
          "metadata": {
            "needs_background": "light"
          }
        },
        {
          "output_type": "display_data",
          "data": {
            "image/png": "[encoded data removed]",
            "text/plain": [
              "<Figure size 720x504 with 1 Axes>"
            ]
          },
          "metadata": {
            "needs_background": "light"
          }
        },
        {
          "output_type": "display_data",
          "data": {
            "image/png": "[encoded data removed]",
            "text/plain": [
              "<Figure size 720x504 with 1 Axes>"
            ]
          },
          "metadata": {
            "needs_background": "light"
          }
        },
        {
          "output_type": "display_data",
          "data": {
            "image/png": "[encoded data removed]",
            "text/plain": [
              "<Figure size 720x504 with 1 Axes>"
            ]
          },
          "metadata": {
            "needs_background": "light"
          }
        },
        {
          "output_type": "display_data",
          "data": {
            "image/png": "[encoded data removed]",
            "text/plain": [
              "<Figure size 720x504 with 1 Axes>"
            ]
          },
          "metadata": {
            "needs_background": "light"
          }
        },
        {
          "output_type": "display_data",
          "data": {
            "image/png": "[encoded data removed]",
            "text/plain": [
              "<Figure size 720x504 with 1 Axes>"
            ]
          },
          "metadata": {
            "needs_background": "light"
          }
        },
        {
          "output_type": "display_data",
          "data": {
            "image/png": "[encoded data removed]",
            "text/plain": [
              "<Figure size 720x504 with 1 Axes>"
            ]
          },
          "metadata": {
            "needs_background": "light"
          }
        },
        {
          "output_type": "display_data",
          "data": {
            "image/png": "[encoded data removed]",
            "text/plain": [
              "<Figure size 720x504 with 1 Axes>"
            ]
          },
          "metadata": {
            "needs_background": "light"
          }
        },
        {
          "output_type": "display_data",
          "data": {
            "image/png": "[encoded data removed]",
            "text/plain": [
              "<Figure size 720x504 with 1 Axes>"
            ]
          },
          "metadata": {
            "needs_background": "light"
          }
        },
        {
          "output_type": "display_data",
          "data": {
            "image/png": "[encoded data removed]",
            "text/plain": [
              "<Figure size 720x504 with 1 Axes>"
            ]
          },
          "metadata": {
            "needs_background": "light"
          }
        },
        {
          "output_type": "display_data",
          "data": {
            "image/png": "[encoded data removed]",
            "text/plain": [
              "<Figure size 720x504 with 1 Axes>"
            ]
          },
          "metadata": {
            "needs_background": "light"
          }
        },
        {
          "output_type": "display_data",
          "data": {
            "image/png": "[encoded data removed]",
            "text/plain": [
              "<Figure size 720x504 with 1 Axes>"
            ]
          },
          "metadata": {
            "needs_background": "light"
          }
        }
      ]
    },
    {
      "cell_type": "markdown",
      "source": [
        "##Exploratory Data Analysis"
      ],
      "metadata": {
        "id": "hA6OnlNgfXO6"
      }
    },
    {
      "cell_type": "code",
      "source": [
        "# Bar chart on Bedrooms\n",
        "plt.figure(figsize = (20,10))\n",
        "sale_df.groupby('bedrooms').size().sort_values(ascending = False).plot(kind='bar', color='#DDA0DD')\n",
        "plt.title('Number of bedrooms')\n",
        "plt.ylabel('Total')\n",
        "plt.xlabel('Bedrooms')\n",
        "plt.show()"
      ],
      "metadata": {
        "colab": {
          "base_uri": "https://localhost:8080/",
          "height": 623
        },
        "id": "vpGhaZ3PfuxC",
        "outputId": "6cf70bf3-e86c-40e1-da52-fb73994ebe65"
      },
      "execution_count": null,
      "outputs": [
        {
          "output_type": "display_data",
          "data": {
            "image/png": "[encoded data removed]",
            "text/plain": [
              "<Figure size 1440x720 with 1 Axes>"
            ]
          },
          "metadata": {
            "needs_background": "light"
          }
        }
      ]
    },
    {
      "cell_type": "markdown",
      "source": [
        "Most properties have 3 bedrooms"
      ],
      "metadata": {
        "id": "iYUzpZ_ehJIX"
      }
    },
    {
      "cell_type": "code",
      "source": [
        "# Bar chart on Bathrooms\n",
        "plt.figure(figsize = (20,10))\n",
        "sale_df.groupby('bathrooms').size().sort_values(ascending = False).plot(kind='bar', color='#DDA0DD')\n",
        "plt.title('Number of bathrooms')\n",
        "plt.ylabel('Total')\n",
        "plt.xlabel('Bathrooms')\n",
        "plt.show()"
      ],
      "metadata": {
        "colab": {
          "base_uri": "https://localhost:8080/",
          "height": 633
        },
        "id": "CEPeU7o8hjze",
        "outputId": "1ce21d78-0dcb-48a8-e784-bb3ae7bfde9c"
      },
      "execution_count": null,
      "outputs": [
        {
          "output_type": "display_data",
          "data": {
            "image/png": "[encoded data removed]",
            "text/plain": [
              "<Figure size 1440x720 with 1 Axes>"
            ]
          },
          "metadata": {
            "needs_background": "light"
          }
        }
      ]
    },
    {
      "cell_type": "markdown",
      "source": [
        "Most properties have 2.5 bathrooms"
      ],
      "metadata": {
        "id": "XD7vII5-iBTR"
      }
    },
    {
      "cell_type": "code",
      "source": [
        "# Bar chart on floors , waterfront, view\n",
        "columns1 = ['floors','waterfront', 'view']\n",
        "for i in columns1:\n",
        "  plt.figure(figsize = (20,10))\n",
        "  sale_df.groupby(i).size().sort_values(ascending = False).plot(kind='barh', color='#DDA0DD')\n",
        "  plt.title(i)\n",
        "  plt.ylabel(i)\n",
        "  plt.xlabel('Total')\n",
        "  plt.show()"
      ],
      "metadata": {
        "colab": {
          "base_uri": "https://localhost:8080/",
          "height": 1000
        },
        "id": "dRD3cXX_jSBg",
        "outputId": "d91b542a-06b0-4ee2-eb5f-2924c41c7562"
      },
      "execution_count": null,
      "outputs": [
        {
          "output_type": "display_data",
          "data": {
            "image/png": "[encoded data removed]",
            "text/plain": [
              "<Figure size 1440x720 with 1 Axes>"
            ]
          },
          "metadata": {
            "needs_background": "light"
          }
        },
        {
          "output_type": "display_data",
          "data": {
            "image/png": "[encoded data removed]",
            "text/plain": [
              "<Figure size 1440x720 with 1 Axes>"
            ]
          },
          "metadata": {
            "needs_background": "light"
          }
        },
        {
          "output_type": "display_data",
          "data": {
            "image/png": "[encoded data removed]",
            "text/plain": [
              "<Figure size 1440x720 with 1 Axes>"
            ]
          },
          "metadata": {
            "needs_background": "light"
          }
        }
      ]
    },
    {
      "cell_type": "markdown",
      "source": [
        "Most properties do not have a view or border a sea, lake or river (Waterfront)\n",
        "\n",
        "Most properties have 1 floor"
      ],
      "metadata": {
        "id": "k75NLdvFokLr"
      }
    },
    {
      "cell_type": "code",
      "source": [
        "# Frequency tables\n",
        "columns2 = ['sqft_living', 'sqft_lot', 'sqft_above',\n",
        "       'sqft_basement','zipcode','sqft_living15', 'sqft_lot15','yr_built', 'yr_renovated' ]\n",
        "for i in columns2:\n",
        "  print('Frequency table of', i)\n",
        "  count = sale_df[i].value_counts().head()\n",
        "  print(count)\n",
        "  print('**********************************************************')\n",
        "  print('                                                          ')\n"
      ],
      "metadata": {
        "colab": {
          "base_uri": "https://localhost:8080/"
        },
        "id": "zf8VJY9Oo8pP",
        "outputId": "1b71242d-7653-4c40-a9af-d11c265c30e2"
      },
      "execution_count": null,
      "outputs": [
        {
          "output_type": "stream",
          "name": "stdout",
          "text": [
            "Frequency table of sqft_living\n",
            "1300    138\n",
            "1400    135\n",
            "1440    133\n",
            "1800    129\n",
            "1660    129\n",
            "Name: sqft_living, dtype: int64\n",
            "**********************************************************\n",
            "                                                          \n",
            "Frequency table of sqft_lot\n",
            "5000    358\n",
            "6000    290\n",
            "4000    251\n",
            "7200    220\n",
            "4800    120\n",
            "Name: sqft_lot, dtype: int64\n",
            "**********************************************************\n",
            "                                                          \n",
            "Frequency table of sqft_above\n",
            "1300    212\n",
            "1010    210\n",
            "1200    206\n",
            "1220    192\n",
            "1140    184\n",
            "Name: sqft_above, dtype: int64\n",
            "**********************************************************\n",
            "                                                          \n",
            "Frequency table of sqft_basement\n",
            "0      13126\n",
            "600      221\n",
            "700      218\n",
            "500      214\n",
            "800      206\n",
            "Name: sqft_basement, dtype: int64\n",
            "**********************************************************\n",
            "                                                          \n",
            "Frequency table of zipcode\n",
            "98103    602\n",
            "98038    590\n",
            "98115    583\n",
            "98052    574\n",
            "98117    553\n",
            "Name: zipcode, dtype: int64\n",
            "**********************************************************\n",
            "                                                          \n",
            "Frequency table of sqft_living15\n",
            "1540    197\n",
            "1440    195\n",
            "1560    192\n",
            "1500    181\n",
            "1460    169\n",
            "Name: sqft_living15, dtype: int64\n",
            "**********************************************************\n",
            "                                                          \n",
            "Frequency table of sqft_lot15\n",
            "5000    427\n",
            "4000    357\n",
            "6000    289\n",
            "7200    211\n",
            "4800    145\n",
            "Name: sqft_lot15, dtype: int64\n",
            "**********************************************************\n",
            "                                                          \n",
            "Frequency table of yr_built\n",
            "2014    559\n",
            "2006    454\n",
            "2005    450\n",
            "2004    433\n",
            "2003    422\n",
            "Name: yr_built, dtype: int64\n",
            "**********************************************************\n",
            "                                                          \n",
            "Frequency table of yr_renovated\n",
            "0       20699\n",
            "2014       91\n",
            "2013       37\n",
            "2003       36\n",
            "2005       35\n",
            "Name: yr_renovated, dtype: int64\n",
            "**********************************************************\n",
            "                                                          \n"
          ]
        }
      ]
    },
    {
      "cell_type": "markdown",
      "source": [
        "Most properties have 5,000 sqft_lot15\n",
        "\n",
        "Most properties have 1,540 sqft_living15\n",
        "\n",
        "Most properties have 1,300 sqft_living\n",
        "\n",
        "Most properties have 5,000 sqft_lot\n",
        "\n",
        "Most properties have 1,300 sqft_above\n",
        "\n",
        "Most properties have no basements\n",
        "\n",
        "Most properties have not been renewed\n",
        "\n",
        "Most properties were built in 2014\n"
      ],
      "metadata": {
        "id": "lzbe9vY9sa-c"
      }
    },
    {
      "cell_type": "code",
      "source": [
        "# Histograms of our dataframe\n",
        "sale_df.hist(figsize=(20,20), xrot= -45, color = '#DA70D6')\n",
        "plt.show()"
      ],
      "metadata": {
        "colab": {
          "base_uri": "https://localhost:8080/",
          "height": 1000
        },
        "id": "w8bJNjTJzzw9",
        "outputId": "d3b36584-cc6a-42ae-811b-60ea477d2052"
      },
      "execution_count": null,
      "outputs": [
        {
          "output_type": "display_data",
          "data": {
            "image/png": "[encoded data removed]",
            "text/plain": [
              "<Figure size 1440x1440 with 20 Axes>"
            ]
          },
          "metadata": {
            "needs_background": "light"
          }
        }
      ]
    },
    {
      "cell_type": "markdown",
      "source": [
        "None of our variables are normally distributed"
      ],
      "metadata": {
        "id": "0qmjCuYty36Y"
      }
    },
    {
      "cell_type": "code",
      "source": [
        "# Checking the mean, standard deviation and quantiles of our dataframe\n",
        "sale_df.describe() "
      ],
      "metadata": {
        "colab": {
          "base_uri": "https://localhost:8080/",
          "height": 363
        },
        "id": "JjFspS02y8wd",
        "outputId": "f9f8d91e-d3c5-4fc1-8b33-e75466a57568"
      },
      "execution_count": null,
      "outputs": [
        {
          "output_type": "execute_result",
          "data": {
            "text/html": [
              "\n",
              "  <div id=\"df-d73044b2-81ca-4cfb-aa4a-09e2494d4606\">\n",
              "    <div class=\"colab-df-container\">\n",
              "      <div>\n",
              "<style scoped>\n",
              "    .dataframe tbody tr th:only-of-type {\n",
              "        vertical-align: middle;\n",
              "    }\n",
              "\n",
              "    .dataframe tbody tr th {\n",
              "        vertical-align: top;\n",
              "    }\n",
              "\n",
              "    .dataframe thead th {\n",
              "        text-align: right;\n",
              "    }\n",
              "</style>\n",
              "<table border=\"1\" class=\"dataframe\">\n",
              "  <thead>\n",
              "    <tr style=\"text-align: right;\">\n",
              "      <th></th>\n",
              "      <th>price</th>\n",
              "      <th>bedrooms</th>\n",
              "      <th>bathrooms</th>\n",
              "      <th>sqft_living</th>\n",
              "      <th>sqft_lot</th>\n",
              "      <th>floors</th>\n",
              "      <th>waterfront</th>\n",
              "      <th>view</th>\n",
              "      <th>condition</th>\n",
              "      <th>grade</th>\n",
              "      <th>sqft_above</th>\n",
              "      <th>sqft_basement</th>\n",
              "      <th>yr_built</th>\n",
              "      <th>yr_renovated</th>\n",
              "      <th>zipcode</th>\n",
              "      <th>sqft_living15</th>\n",
              "      <th>sqft_lot15</th>\n",
              "    </tr>\n",
              "  </thead>\n",
              "  <tbody>\n",
              "    <tr>\n",
              "      <th>count</th>\n",
              "      <td>2.161300e+04</td>\n",
              "      <td>21613.000000</td>\n",
              "      <td>21613.000000</td>\n",
              "      <td>21613.000000</td>\n",
              "      <td>2.161300e+04</td>\n",
              "      <td>21613.000000</td>\n",
              "      <td>21613.000000</td>\n",
              "      <td>21613.000000</td>\n",
              "      <td>21613.000000</td>\n",
              "      <td>21613.000000</td>\n",
              "      <td>21613.000000</td>\n",
              "      <td>21613.000000</td>\n",
              "      <td>21613.000000</td>\n",
              "      <td>21613.000000</td>\n",
              "      <td>21613.000000</td>\n",
              "      <td>21613.000000</td>\n",
              "      <td>21613.000000</td>\n",
              "    </tr>\n",
              "    <tr>\n",
              "      <th>mean</th>\n",
              "      <td>5.401822e+05</td>\n",
              "      <td>3.370842</td>\n",
              "      <td>2.114757</td>\n",
              "      <td>2079.899736</td>\n",
              "      <td>1.510697e+04</td>\n",
              "      <td>1.494309</td>\n",
              "      <td>0.007542</td>\n",
              "      <td>0.234303</td>\n",
              "      <td>3.409430</td>\n",
              "      <td>7.656873</td>\n",
              "      <td>1788.390691</td>\n",
              "      <td>291.509045</td>\n",
              "      <td>1971.005136</td>\n",
              "      <td>84.402258</td>\n",
              "      <td>98077.939805</td>\n",
              "      <td>1986.552492</td>\n",
              "      <td>12768.455652</td>\n",
              "    </tr>\n",
              "    <tr>\n",
              "      <th>std</th>\n",
              "      <td>3.673622e+05</td>\n",
              "      <td>0.930062</td>\n",
              "      <td>0.770163</td>\n",
              "      <td>918.440897</td>\n",
              "      <td>4.142051e+04</td>\n",
              "      <td>0.539989</td>\n",
              "      <td>0.086517</td>\n",
              "      <td>0.766318</td>\n",
              "      <td>0.650743</td>\n",
              "      <td>1.175459</td>\n",
              "      <td>828.090978</td>\n",
              "      <td>442.575043</td>\n",
              "      <td>29.373411</td>\n",
              "      <td>401.679240</td>\n",
              "      <td>53.505026</td>\n",
              "      <td>685.391304</td>\n",
              "      <td>27304.179631</td>\n",
              "    </tr>\n",
              "    <tr>\n",
              "      <th>min</th>\n",
              "      <td>7.500000e+04</td>\n",
              "      <td>0.000000</td>\n",
              "      <td>0.000000</td>\n",
              "      <td>290.000000</td>\n",
              "      <td>5.200000e+02</td>\n",
              "      <td>1.000000</td>\n",
              "      <td>0.000000</td>\n",
              "      <td>0.000000</td>\n",
              "      <td>1.000000</td>\n",
              "      <td>1.000000</td>\n",
              "      <td>290.000000</td>\n",
              "      <td>0.000000</td>\n",
              "      <td>1900.000000</td>\n",
              "      <td>0.000000</td>\n",
              "      <td>98001.000000</td>\n",
              "      <td>399.000000</td>\n",
              "      <td>651.000000</td>\n",
              "    </tr>\n",
              "    <tr>\n",
              "      <th>25%</th>\n",
              "      <td>3.219500e+05</td>\n",
              "      <td>3.000000</td>\n",
              "      <td>1.750000</td>\n",
              "      <td>1427.000000</td>\n",
              "      <td>5.040000e+03</td>\n",
              "      <td>1.000000</td>\n",
              "      <td>0.000000</td>\n",
              "      <td>0.000000</td>\n",
              "      <td>3.000000</td>\n",
              "      <td>7.000000</td>\n",
              "      <td>1190.000000</td>\n",
              "      <td>0.000000</td>\n",
              "      <td>1951.000000</td>\n",
              "      <td>0.000000</td>\n",
              "      <td>98033.000000</td>\n",
              "      <td>1490.000000</td>\n",
              "      <td>5100.000000</td>\n",
              "    </tr>\n",
              "    <tr>\n",
              "      <th>50%</th>\n",
              "      <td>4.500000e+05</td>\n",
              "      <td>3.000000</td>\n",
              "      <td>2.250000</td>\n",
              "      <td>1910.000000</td>\n",
              "      <td>7.618000e+03</td>\n",
              "      <td>1.500000</td>\n",
              "      <td>0.000000</td>\n",
              "      <td>0.000000</td>\n",
              "      <td>3.000000</td>\n",
              "      <td>7.000000</td>\n",
              "      <td>1560.000000</td>\n",
              "      <td>0.000000</td>\n",
              "      <td>1975.000000</td>\n",
              "      <td>0.000000</td>\n",
              "      <td>98065.000000</td>\n",
              "      <td>1840.000000</td>\n",
              "      <td>7620.000000</td>\n",
              "    </tr>\n",
              "    <tr>\n",
              "      <th>75%</th>\n",
              "      <td>6.450000e+05</td>\n",
              "      <td>4.000000</td>\n",
              "      <td>2.500000</td>\n",
              "      <td>2550.000000</td>\n",
              "      <td>1.068800e+04</td>\n",
              "      <td>2.000000</td>\n",
              "      <td>0.000000</td>\n",
              "      <td>0.000000</td>\n",
              "      <td>4.000000</td>\n",
              "      <td>8.000000</td>\n",
              "      <td>2210.000000</td>\n",
              "      <td>560.000000</td>\n",
              "      <td>1997.000000</td>\n",
              "      <td>0.000000</td>\n",
              "      <td>98118.000000</td>\n",
              "      <td>2360.000000</td>\n",
              "      <td>10083.000000</td>\n",
              "    </tr>\n",
              "    <tr>\n",
              "      <th>max</th>\n",
              "      <td>7.700000e+06</td>\n",
              "      <td>33.000000</td>\n",
              "      <td>8.000000</td>\n",
              "      <td>13540.000000</td>\n",
              "      <td>1.651359e+06</td>\n",
              "      <td>3.500000</td>\n",
              "      <td>1.000000</td>\n",
              "      <td>4.000000</td>\n",
              "      <td>5.000000</td>\n",
              "      <td>13.000000</td>\n",
              "      <td>9410.000000</td>\n",
              "      <td>4820.000000</td>\n",
              "      <td>2015.000000</td>\n",
              "      <td>2015.000000</td>\n",
              "      <td>98199.000000</td>\n",
              "      <td>6210.000000</td>\n",
              "      <td>871200.000000</td>\n",
              "    </tr>\n",
              "  </tbody>\n",
              "</table>\n",
              "</div>\n",
              "      <button class=\"colab-df-convert\" onclick=\"convertToInteractive('df-d73044b2-81ca-4cfb-aa4a-09e2494d4606')\"\n",
              "              title=\"Convert this dataframe to an interactive table.\"\n",
              "              style=\"display:none;\">\n",
              "        \n",
              "  <svg xmlns=\"http://www.w3.org/2000/svg\" height=\"24px\"viewBox=\"0 0 24 24\"\n",
              "       width=\"24px\">\n",
              "    <path d=\"M0 0h24v24H0V0z\" fill=\"none\"/>\n",
              "    <path d=\"M18.56 5.44l.94 2.06.94-2.06 2.06-.94-2.06-.94-.94-2.06-.94 2.06-2.06.94zm-11 1L8.5 8.5l.94-2.06 2.06-.94-2.06-.94L8.5 2.5l-.94 2.06-2.06.94zm10 10l.94 2.06.94-2.06 2.06-.94-2.06-.94-.94-2.06-.94 2.06-2.06.94z\"/><path d=\"M17.41 7.96l-1.37-1.37c-.4-.4-.92-.59-1.43-.59-.52 0-1.04.2-1.43.59L10.3 9.45l-7.72 7.72c-.78.78-.78 2.05 0 2.83L4 21.41c.39.39.9.59 1.41.59.51 0 1.02-.2 1.41-.59l7.78-7.78 2.81-2.81c.8-.78.8-2.07 0-2.86zM5.41 20L4 18.59l7.72-7.72 1.47 1.35L5.41 20z\"/>\n",
              "  </svg>\n",
              "      </button>\n",
              "      \n",
              "  <style>\n",
              "    .colab-df-container {\n",
              "      display:flex;\n",
              "      flex-wrap:wrap;\n",
              "      gap: 12px;\n",
              "    }\n",
              "\n",
              "    .colab-df-convert {\n",
              "      background-color: #E8F0FE;\n",
              "      border: none;\n",
              "      border-radius: 50%;\n",
              "      cursor: pointer;\n",
              "      display: none;\n",
              "      fill: #1967D2;\n",
              "      height: 32px;\n",
              "      padding: 0 0 0 0;\n",
              "      width: 32px;\n",
              "    }\n",
              "\n",
              "    .colab-df-convert:hover {\n",
              "      background-color: #E2EBFA;\n",
              "      box-shadow: 0px 1px 2px rgba(60, 64, 67, 0.3), 0px 1px 3px 1px rgba(60, 64, 67, 0.15);\n",
              "      fill: #174EA6;\n",
              "    }\n",
              "\n",
              "    [theme=dark] .colab-df-convert {\n",
              "      background-color: #3B4455;\n",
              "      fill: #D2E3FC;\n",
              "    }\n",
              "\n",
              "    [theme=dark] .colab-df-convert:hover {\n",
              "      background-color: #434B5C;\n",
              "      box-shadow: 0px 1px 3px 1px rgba(0, 0, 0, 0.15);\n",
              "      filter: drop-shadow(0px 1px 2px rgba(0, 0, 0, 0.3));\n",
              "      fill: #FFFFFF;\n",
              "    }\n",
              "  </style>\n",
              "\n",
              "      <script>\n",
              "        const buttonEl =\n",
              "          document.querySelector('#df-d73044b2-81ca-4cfb-aa4a-09e2494d4606 button.colab-df-convert');\n",
              "        buttonEl.style.display =\n",
              "          google.colab.kernel.accessAllowed ? 'block' : 'none';\n",
              "\n",
              "        async function convertToInteractive(key) {\n",
              "          const element = document.querySelector('#df-d73044b2-81ca-4cfb-aa4a-09e2494d4606');\n",
              "          const dataTable =\n",
              "            await google.colab.kernel.invokeFunction('convertToInteractive',\n",
              "                                                     [key], {});\n",
              "          if (!dataTable) return;\n",
              "\n",
              "          const docLinkHtml = 'Like what you see? Visit the ' +\n",
              "            '<a target=\"_blank\" href=https://colab.research.google.com/notebooks/data_table.ipynb>data table notebook</a>'\n",
              "            + ' to learn more about interactive tables.';\n",
              "          element.innerHTML = '';\n",
              "          dataTable['output_type'] = 'display_data';\n",
              "          await google.colab.output.renderOutput(dataTable, element);\n",
              "          const docLink = document.createElement('div');\n",
              "          docLink.innerHTML = docLinkHtml;\n",
              "          element.appendChild(docLink);\n",
              "        }\n",
              "      </script>\n",
              "    </div>\n",
              "  </div>\n",
              "  "
            ],
            "text/plain": [
              "              price      bedrooms  ...  sqft_living15     sqft_lot15\n",
              "count  2.161300e+04  21613.000000  ...   21613.000000   21613.000000\n",
              "mean   5.401822e+05      3.370842  ...    1986.552492   12768.455652\n",
              "std    3.673622e+05      0.930062  ...     685.391304   27304.179631\n",
              "min    7.500000e+04      0.000000  ...     399.000000     651.000000\n",
              "25%    3.219500e+05      3.000000  ...    1490.000000    5100.000000\n",
              "50%    4.500000e+05      3.000000  ...    1840.000000    7620.000000\n",
              "75%    6.450000e+05      4.000000  ...    2360.000000   10083.000000\n",
              "max    7.700000e+06     33.000000  ...    6210.000000  871200.000000\n",
              "\n",
              "[8 rows x 17 columns]"
            ]
          },
          "metadata": {},
          "execution_count": 123
        }
      ]
    },
    {
      "cell_type": "code",
      "source": [
        "# Checking the median, mode, varaince, skewness and kurtosis of our dataframe\n",
        "for i in col:\n",
        "  print('The median of', i, 'is:')\n",
        "  print(sale_df[i].median())\n",
        "  print('The mode of', i, 'is:')\n",
        "  print(sale_df[i].mode())\n",
        "  print('The variance of', i, 'is:')\n",
        "  print(sale_df[i].var())\n",
        "  print('The skewness of', i, 'is:')\n",
        "  print(sale_df[i].skew())\n",
        "  print('The kurtosis of', i, 'is:')\n",
        "  print(sale_df[i].kurt())\n",
        "  print('                                    ')\n",
        "  print('************************************')"
      ],
      "metadata": {
        "colab": {
          "base_uri": "https://localhost:8080/"
        },
        "id": "dzJNYgoyzGb2",
        "outputId": "2607cdf6-2cce-45c2-8412-f36ab583223a"
      },
      "execution_count": null,
      "outputs": [
        {
          "output_type": "stream",
          "name": "stdout",
          "text": [
            "The median of price is:\n",
            "450000.0\n",
            "The mode of price is:\n",
            "0    350000.0\n",
            "1    450000.0\n",
            "dtype: float64\n",
            "The variance of price is:\n",
            "134955009292.83669\n",
            "The skewness of price is:\n",
            "4.021715573048684\n",
            "The kurtosis of price is:\n",
            "34.522444410072566\n",
            "                                    \n",
            "************************************\n",
            "The median of bedrooms is:\n",
            "3.0\n",
            "The mode of bedrooms is:\n",
            "0    3\n",
            "dtype: int64\n",
            "The variance of bedrooms is:\n",
            "0.8650150097573724\n",
            "The skewness of bedrooms is:\n",
            "1.97429953543601\n",
            "The kurtosis of bedrooms is:\n",
            "49.06365318170099\n",
            "                                    \n",
            "************************************\n",
            "The median of bathrooms is:\n",
            "2.25\n",
            "The mode of bathrooms is:\n",
            "0    2.5\n",
            "dtype: float64\n",
            "The variance of bathrooms is:\n",
            "0.5931512887355798\n",
            "The skewness of bathrooms is:\n",
            "0.5111075733474171\n",
            "The kurtosis of bathrooms is:\n",
            "1.2799024441754554\n",
            "                                    \n",
            "************************************\n",
            "The median of sqft_living is:\n",
            "1910.0\n",
            "The mode of sqft_living is:\n",
            "0    1300\n",
            "dtype: int64\n",
            "The variance of sqft_living is:\n",
            "843533.6813681519\n",
            "The skewness of sqft_living is:\n",
            "1.471555426802092\n",
            "The kurtosis of sqft_living is:\n",
            "5.24309298981711\n",
            "                                    \n",
            "************************************\n",
            "The median of sqft_lot is:\n",
            "7618.0\n",
            "The mode of sqft_lot is:\n",
            "0    5000\n",
            "dtype: int64\n",
            "The variance of sqft_lot is:\n",
            "1715658774.1754541\n",
            "The skewness of sqft_lot is:\n",
            "13.060018959031755\n",
            "The kurtosis of sqft_lot is:\n",
            "285.0778196973658\n",
            "                                    \n",
            "************************************\n",
            "The median of floors is:\n",
            "1.5\n",
            "The mode of floors is:\n",
            "0    1.0\n",
            "dtype: float64\n",
            "The variance of floors is:\n",
            "0.29158800687709074\n",
            "The skewness of floors is:\n",
            "0.616176721157611\n",
            "The kurtosis of floors is:\n",
            "-0.4847229368298285\n",
            "                                    \n",
            "************************************\n",
            "The median of waterfront is:\n",
            "0.0\n",
            "The mode of waterfront is:\n",
            "0    0\n",
            "dtype: int64\n",
            "The variance of waterfront is:\n",
            "0.007485225502689098\n",
            "The skewness of waterfront is:\n",
            "11.385107942339081\n",
            "The kurtosis of waterfront is:\n",
            "127.63249356537696\n",
            "                                    \n",
            "************************************\n",
            "The median of view is:\n",
            "0.0\n",
            "The mode of view is:\n",
            "0    0\n",
            "dtype: int64\n",
            "The variance of view is:\n",
            "0.5872426169774596\n",
            "The skewness of view is:\n",
            "3.395749593248714\n",
            "The kurtosis of view is:\n",
            "10.893021684601504\n",
            "                                    \n",
            "************************************\n",
            "The median of condition is:\n",
            "3.0\n",
            "The mode of condition is:\n",
            "0    3\n",
            "dtype: int64\n",
            "The variance of condition is:\n",
            "0.42346651239404876\n",
            "The skewness of condition is:\n",
            "1.0328046374434587\n",
            "The kurtosis of condition is:\n",
            "0.5257635652845423\n",
            "                                    \n",
            "************************************\n",
            "The median of grade is:\n",
            "7.0\n",
            "The mode of grade is:\n",
            "0    7\n",
            "dtype: int64\n",
            "The variance of grade is:\n",
            "1.3817032893475767\n",
            "The skewness of grade is:\n",
            "0.7711032007576067\n",
            "The kurtosis of grade is:\n",
            "1.1909320773987657\n",
            "                                    \n",
            "************************************\n",
            "The median of sqft_above is:\n",
            "1560.0\n",
            "The mode of sqft_above is:\n",
            "0    1300\n",
            "dtype: int64\n",
            "The variance of sqft_above is:\n",
            "685734.6672685045\n",
            "The skewness of sqft_above is:\n",
            "1.4466644733818372\n",
            "The kurtosis of sqft_above is:\n",
            "3.40230362139787\n",
            "                                    \n",
            "************************************\n",
            "The median of sqft_basement is:\n",
            "0.0\n",
            "The mode of sqft_basement is:\n",
            "0    0\n",
            "dtype: int64\n",
            "The variance of sqft_basement is:\n",
            "195872.66840094145\n",
            "The skewness of sqft_basement is:\n",
            "1.5779650555996247\n",
            "The kurtosis of sqft_basement is:\n",
            "2.7155742114129353\n",
            "                                    \n",
            "************************************\n",
            "The median of yr_built is:\n",
            "1975.0\n",
            "The mode of yr_built is:\n",
            "0    2014\n",
            "dtype: int64\n",
            "The variance of yr_built is:\n",
            "862.7972621659717\n",
            "The skewness of yr_built is:\n",
            "-0.46980539881436767\n",
            "The kurtosis of yr_built is:\n",
            "-0.657407504733527\n",
            "                                    \n",
            "************************************\n",
            "The median of yr_renovated is:\n",
            "0.0\n",
            "The mode of yr_renovated is:\n",
            "0    0\n",
            "dtype: int64\n",
            "The variance of yr_renovated is:\n",
            "161346.2118623043\n",
            "The skewness of yr_renovated is:\n",
            "4.549493366993928\n",
            "The kurtosis of yr_renovated is:\n",
            "18.701152117599058\n",
            "                                    \n",
            "************************************\n",
            "The median of zipcode is:\n",
            "98065.0\n",
            "The mode of zipcode is:\n",
            "0    98103\n",
            "dtype: int64\n",
            "The variance of zipcode is:\n",
            "2862.7878348129493\n",
            "The skewness of zipcode is:\n",
            "0.4056612082396646\n",
            "The kurtosis of zipcode is:\n",
            "-0.8534788732101246\n",
            "                                    \n",
            "************************************\n",
            "The median of sqft_living15 is:\n",
            "1840.0\n",
            "The mode of sqft_living15 is:\n",
            "0    1540\n",
            "dtype: int64\n",
            "The variance of sqft_living15 is:\n",
            "469761.23994532274\n",
            "The skewness of sqft_living15 is:\n",
            "1.1081812758966967\n",
            "The kurtosis of sqft_living15 is:\n",
            "1.5970958104616884\n",
            "                                    \n",
            "************************************\n",
            "The median of sqft_lot15 is:\n",
            "7620.0\n",
            "The mode of sqft_lot15 is:\n",
            "0    5000\n",
            "dtype: int64\n",
            "The variance of sqft_lot15 is:\n",
            "745518225.3404043\n",
            "The skewness of sqft_lot15 is:\n",
            "9.506743246764398\n",
            "The kurtosis of sqft_lot15 is:\n",
            "150.76311004626973\n",
            "                                    \n",
            "************************************\n"
          ]
        }
      ]
    },
    {
      "cell_type": "markdown",
      "source": [
        "##Bivariate Analysis"
      ],
      "metadata": {
        "id": "VoK9t1MVxvWr"
      }
    },
    {
      "cell_type": "code",
      "source": [
        "# We will compare price to some of our variables\n",
        "col = ['bedrooms', 'bathrooms', 'sqft_living', 'sqft_lot', 'floors',\n",
        "       'waterfront', 'view','zipcode']\n",
        "\n",
        "for i in col:\n",
        "  fig = plt.figure(figsize = (10,5))\n",
        "  x = sale_df[i]\n",
        "  y = sale_df['price']\n",
        "  plt.bar(x,y, color = '#DA70D6')\n",
        "  plt.xlabel(i)\n",
        "  plt.ylabel('Price of property')\n",
        "  plt.show()\n"
      ],
      "metadata": {
        "colab": {
          "base_uri": "https://localhost:8080/",
          "height": 1000
        },
        "id": "mvp0BHBhn_e3",
        "outputId": "f9ab1dda-022d-4a60-f584-8547db029b2e"
      },
      "execution_count": null,
      "outputs": [
        {
          "output_type": "display_data",
          "data": {
            "image/png": "[encoded data removed]",
            "text/plain": [
              "<Figure size 720x360 with 1 Axes>"
            ]
          },
          "metadata": {
            "needs_background": "light"
          }
        },
        {
          "output_type": "display_data",
          "data": {
            "image/png": "[encoded data removed]",
            "text/plain": [
              "<Figure size 720x360 with 1 Axes>"
            ]
          },
          "metadata": {
            "needs_background": "light"
          }
        },
        {
          "output_type": "display_data",
          "data": {
            "image/png": "[encoded data removed]",
            "text/plain": [
              "<Figure size 720x360 with 1 Axes>"
            ]
          },
          "metadata": {
            "needs_background": "light"
          }
        },
        {
          "output_type": "display_data",
          "data": {
            "image/png": "[encoded data removed]",
            "text/plain": [
              "<Figure size 720x360 with 1 Axes>"
            ]
          },
          "metadata": {
            "needs_background": "light"
          }
        },
        {
          "output_type": "display_data",
          "data": {
            "image/png": "[encoded data removed]",
            "text/plain": [
              "<Figure size 720x360 with 1 Axes>"
            ]
          },
          "metadata": {
            "needs_background": "light"
          }
        },
        {
          "output_type": "display_data",
          "data": {
            "image/png": "[encoded data removed]",
            "text/plain": [
              "<Figure size 720x360 with 1 Axes>"
            ]
          },
          "metadata": {
            "needs_background": "light"
          }
        },
        {
          "output_type": "display_data",
          "data": {
            "image/png": "[encoded data removed]",
            "text/plain": [
              "<Figure size 720x360 with 1 Axes>"
            ]
          },
          "metadata": {
            "needs_background": "light"
          }
        },
        {
          "output_type": "display_data",
          "data": {
            "image/png": "[encoded data removed]",
            "text/plain": [
              "<Figure size 720x360 with 1 Axes>"
            ]
          },
          "metadata": {
            "needs_background": "light"
          }
        }
      ]
    },
    {
      "cell_type": "markdown",
      "source": [
        "Most expensive properties have 6 bedrooms\n",
        "\n",
        "Most expensive properties have 4.5 bathrooms\n",
        "\n",
        "Most expensive properties have 8,000 sqrt_living\n",
        "\n",
        "Most expensive properties have 2.5 floors\n",
        "\n",
        "Most expensive properties are not waterfont\n",
        "\n",
        "Most expensive properties have 3 views\n"
      ],
      "metadata": {
        "id": "DKzTQJSzu5Vm"
      }
    },
    {
      "cell_type": "code",
      "source": [
        "# Asses correlation between our variables \n",
        "sale_df.corr()"
      ],
      "metadata": {
        "colab": {
          "base_uri": "https://localhost:8080/",
          "height": 646
        },
        "id": "spQdmy2Txzc5",
        "outputId": "b81ff318-45c8-4db7-a914-8a283d60d706"
      },
      "execution_count": null,
      "outputs": [
        {
          "output_type": "execute_result",
          "data": {
            "text/html": [
              "\n",
              "  <div id=\"df-dc391b19-7690-49b5-89b0-7e3660a5961b\">\n",
              "    <div class=\"colab-df-container\">\n",
              "      <div>\n",
              "<style scoped>\n",
              "    .dataframe tbody tr th:only-of-type {\n",
              "        vertical-align: middle;\n",
              "    }\n",
              "\n",
              "    .dataframe tbody tr th {\n",
              "        vertical-align: top;\n",
              "    }\n",
              "\n",
              "    .dataframe thead th {\n",
              "        text-align: right;\n",
              "    }\n",
              "</style>\n",
              "<table border=\"1\" class=\"dataframe\">\n",
              "  <thead>\n",
              "    <tr style=\"text-align: right;\">\n",
              "      <th></th>\n",
              "      <th>price</th>\n",
              "      <th>bedrooms</th>\n",
              "      <th>bathrooms</th>\n",
              "      <th>sqft_living</th>\n",
              "      <th>sqft_lot</th>\n",
              "      <th>floors</th>\n",
              "      <th>waterfront</th>\n",
              "      <th>view</th>\n",
              "      <th>condition</th>\n",
              "      <th>grade</th>\n",
              "      <th>sqft_above</th>\n",
              "      <th>sqft_basement</th>\n",
              "      <th>yr_built</th>\n",
              "      <th>yr_renovated</th>\n",
              "      <th>zipcode</th>\n",
              "      <th>sqft_living15</th>\n",
              "      <th>sqft_lot15</th>\n",
              "    </tr>\n",
              "  </thead>\n",
              "  <tbody>\n",
              "    <tr>\n",
              "      <th>price</th>\n",
              "      <td>1.000000</td>\n",
              "      <td>0.308338</td>\n",
              "      <td>0.525134</td>\n",
              "      <td>0.702044</td>\n",
              "      <td>0.089655</td>\n",
              "      <td>0.256786</td>\n",
              "      <td>0.266331</td>\n",
              "      <td>0.397346</td>\n",
              "      <td>0.036392</td>\n",
              "      <td>0.667463</td>\n",
              "      <td>0.605566</td>\n",
              "      <td>0.323837</td>\n",
              "      <td>0.053982</td>\n",
              "      <td>0.126442</td>\n",
              "      <td>-0.053168</td>\n",
              "      <td>0.585374</td>\n",
              "      <td>0.082456</td>\n",
              "    </tr>\n",
              "    <tr>\n",
              "      <th>bedrooms</th>\n",
              "      <td>0.308338</td>\n",
              "      <td>1.000000</td>\n",
              "      <td>0.515884</td>\n",
              "      <td>0.576671</td>\n",
              "      <td>0.031703</td>\n",
              "      <td>0.175429</td>\n",
              "      <td>-0.006582</td>\n",
              "      <td>0.079532</td>\n",
              "      <td>0.028472</td>\n",
              "      <td>0.356967</td>\n",
              "      <td>0.477600</td>\n",
              "      <td>0.303093</td>\n",
              "      <td>0.154178</td>\n",
              "      <td>0.018841</td>\n",
              "      <td>-0.152668</td>\n",
              "      <td>0.391638</td>\n",
              "      <td>0.029244</td>\n",
              "    </tr>\n",
              "    <tr>\n",
              "      <th>bathrooms</th>\n",
              "      <td>0.525134</td>\n",
              "      <td>0.515884</td>\n",
              "      <td>1.000000</td>\n",
              "      <td>0.754665</td>\n",
              "      <td>0.087740</td>\n",
              "      <td>0.500653</td>\n",
              "      <td>0.063744</td>\n",
              "      <td>0.187737</td>\n",
              "      <td>-0.124982</td>\n",
              "      <td>0.664983</td>\n",
              "      <td>0.685342</td>\n",
              "      <td>0.283770</td>\n",
              "      <td>0.506019</td>\n",
              "      <td>0.050739</td>\n",
              "      <td>-0.203866</td>\n",
              "      <td>0.568634</td>\n",
              "      <td>0.087175</td>\n",
              "    </tr>\n",
              "    <tr>\n",
              "      <th>sqft_living</th>\n",
              "      <td>0.702044</td>\n",
              "      <td>0.576671</td>\n",
              "      <td>0.754665</td>\n",
              "      <td>1.000000</td>\n",
              "      <td>0.172826</td>\n",
              "      <td>0.353949</td>\n",
              "      <td>0.103818</td>\n",
              "      <td>0.284611</td>\n",
              "      <td>-0.058753</td>\n",
              "      <td>0.762704</td>\n",
              "      <td>0.876597</td>\n",
              "      <td>0.435043</td>\n",
              "      <td>0.318049</td>\n",
              "      <td>0.055363</td>\n",
              "      <td>-0.199430</td>\n",
              "      <td>0.756420</td>\n",
              "      <td>0.183286</td>\n",
              "    </tr>\n",
              "    <tr>\n",
              "      <th>sqft_lot</th>\n",
              "      <td>0.089655</td>\n",
              "      <td>0.031703</td>\n",
              "      <td>0.087740</td>\n",
              "      <td>0.172826</td>\n",
              "      <td>1.000000</td>\n",
              "      <td>-0.005201</td>\n",
              "      <td>0.021604</td>\n",
              "      <td>0.074710</td>\n",
              "      <td>-0.008958</td>\n",
              "      <td>0.113621</td>\n",
              "      <td>0.183512</td>\n",
              "      <td>0.015286</td>\n",
              "      <td>0.053080</td>\n",
              "      <td>0.007644</td>\n",
              "      <td>-0.129574</td>\n",
              "      <td>0.144608</td>\n",
              "      <td>0.718557</td>\n",
              "    </tr>\n",
              "    <tr>\n",
              "      <th>floors</th>\n",
              "      <td>0.256786</td>\n",
              "      <td>0.175429</td>\n",
              "      <td>0.500653</td>\n",
              "      <td>0.353949</td>\n",
              "      <td>-0.005201</td>\n",
              "      <td>1.000000</td>\n",
              "      <td>0.023698</td>\n",
              "      <td>0.029444</td>\n",
              "      <td>-0.263768</td>\n",
              "      <td>0.458183</td>\n",
              "      <td>0.523885</td>\n",
              "      <td>-0.245705</td>\n",
              "      <td>0.489319</td>\n",
              "      <td>0.006338</td>\n",
              "      <td>-0.059121</td>\n",
              "      <td>0.279885</td>\n",
              "      <td>-0.011269</td>\n",
              "    </tr>\n",
              "    <tr>\n",
              "      <th>waterfront</th>\n",
              "      <td>0.266331</td>\n",
              "      <td>-0.006582</td>\n",
              "      <td>0.063744</td>\n",
              "      <td>0.103818</td>\n",
              "      <td>0.021604</td>\n",
              "      <td>0.023698</td>\n",
              "      <td>1.000000</td>\n",
              "      <td>0.401857</td>\n",
              "      <td>0.016653</td>\n",
              "      <td>0.082775</td>\n",
              "      <td>0.072075</td>\n",
              "      <td>0.080588</td>\n",
              "      <td>-0.026161</td>\n",
              "      <td>0.092885</td>\n",
              "      <td>0.030285</td>\n",
              "      <td>0.086463</td>\n",
              "      <td>0.030703</td>\n",
              "    </tr>\n",
              "    <tr>\n",
              "      <th>view</th>\n",
              "      <td>0.397346</td>\n",
              "      <td>0.079532</td>\n",
              "      <td>0.187737</td>\n",
              "      <td>0.284611</td>\n",
              "      <td>0.074710</td>\n",
              "      <td>0.029444</td>\n",
              "      <td>0.401857</td>\n",
              "      <td>1.000000</td>\n",
              "      <td>0.045990</td>\n",
              "      <td>0.251321</td>\n",
              "      <td>0.167649</td>\n",
              "      <td>0.276947</td>\n",
              "      <td>-0.053440</td>\n",
              "      <td>0.103917</td>\n",
              "      <td>0.084827</td>\n",
              "      <td>0.280439</td>\n",
              "      <td>0.072575</td>\n",
              "    </tr>\n",
              "    <tr>\n",
              "      <th>condition</th>\n",
              "      <td>0.036392</td>\n",
              "      <td>0.028472</td>\n",
              "      <td>-0.124982</td>\n",
              "      <td>-0.058753</td>\n",
              "      <td>-0.008958</td>\n",
              "      <td>-0.263768</td>\n",
              "      <td>0.016653</td>\n",
              "      <td>0.045990</td>\n",
              "      <td>1.000000</td>\n",
              "      <td>-0.144674</td>\n",
              "      <td>-0.158214</td>\n",
              "      <td>0.174105</td>\n",
              "      <td>-0.361417</td>\n",
              "      <td>-0.060618</td>\n",
              "      <td>0.003026</td>\n",
              "      <td>-0.092824</td>\n",
              "      <td>-0.003406</td>\n",
              "    </tr>\n",
              "    <tr>\n",
              "      <th>grade</th>\n",
              "      <td>0.667463</td>\n",
              "      <td>0.356967</td>\n",
              "      <td>0.664983</td>\n",
              "      <td>0.762704</td>\n",
              "      <td>0.113621</td>\n",
              "      <td>0.458183</td>\n",
              "      <td>0.082775</td>\n",
              "      <td>0.251321</td>\n",
              "      <td>-0.144674</td>\n",
              "      <td>1.000000</td>\n",
              "      <td>0.755923</td>\n",
              "      <td>0.168392</td>\n",
              "      <td>0.446963</td>\n",
              "      <td>0.014414</td>\n",
              "      <td>-0.184862</td>\n",
              "      <td>0.713202</td>\n",
              "      <td>0.119248</td>\n",
              "    </tr>\n",
              "    <tr>\n",
              "      <th>sqft_above</th>\n",
              "      <td>0.605566</td>\n",
              "      <td>0.477600</td>\n",
              "      <td>0.685342</td>\n",
              "      <td>0.876597</td>\n",
              "      <td>0.183512</td>\n",
              "      <td>0.523885</td>\n",
              "      <td>0.072075</td>\n",
              "      <td>0.167649</td>\n",
              "      <td>-0.158214</td>\n",
              "      <td>0.755923</td>\n",
              "      <td>1.000000</td>\n",
              "      <td>-0.051943</td>\n",
              "      <td>0.423898</td>\n",
              "      <td>0.023285</td>\n",
              "      <td>-0.261190</td>\n",
              "      <td>0.731870</td>\n",
              "      <td>0.194050</td>\n",
              "    </tr>\n",
              "    <tr>\n",
              "      <th>sqft_basement</th>\n",
              "      <td>0.323837</td>\n",
              "      <td>0.303093</td>\n",
              "      <td>0.283770</td>\n",
              "      <td>0.435043</td>\n",
              "      <td>0.015286</td>\n",
              "      <td>-0.245705</td>\n",
              "      <td>0.080588</td>\n",
              "      <td>0.276947</td>\n",
              "      <td>0.174105</td>\n",
              "      <td>0.168392</td>\n",
              "      <td>-0.051943</td>\n",
              "      <td>1.000000</td>\n",
              "      <td>-0.133124</td>\n",
              "      <td>0.071323</td>\n",
              "      <td>0.074845</td>\n",
              "      <td>0.200355</td>\n",
              "      <td>0.017276</td>\n",
              "    </tr>\n",
              "    <tr>\n",
              "      <th>yr_built</th>\n",
              "      <td>0.053982</td>\n",
              "      <td>0.154178</td>\n",
              "      <td>0.506019</td>\n",
              "      <td>0.318049</td>\n",
              "      <td>0.053080</td>\n",
              "      <td>0.489319</td>\n",
              "      <td>-0.026161</td>\n",
              "      <td>-0.053440</td>\n",
              "      <td>-0.361417</td>\n",
              "      <td>0.446963</td>\n",
              "      <td>0.423898</td>\n",
              "      <td>-0.133124</td>\n",
              "      <td>1.000000</td>\n",
              "      <td>-0.224874</td>\n",
              "      <td>-0.346869</td>\n",
              "      <td>0.326229</td>\n",
              "      <td>0.070958</td>\n",
              "    </tr>\n",
              "    <tr>\n",
              "      <th>yr_renovated</th>\n",
              "      <td>0.126442</td>\n",
              "      <td>0.018841</td>\n",
              "      <td>0.050739</td>\n",
              "      <td>0.055363</td>\n",
              "      <td>0.007644</td>\n",
              "      <td>0.006338</td>\n",
              "      <td>0.092885</td>\n",
              "      <td>0.103917</td>\n",
              "      <td>-0.060618</td>\n",
              "      <td>0.014414</td>\n",
              "      <td>0.023285</td>\n",
              "      <td>0.071323</td>\n",
              "      <td>-0.224874</td>\n",
              "      <td>1.000000</td>\n",
              "      <td>0.064357</td>\n",
              "      <td>-0.002673</td>\n",
              "      <td>0.007854</td>\n",
              "    </tr>\n",
              "    <tr>\n",
              "      <th>zipcode</th>\n",
              "      <td>-0.053168</td>\n",
              "      <td>-0.152668</td>\n",
              "      <td>-0.203866</td>\n",
              "      <td>-0.199430</td>\n",
              "      <td>-0.129574</td>\n",
              "      <td>-0.059121</td>\n",
              "      <td>0.030285</td>\n",
              "      <td>0.084827</td>\n",
              "      <td>0.003026</td>\n",
              "      <td>-0.184862</td>\n",
              "      <td>-0.261190</td>\n",
              "      <td>0.074845</td>\n",
              "      <td>-0.346869</td>\n",
              "      <td>0.064357</td>\n",
              "      <td>1.000000</td>\n",
              "      <td>-0.279033</td>\n",
              "      <td>-0.147221</td>\n",
              "    </tr>\n",
              "    <tr>\n",
              "      <th>sqft_living15</th>\n",
              "      <td>0.585374</td>\n",
              "      <td>0.391638</td>\n",
              "      <td>0.568634</td>\n",
              "      <td>0.756420</td>\n",
              "      <td>0.144608</td>\n",
              "      <td>0.279885</td>\n",
              "      <td>0.086463</td>\n",
              "      <td>0.280439</td>\n",
              "      <td>-0.092824</td>\n",
              "      <td>0.713202</td>\n",
              "      <td>0.731870</td>\n",
              "      <td>0.200355</td>\n",
              "      <td>0.326229</td>\n",
              "      <td>-0.002673</td>\n",
              "      <td>-0.279033</td>\n",
              "      <td>1.000000</td>\n",
              "      <td>0.183192</td>\n",
              "    </tr>\n",
              "    <tr>\n",
              "      <th>sqft_lot15</th>\n",
              "      <td>0.082456</td>\n",
              "      <td>0.029244</td>\n",
              "      <td>0.087175</td>\n",
              "      <td>0.183286</td>\n",
              "      <td>0.718557</td>\n",
              "      <td>-0.011269</td>\n",
              "      <td>0.030703</td>\n",
              "      <td>0.072575</td>\n",
              "      <td>-0.003406</td>\n",
              "      <td>0.119248</td>\n",
              "      <td>0.194050</td>\n",
              "      <td>0.017276</td>\n",
              "      <td>0.070958</td>\n",
              "      <td>0.007854</td>\n",
              "      <td>-0.147221</td>\n",
              "      <td>0.183192</td>\n",
              "      <td>1.000000</td>\n",
              "    </tr>\n",
              "  </tbody>\n",
              "</table>\n",
              "</div>\n",
              "      <button class=\"colab-df-convert\" onclick=\"convertToInteractive('df-dc391b19-7690-49b5-89b0-7e3660a5961b')\"\n",
              "              title=\"Convert this dataframe to an interactive table.\"\n",
              "              style=\"display:none;\">\n",
              "        \n",
              "  <svg xmlns=\"http://www.w3.org/2000/svg\" height=\"24px\"viewBox=\"0 0 24 24\"\n",
              "       width=\"24px\">\n",
              "    <path d=\"M0 0h24v24H0V0z\" fill=\"none\"/>\n",
              "    <path d=\"M18.56 5.44l.94 2.06.94-2.06 2.06-.94-2.06-.94-.94-2.06-.94 2.06-2.06.94zm-11 1L8.5 8.5l.94-2.06 2.06-.94-2.06-.94L8.5 2.5l-.94 2.06-2.06.94zm10 10l.94 2.06.94-2.06 2.06-.94-2.06-.94-.94-2.06-.94 2.06-2.06.94z\"/><path d=\"M17.41 7.96l-1.37-1.37c-.4-.4-.92-.59-1.43-.59-.52 0-1.04.2-1.43.59L10.3 9.45l-7.72 7.72c-.78.78-.78 2.05 0 2.83L4 21.41c.39.39.9.59 1.41.59.51 0 1.02-.2 1.41-.59l7.78-7.78 2.81-2.81c.8-.78.8-2.07 0-2.86zM5.41 20L4 18.59l7.72-7.72 1.47 1.35L5.41 20z\"/>\n",
              "  </svg>\n",
              "      </button>\n",
              "      \n",
              "  <style>\n",
              "    .colab-df-container {\n",
              "      display:flex;\n",
              "      flex-wrap:wrap;\n",
              "      gap: 12px;\n",
              "    }\n",
              "\n",
              "    .colab-df-convert {\n",
              "      background-color: #E8F0FE;\n",
              "      border: none;\n",
              "      border-radius: 50%;\n",
              "      cursor: pointer;\n",
              "      display: none;\n",
              "      fill: #1967D2;\n",
              "      height: 32px;\n",
              "      padding: 0 0 0 0;\n",
              "      width: 32px;\n",
              "    }\n",
              "\n",
              "    .colab-df-convert:hover {\n",
              "      background-color: #E2EBFA;\n",
              "      box-shadow: 0px 1px 2px rgba(60, 64, 67, 0.3), 0px 1px 3px 1px rgba(60, 64, 67, 0.15);\n",
              "      fill: #174EA6;\n",
              "    }\n",
              "\n",
              "    [theme=dark] .colab-df-convert {\n",
              "      background-color: #3B4455;\n",
              "      fill: #D2E3FC;\n",
              "    }\n",
              "\n",
              "    [theme=dark] .colab-df-convert:hover {\n",
              "      background-color: #434B5C;\n",
              "      box-shadow: 0px 1px 3px 1px rgba(0, 0, 0, 0.15);\n",
              "      filter: drop-shadow(0px 1px 2px rgba(0, 0, 0, 0.3));\n",
              "      fill: #FFFFFF;\n",
              "    }\n",
              "  </style>\n",
              "\n",
              "      <script>\n",
              "        const buttonEl =\n",
              "          document.querySelector('#df-dc391b19-7690-49b5-89b0-7e3660a5961b button.colab-df-convert');\n",
              "        buttonEl.style.display =\n",
              "          google.colab.kernel.accessAllowed ? 'block' : 'none';\n",
              "\n",
              "        async function convertToInteractive(key) {\n",
              "          const element = document.querySelector('#df-dc391b19-7690-49b5-89b0-7e3660a5961b');\n",
              "          const dataTable =\n",
              "            await google.colab.kernel.invokeFunction('convertToInteractive',\n",
              "                                                     [key], {});\n",
              "          if (!dataTable) return;\n",
              "\n",
              "          const docLinkHtml = 'Like what you see? Visit the ' +\n",
              "            '<a target=\"_blank\" href=https://colab.research.google.com/notebooks/data_table.ipynb>data table notebook</a>'\n",
              "            + ' to learn more about interactive tables.';\n",
              "          element.innerHTML = '';\n",
              "          dataTable['output_type'] = 'display_data';\n",
              "          await google.colab.output.renderOutput(dataTable, element);\n",
              "          const docLink = document.createElement('div');\n",
              "          docLink.innerHTML = docLinkHtml;\n",
              "          element.appendChild(docLink);\n",
              "        }\n",
              "      </script>\n",
              "    </div>\n",
              "  </div>\n",
              "  "
            ],
            "text/plain": [
              "                  price  bedrooms  ...  sqft_living15  sqft_lot15\n",
              "price          1.000000  0.308338  ...       0.585374    0.082456\n",
              "bedrooms       0.308338  1.000000  ...       0.391638    0.029244\n",
              "bathrooms      0.525134  0.515884  ...       0.568634    0.087175\n",
              "sqft_living    0.702044  0.576671  ...       0.756420    0.183286\n",
              "sqft_lot       0.089655  0.031703  ...       0.144608    0.718557\n",
              "floors         0.256786  0.175429  ...       0.279885   -0.011269\n",
              "waterfront     0.266331 -0.006582  ...       0.086463    0.030703\n",
              "view           0.397346  0.079532  ...       0.280439    0.072575\n",
              "condition      0.036392  0.028472  ...      -0.092824   -0.003406\n",
              "grade          0.667463  0.356967  ...       0.713202    0.119248\n",
              "sqft_above     0.605566  0.477600  ...       0.731870    0.194050\n",
              "sqft_basement  0.323837  0.303093  ...       0.200355    0.017276\n",
              "yr_built       0.053982  0.154178  ...       0.326229    0.070958\n",
              "yr_renovated   0.126442  0.018841  ...      -0.002673    0.007854\n",
              "zipcode       -0.053168 -0.152668  ...      -0.279033   -0.147221\n",
              "sqft_living15  0.585374  0.391638  ...       1.000000    0.183192\n",
              "sqft_lot15     0.082456  0.029244  ...       0.183192    1.000000\n",
              "\n",
              "[17 rows x 17 columns]"
            ]
          },
          "metadata": {},
          "execution_count": 126
        }
      ]
    },
    {
      "cell_type": "markdown",
      "source": [
        "There is a strong positive correlation between sqft_living and price\n",
        "\n",
        "There is a weak negative correlation between condition and bathroom\n",
        "\n",
        "There is a strong positive correlation between grade and sqft_above"
      ],
      "metadata": {
        "id": "5Cp4b0Kf1JxV"
      }
    },
    {
      "cell_type": "code",
      "source": [
        "# Plot a heatmap\n",
        "# A visual representation of our correlation coefficients\n",
        "fig, heat = plt.subplots(figsize = (20,20))\n",
        "heat = sns.heatmap(sale_df.corr(), annot = True, cmap = 'coolwarm')\n",
        "plt.title('Correlation between different variables')\n",
        "plt.show()"
      ],
      "metadata": {
        "colab": {
          "base_uri": "https://localhost:8080/",
          "height": 1000
        },
        "id": "3TCrlMOw2FoQ",
        "outputId": "c6ec9e15-5581-40c4-aac7-e861d81709d5"
      },
      "execution_count": null,
      "outputs": [
        {
          "output_type": "display_data",
          "data": {
            "image/png": "[encoded data removed]",
            "text/plain": [
              "<Figure size 1440x1440 with 2 Axes>"
            ]
          },
          "metadata": {
            "needs_background": "light"
          }
        }
      ]
    },
    {
      "cell_type": "markdown",
      "source": [
        "##Multivariate Analysis"
      ],
      "metadata": {
        "id": "l3zYnvZ15VYB"
      }
    },
    {
      "cell_type": "code",
      "source": [
        "# We will start by separating our data into independent and dependent variables\n",
        "X = sale_df.drop('price', axis =1)\n",
        "y = sale_df['price']"
      ],
      "metadata": {
        "id": "rRDA2mpO3xoU"
      },
      "execution_count": 166,
      "outputs": []
    },
    {
      "cell_type": "code",
      "source": [
        "# Let's view our independent variables\n",
        "X"
      ],
      "metadata": {
        "colab": {
          "base_uri": "https://localhost:8080/",
          "height": 423
        },
        "id": "Cr9Qplv87bji",
        "outputId": "ed039e7d-6a3b-46a9-fd3e-21fc2ed778d6"
      },
      "execution_count": 167,
      "outputs": [
        {
          "output_type": "execute_result",
          "data": {
            "text/html": [
              "\n",
              "  <div id=\"df-2ce937c3-e1e0-4807-a948-3144900ea81e\">\n",
              "    <div class=\"colab-df-container\">\n",
              "      <div>\n",
              "<style scoped>\n",
              "    .dataframe tbody tr th:only-of-type {\n",
              "        vertical-align: middle;\n",
              "    }\n",
              "\n",
              "    .dataframe tbody tr th {\n",
              "        vertical-align: top;\n",
              "    }\n",
              "\n",
              "    .dataframe thead th {\n",
              "        text-align: right;\n",
              "    }\n",
              "</style>\n",
              "<table border=\"1\" class=\"dataframe\">\n",
              "  <thead>\n",
              "    <tr style=\"text-align: right;\">\n",
              "      <th></th>\n",
              "      <th>bedrooms</th>\n",
              "      <th>bathrooms</th>\n",
              "      <th>sqft_living</th>\n",
              "      <th>sqft_lot</th>\n",
              "      <th>floors</th>\n",
              "      <th>waterfront</th>\n",
              "      <th>view</th>\n",
              "      <th>condition</th>\n",
              "      <th>grade</th>\n",
              "      <th>sqft_above</th>\n",
              "      <th>sqft_basement</th>\n",
              "      <th>yr_built</th>\n",
              "      <th>yr_renovated</th>\n",
              "      <th>zipcode</th>\n",
              "      <th>sqft_living15</th>\n",
              "      <th>sqft_lot15</th>\n",
              "    </tr>\n",
              "  </thead>\n",
              "  <tbody>\n",
              "    <tr>\n",
              "      <th>0</th>\n",
              "      <td>3</td>\n",
              "      <td>1.00</td>\n",
              "      <td>1180</td>\n",
              "      <td>5650</td>\n",
              "      <td>1.0</td>\n",
              "      <td>0</td>\n",
              "      <td>0</td>\n",
              "      <td>3</td>\n",
              "      <td>7</td>\n",
              "      <td>1180</td>\n",
              "      <td>0</td>\n",
              "      <td>1955</td>\n",
              "      <td>0</td>\n",
              "      <td>98178</td>\n",
              "      <td>1340</td>\n",
              "      <td>5650</td>\n",
              "    </tr>\n",
              "    <tr>\n",
              "      <th>1</th>\n",
              "      <td>3</td>\n",
              "      <td>2.25</td>\n",
              "      <td>2570</td>\n",
              "      <td>7242</td>\n",
              "      <td>2.0</td>\n",
              "      <td>0</td>\n",
              "      <td>0</td>\n",
              "      <td>3</td>\n",
              "      <td>7</td>\n",
              "      <td>2170</td>\n",
              "      <td>400</td>\n",
              "      <td>1951</td>\n",
              "      <td>1991</td>\n",
              "      <td>98125</td>\n",
              "      <td>1690</td>\n",
              "      <td>7639</td>\n",
              "    </tr>\n",
              "    <tr>\n",
              "      <th>2</th>\n",
              "      <td>2</td>\n",
              "      <td>1.00</td>\n",
              "      <td>770</td>\n",
              "      <td>10000</td>\n",
              "      <td>1.0</td>\n",
              "      <td>0</td>\n",
              "      <td>0</td>\n",
              "      <td>3</td>\n",
              "      <td>6</td>\n",
              "      <td>770</td>\n",
              "      <td>0</td>\n",
              "      <td>1933</td>\n",
              "      <td>0</td>\n",
              "      <td>98028</td>\n",
              "      <td>2720</td>\n",
              "      <td>8062</td>\n",
              "    </tr>\n",
              "    <tr>\n",
              "      <th>3</th>\n",
              "      <td>4</td>\n",
              "      <td>3.00</td>\n",
              "      <td>1960</td>\n",
              "      <td>5000</td>\n",
              "      <td>1.0</td>\n",
              "      <td>0</td>\n",
              "      <td>0</td>\n",
              "      <td>5</td>\n",
              "      <td>7</td>\n",
              "      <td>1050</td>\n",
              "      <td>910</td>\n",
              "      <td>1965</td>\n",
              "      <td>0</td>\n",
              "      <td>98136</td>\n",
              "      <td>1360</td>\n",
              "      <td>5000</td>\n",
              "    </tr>\n",
              "    <tr>\n",
              "      <th>4</th>\n",
              "      <td>3</td>\n",
              "      <td>2.00</td>\n",
              "      <td>1680</td>\n",
              "      <td>8080</td>\n",
              "      <td>1.0</td>\n",
              "      <td>0</td>\n",
              "      <td>0</td>\n",
              "      <td>3</td>\n",
              "      <td>8</td>\n",
              "      <td>1680</td>\n",
              "      <td>0</td>\n",
              "      <td>1987</td>\n",
              "      <td>0</td>\n",
              "      <td>98074</td>\n",
              "      <td>1800</td>\n",
              "      <td>7503</td>\n",
              "    </tr>\n",
              "    <tr>\n",
              "      <th>...</th>\n",
              "      <td>...</td>\n",
              "      <td>...</td>\n",
              "      <td>...</td>\n",
              "      <td>...</td>\n",
              "      <td>...</td>\n",
              "      <td>...</td>\n",
              "      <td>...</td>\n",
              "      <td>...</td>\n",
              "      <td>...</td>\n",
              "      <td>...</td>\n",
              "      <td>...</td>\n",
              "      <td>...</td>\n",
              "      <td>...</td>\n",
              "      <td>...</td>\n",
              "      <td>...</td>\n",
              "      <td>...</td>\n",
              "    </tr>\n",
              "    <tr>\n",
              "      <th>21608</th>\n",
              "      <td>3</td>\n",
              "      <td>2.50</td>\n",
              "      <td>1530</td>\n",
              "      <td>1131</td>\n",
              "      <td>3.0</td>\n",
              "      <td>0</td>\n",
              "      <td>0</td>\n",
              "      <td>3</td>\n",
              "      <td>8</td>\n",
              "      <td>1530</td>\n",
              "      <td>0</td>\n",
              "      <td>2009</td>\n",
              "      <td>0</td>\n",
              "      <td>98103</td>\n",
              "      <td>1530</td>\n",
              "      <td>1509</td>\n",
              "    </tr>\n",
              "    <tr>\n",
              "      <th>21609</th>\n",
              "      <td>4</td>\n",
              "      <td>2.50</td>\n",
              "      <td>2310</td>\n",
              "      <td>5813</td>\n",
              "      <td>2.0</td>\n",
              "      <td>0</td>\n",
              "      <td>0</td>\n",
              "      <td>3</td>\n",
              "      <td>8</td>\n",
              "      <td>2310</td>\n",
              "      <td>0</td>\n",
              "      <td>2014</td>\n",
              "      <td>0</td>\n",
              "      <td>98146</td>\n",
              "      <td>1830</td>\n",
              "      <td>7200</td>\n",
              "    </tr>\n",
              "    <tr>\n",
              "      <th>21610</th>\n",
              "      <td>2</td>\n",
              "      <td>0.75</td>\n",
              "      <td>1020</td>\n",
              "      <td>1350</td>\n",
              "      <td>2.0</td>\n",
              "      <td>0</td>\n",
              "      <td>0</td>\n",
              "      <td>3</td>\n",
              "      <td>7</td>\n",
              "      <td>1020</td>\n",
              "      <td>0</td>\n",
              "      <td>2009</td>\n",
              "      <td>0</td>\n",
              "      <td>98144</td>\n",
              "      <td>1020</td>\n",
              "      <td>2007</td>\n",
              "    </tr>\n",
              "    <tr>\n",
              "      <th>21611</th>\n",
              "      <td>3</td>\n",
              "      <td>2.50</td>\n",
              "      <td>1600</td>\n",
              "      <td>2388</td>\n",
              "      <td>2.0</td>\n",
              "      <td>0</td>\n",
              "      <td>0</td>\n",
              "      <td>3</td>\n",
              "      <td>8</td>\n",
              "      <td>1600</td>\n",
              "      <td>0</td>\n",
              "      <td>2004</td>\n",
              "      <td>0</td>\n",
              "      <td>98027</td>\n",
              "      <td>1410</td>\n",
              "      <td>1287</td>\n",
              "    </tr>\n",
              "    <tr>\n",
              "      <th>21612</th>\n",
              "      <td>2</td>\n",
              "      <td>0.75</td>\n",
              "      <td>1020</td>\n",
              "      <td>1076</td>\n",
              "      <td>2.0</td>\n",
              "      <td>0</td>\n",
              "      <td>0</td>\n",
              "      <td>3</td>\n",
              "      <td>7</td>\n",
              "      <td>1020</td>\n",
              "      <td>0</td>\n",
              "      <td>2008</td>\n",
              "      <td>0</td>\n",
              "      <td>98144</td>\n",
              "      <td>1020</td>\n",
              "      <td>1357</td>\n",
              "    </tr>\n",
              "  </tbody>\n",
              "</table>\n",
              "<p>21613 rows × 16 columns</p>\n",
              "</div>\n",
              "      <button class=\"colab-df-convert\" onclick=\"convertToInteractive('df-2ce937c3-e1e0-4807-a948-3144900ea81e')\"\n",
              "              title=\"Convert this dataframe to an interactive table.\"\n",
              "              style=\"display:none;\">\n",
              "        \n",
              "  <svg xmlns=\"http://www.w3.org/2000/svg\" height=\"24px\"viewBox=\"0 0 24 24\"\n",
              "       width=\"24px\">\n",
              "    <path d=\"M0 0h24v24H0V0z\" fill=\"none\"/>\n",
              "    <path d=\"M18.56 5.44l.94 2.06.94-2.06 2.06-.94-2.06-.94-.94-2.06-.94 2.06-2.06.94zm-11 1L8.5 8.5l.94-2.06 2.06-.94-2.06-.94L8.5 2.5l-.94 2.06-2.06.94zm10 10l.94 2.06.94-2.06 2.06-.94-2.06-.94-.94-2.06-.94 2.06-2.06.94z\"/><path d=\"M17.41 7.96l-1.37-1.37c-.4-.4-.92-.59-1.43-.59-.52 0-1.04.2-1.43.59L10.3 9.45l-7.72 7.72c-.78.78-.78 2.05 0 2.83L4 21.41c.39.39.9.59 1.41.59.51 0 1.02-.2 1.41-.59l7.78-7.78 2.81-2.81c.8-.78.8-2.07 0-2.86zM5.41 20L4 18.59l7.72-7.72 1.47 1.35L5.41 20z\"/>\n",
              "  </svg>\n",
              "      </button>\n",
              "      \n",
              "  <style>\n",
              "    .colab-df-container {\n",
              "      display:flex;\n",
              "      flex-wrap:wrap;\n",
              "      gap: 12px;\n",
              "    }\n",
              "\n",
              "    .colab-df-convert {\n",
              "      background-color: #E8F0FE;\n",
              "      border: none;\n",
              "      border-radius: 50%;\n",
              "      cursor: pointer;\n",
              "      display: none;\n",
              "      fill: #1967D2;\n",
              "      height: 32px;\n",
              "      padding: 0 0 0 0;\n",
              "      width: 32px;\n",
              "    }\n",
              "\n",
              "    .colab-df-convert:hover {\n",
              "      background-color: #E2EBFA;\n",
              "      box-shadow: 0px 1px 2px rgba(60, 64, 67, 0.3), 0px 1px 3px 1px rgba(60, 64, 67, 0.15);\n",
              "      fill: #174EA6;\n",
              "    }\n",
              "\n",
              "    [theme=dark] .colab-df-convert {\n",
              "      background-color: #3B4455;\n",
              "      fill: #D2E3FC;\n",
              "    }\n",
              "\n",
              "    [theme=dark] .colab-df-convert:hover {\n",
              "      background-color: #434B5C;\n",
              "      box-shadow: 0px 1px 3px 1px rgba(0, 0, 0, 0.15);\n",
              "      filter: drop-shadow(0px 1px 2px rgba(0, 0, 0, 0.3));\n",
              "      fill: #FFFFFF;\n",
              "    }\n",
              "  </style>\n",
              "\n",
              "      <script>\n",
              "        const buttonEl =\n",
              "          document.querySelector('#df-2ce937c3-e1e0-4807-a948-3144900ea81e button.colab-df-convert');\n",
              "        buttonEl.style.display =\n",
              "          google.colab.kernel.accessAllowed ? 'block' : 'none';\n",
              "\n",
              "        async function convertToInteractive(key) {\n",
              "          const element = document.querySelector('#df-2ce937c3-e1e0-4807-a948-3144900ea81e');\n",
              "          const dataTable =\n",
              "            await google.colab.kernel.invokeFunction('convertToInteractive',\n",
              "                                                     [key], {});\n",
              "          if (!dataTable) return;\n",
              "\n",
              "          const docLinkHtml = 'Like what you see? Visit the ' +\n",
              "            '<a target=\"_blank\" href=https://colab.research.google.com/notebooks/data_table.ipynb>data table notebook</a>'\n",
              "            + ' to learn more about interactive tables.';\n",
              "          element.innerHTML = '';\n",
              "          dataTable['output_type'] = 'display_data';\n",
              "          await google.colab.output.renderOutput(dataTable, element);\n",
              "          const docLink = document.createElement('div');\n",
              "          docLink.innerHTML = docLinkHtml;\n",
              "          element.appendChild(docLink);\n",
              "        }\n",
              "      </script>\n",
              "    </div>\n",
              "  </div>\n",
              "  "
            ],
            "text/plain": [
              "       bedrooms  bathrooms  sqft_living  ...  zipcode  sqft_living15  sqft_lot15\n",
              "0             3       1.00         1180  ...    98178           1340        5650\n",
              "1             3       2.25         2570  ...    98125           1690        7639\n",
              "2             2       1.00          770  ...    98028           2720        8062\n",
              "3             4       3.00         1960  ...    98136           1360        5000\n",
              "4             3       2.00         1680  ...    98074           1800        7503\n",
              "...         ...        ...          ...  ...      ...            ...         ...\n",
              "21608         3       2.50         1530  ...    98103           1530        1509\n",
              "21609         4       2.50         2310  ...    98146           1830        7200\n",
              "21610         2       0.75         1020  ...    98144           1020        2007\n",
              "21611         3       2.50         1600  ...    98027           1410        1287\n",
              "21612         2       0.75         1020  ...    98144           1020        1357\n",
              "\n",
              "[21613 rows x 16 columns]"
            ]
          },
          "metadata": {},
          "execution_count": 167
        }
      ]
    },
    {
      "cell_type": "code",
      "source": [
        "# Let's view our dependent variable\n",
        "y"
      ],
      "metadata": {
        "colab": {
          "base_uri": "https://localhost:8080/"
        },
        "id": "Tw0SAqVb7hZo",
        "outputId": "19f55619-f0c3-4d71-f872-d60f32ec2d4d"
      },
      "execution_count": 168,
      "outputs": [
        {
          "output_type": "execute_result",
          "data": {
            "text/plain": [
              "0        221900.0\n",
              "1        538000.0\n",
              "2        180000.0\n",
              "3        604000.0\n",
              "4        510000.0\n",
              "           ...   \n",
              "21608    360000.0\n",
              "21609    400000.0\n",
              "21610    402101.0\n",
              "21611    400000.0\n",
              "21612    325000.0\n",
              "Name: price, Length: 21613, dtype: float64"
            ]
          },
          "metadata": {},
          "execution_count": 168
        }
      ]
    },
    {
      "cell_type": "code",
      "source": [
        "# Create an instance of LDA and train the model\n",
        "import warnings\n",
        "warnings.filterwarnings(\"ignore\")\n",
        "from sklearn.discriminant_analysis import LinearDiscriminantAnalysis as LDA\n",
        "lda = LDA(solver='eigen',shrinkage='auto')\n",
        "X_lda = lda.fit(X,y)\n",
        "lda_feat = X_lda.transform(X)\n",
        "\n",
        "# Display the coefficients of the reducted colums\n",
        "X_lda.coef_"
      ],
      "metadata": {
        "colab": {
          "base_uri": "https://localhost:8080/"
        },
        "id": "fXUpi5VAdWHG",
        "outputId": "d6a16749-0d3f-4adc-e7d3-0c747ba5f9f8"
      },
      "execution_count": 169,
      "outputs": [
        {
          "output_type": "execute_result",
          "data": {
            "text/plain": [
              "array([[1.24161606e+02, 1.00884751e+02, 6.29096448e-02, ...,\n",
              "        4.89643271e+01, 6.51003201e-01, 4.52407762e-03],\n",
              "       [1.25894809e+02, 1.04779299e+02, 6.09399069e-02, ...,\n",
              "        4.90336585e+01, 6.53716960e-01, 4.48393352e-03],\n",
              "       [1.23982539e+02, 1.05251302e+02, 6.13542208e-02, ...,\n",
              "        4.89478346e+01, 6.51329689e-01, 4.47972171e-03],\n",
              "       ...,\n",
              "       [1.23001647e+02, 1.16659744e+02, 7.88465276e-02, ...,\n",
              "        4.90328655e+01, 6.48146258e-01, 4.47200344e-03],\n",
              "       [1.21799149e+02, 1.03357392e+02, 8.39983270e-02, ...,\n",
              "        4.89899620e+01, 6.48024461e-01, 4.43365748e-03],\n",
              "       [1.20424093e+02, 1.15258153e+02, 8.69495644e-02, ...,\n",
              "        4.90375281e+01, 6.44978894e-01, 4.40897219e-03]])"
            ]
          },
          "metadata": {},
          "execution_count": 169
        }
      ]
    },
    {
      "cell_type": "code",
      "source": [
        "# Create a dataframe so that we can see the names of the columns\n",
        "lda_df = pd.DataFrame(index=X.columns.values, data=X_lda.coef_[0].T)\n",
        "lda_df.sort_values(0, ascending=False)"
      ],
      "metadata": {
        "colab": {
          "base_uri": "https://localhost:8080/",
          "height": 551
        },
        "id": "0yKoA6iwd6ZV",
        "outputId": "ce1ae478-82b8-407d-c512-be38f20f52ae"
      },
      "execution_count": 170,
      "outputs": [
        {
          "output_type": "execute_result",
          "data": {
            "text/html": [
              "\n",
              "  <div id=\"df-457e1c87-5ef4-4431-99d9-cbc94d523fdf\">\n",
              "    <div class=\"colab-df-container\">\n",
              "      <div>\n",
              "<style scoped>\n",
              "    .dataframe tbody tr th:only-of-type {\n",
              "        vertical-align: middle;\n",
              "    }\n",
              "\n",
              "    .dataframe tbody tr th {\n",
              "        vertical-align: top;\n",
              "    }\n",
              "\n",
              "    .dataframe thead th {\n",
              "        text-align: right;\n",
              "    }\n",
              "</style>\n",
              "<table border=\"1\" class=\"dataframe\">\n",
              "  <thead>\n",
              "    <tr style=\"text-align: right;\">\n",
              "      <th></th>\n",
              "      <th>0</th>\n",
              "    </tr>\n",
              "  </thead>\n",
              "  <tbody>\n",
              "    <tr>\n",
              "      <th>condition</th>\n",
              "      <td>255.368677</td>\n",
              "    </tr>\n",
              "    <tr>\n",
              "      <th>bedrooms</th>\n",
              "      <td>124.161606</td>\n",
              "    </tr>\n",
              "    <tr>\n",
              "      <th>bathrooms</th>\n",
              "      <td>100.884751</td>\n",
              "    </tr>\n",
              "    <tr>\n",
              "      <th>zipcode</th>\n",
              "      <td>48.964327</td>\n",
              "    </tr>\n",
              "    <tr>\n",
              "      <th>yr_built</th>\n",
              "      <td>20.090641</td>\n",
              "    </tr>\n",
              "    <tr>\n",
              "      <th>grade</th>\n",
              "      <td>14.593821</td>\n",
              "    </tr>\n",
              "    <tr>\n",
              "      <th>sqft_living15</th>\n",
              "      <td>0.651003</td>\n",
              "    </tr>\n",
              "    <tr>\n",
              "      <th>sqft_above</th>\n",
              "      <td>0.230136</td>\n",
              "    </tr>\n",
              "    <tr>\n",
              "      <th>sqft_living</th>\n",
              "      <td>0.062910</td>\n",
              "    </tr>\n",
              "    <tr>\n",
              "      <th>yr_renovated</th>\n",
              "      <td>0.035933</td>\n",
              "    </tr>\n",
              "    <tr>\n",
              "      <th>sqft_lot15</th>\n",
              "      <td>0.004524</td>\n",
              "    </tr>\n",
              "    <tr>\n",
              "      <th>sqft_lot</th>\n",
              "      <td>0.002411</td>\n",
              "    </tr>\n",
              "    <tr>\n",
              "      <th>sqft_basement</th>\n",
              "      <td>-0.386164</td>\n",
              "    </tr>\n",
              "    <tr>\n",
              "      <th>waterfront</th>\n",
              "      <td>-4.859166</td>\n",
              "    </tr>\n",
              "    <tr>\n",
              "      <th>view</th>\n",
              "      <td>-198.409705</td>\n",
              "    </tr>\n",
              "    <tr>\n",
              "      <th>floors</th>\n",
              "      <td>-361.553295</td>\n",
              "    </tr>\n",
              "  </tbody>\n",
              "</table>\n",
              "</div>\n",
              "      <button class=\"colab-df-convert\" onclick=\"convertToInteractive('df-457e1c87-5ef4-4431-99d9-cbc94d523fdf')\"\n",
              "              title=\"Convert this dataframe to an interactive table.\"\n",
              "              style=\"display:none;\">\n",
              "        \n",
              "  <svg xmlns=\"http://www.w3.org/2000/svg\" height=\"24px\"viewBox=\"0 0 24 24\"\n",
              "       width=\"24px\">\n",
              "    <path d=\"M0 0h24v24H0V0z\" fill=\"none\"/>\n",
              "    <path d=\"M18.56 5.44l.94 2.06.94-2.06 2.06-.94-2.06-.94-.94-2.06-.94 2.06-2.06.94zm-11 1L8.5 8.5l.94-2.06 2.06-.94-2.06-.94L8.5 2.5l-.94 2.06-2.06.94zm10 10l.94 2.06.94-2.06 2.06-.94-2.06-.94-.94-2.06-.94 2.06-2.06.94z\"/><path d=\"M17.41 7.96l-1.37-1.37c-.4-.4-.92-.59-1.43-.59-.52 0-1.04.2-1.43.59L10.3 9.45l-7.72 7.72c-.78.78-.78 2.05 0 2.83L4 21.41c.39.39.9.59 1.41.59.51 0 1.02-.2 1.41-.59l7.78-7.78 2.81-2.81c.8-.78.8-2.07 0-2.86zM5.41 20L4 18.59l7.72-7.72 1.47 1.35L5.41 20z\"/>\n",
              "  </svg>\n",
              "      </button>\n",
              "      \n",
              "  <style>\n",
              "    .colab-df-container {\n",
              "      display:flex;\n",
              "      flex-wrap:wrap;\n",
              "      gap: 12px;\n",
              "    }\n",
              "\n",
              "    .colab-df-convert {\n",
              "      background-color: #E8F0FE;\n",
              "      border: none;\n",
              "      border-radius: 50%;\n",
              "      cursor: pointer;\n",
              "      display: none;\n",
              "      fill: #1967D2;\n",
              "      height: 32px;\n",
              "      padding: 0 0 0 0;\n",
              "      width: 32px;\n",
              "    }\n",
              "\n",
              "    .colab-df-convert:hover {\n",
              "      background-color: #E2EBFA;\n",
              "      box-shadow: 0px 1px 2px rgba(60, 64, 67, 0.3), 0px 1px 3px 1px rgba(60, 64, 67, 0.15);\n",
              "      fill: #174EA6;\n",
              "    }\n",
              "\n",
              "    [theme=dark] .colab-df-convert {\n",
              "      background-color: #3B4455;\n",
              "      fill: #D2E3FC;\n",
              "    }\n",
              "\n",
              "    [theme=dark] .colab-df-convert:hover {\n",
              "      background-color: #434B5C;\n",
              "      box-shadow: 0px 1px 3px 1px rgba(0, 0, 0, 0.15);\n",
              "      filter: drop-shadow(0px 1px 2px rgba(0, 0, 0, 0.3));\n",
              "      fill: #FFFFFF;\n",
              "    }\n",
              "  </style>\n",
              "\n",
              "      <script>\n",
              "        const buttonEl =\n",
              "          document.querySelector('#df-457e1c87-5ef4-4431-99d9-cbc94d523fdf button.colab-df-convert');\n",
              "        buttonEl.style.display =\n",
              "          google.colab.kernel.accessAllowed ? 'block' : 'none';\n",
              "\n",
              "        async function convertToInteractive(key) {\n",
              "          const element = document.querySelector('#df-457e1c87-5ef4-4431-99d9-cbc94d523fdf');\n",
              "          const dataTable =\n",
              "            await google.colab.kernel.invokeFunction('convertToInteractive',\n",
              "                                                     [key], {});\n",
              "          if (!dataTable) return;\n",
              "\n",
              "          const docLinkHtml = 'Like what you see? Visit the ' +\n",
              "            '<a target=\"_blank\" href=https://colab.research.google.com/notebooks/data_table.ipynb>data table notebook</a>'\n",
              "            + ' to learn more about interactive tables.';\n",
              "          element.innerHTML = '';\n",
              "          dataTable['output_type'] = 'display_data';\n",
              "          await google.colab.output.renderOutput(dataTable, element);\n",
              "          const docLink = document.createElement('div');\n",
              "          docLink.innerHTML = docLinkHtml;\n",
              "          element.appendChild(docLink);\n",
              "        }\n",
              "      </script>\n",
              "    </div>\n",
              "  </div>\n",
              "  "
            ],
            "text/plain": [
              "                        0\n",
              "condition      255.368677\n",
              "bedrooms       124.161606\n",
              "bathrooms      100.884751\n",
              "zipcode         48.964327\n",
              "yr_built        20.090641\n",
              "grade           14.593821\n",
              "sqft_living15    0.651003\n",
              "sqft_above       0.230136\n",
              "sqft_living      0.062910\n",
              "yr_renovated     0.035933\n",
              "sqft_lot15       0.004524\n",
              "sqft_lot         0.002411\n",
              "sqft_basement   -0.386164\n",
              "waterfront      -4.859166\n",
              "view          -198.409705\n",
              "floors        -361.553295"
            ]
          },
          "metadata": {},
          "execution_count": 170
        }
      ]
    },
    {
      "cell_type": "markdown",
      "source": [
        "The values above indicate that when price increases sqft_basement, waterfront, view, floors decrease and viceversa"
      ],
      "metadata": {
        "id": "f314xmWzgGv-"
      }
    },
    {
      "cell_type": "markdown",
      "source": [
        "##Modelling "
      ],
      "metadata": {
        "id": "-50yI0S6goVO"
      }
    },
    {
      "cell_type": "code",
      "source": [
        "# Check for multicollinearlity\n",
        "# we first calculate the correlation coefficients\n",
        "corr = X.corr()"
      ],
      "metadata": {
        "id": "dbyWnkX8w13-"
      },
      "execution_count": 171,
      "outputs": []
    },
    {
      "cell_type": "code",
      "source": [
        "# We derive the VIF\n",
        "vif= pd.DataFrame(np.linalg.inv(corr.values), index = corr.index, columns=corr.columns)"
      ],
      "metadata": {
        "id": "aUzgxrHtxTs2"
      },
      "execution_count": 172,
      "outputs": []
    },
    {
      "cell_type": "code",
      "source": [
        "# Use a heatmap to display our results\n",
        "plt.figure(figsize= (20,20))\n",
        "sns.heatmap(vif, annot = True)\n",
        "plt.title('VIF')\n",
        "plt.show()"
      ],
      "metadata": {
        "colab": {
          "base_uri": "https://localhost:8080/",
          "height": 1000
        },
        "id": "Z1rEaGpkywnh",
        "outputId": "d832b3fa-f503-4682-b40b-02063e0faee4"
      },
      "execution_count": 173,
      "outputs": [
        {
          "output_type": "display_data",
          "data": {
            "image/png": "[encoded data removed]",
            "text/plain": [
              "<Figure size 1440x1440 with 2 Axes>"
            ]
          },
          "metadata": {
            "needs_background": "light"
          }
        }
      ]
    },
    {
      "cell_type": "code",
      "source": [
        "# We will use the Chi-squared statistical test to select 10 of the best features\n",
        "from sklearn.feature_selection import SelectKBest\n",
        "from sklearn.feature_selection import chi2\n",
        "\n",
        "# apply SelectKBest class to extract top 10 best features\n",
        "bestfeatures= SelectKBest(score_func=chi2, k=10)\n",
        "fit= bestfeatures.fit(X,y)\n",
        "dfscores= pd.DataFrame(fit.scores_)\n",
        "dfcolumns= pd.DataFrame (X. columns)\n",
        "#concat two dataframes for better visualization\n",
        "featureScores= pd.concat([dfcolumns, dfscores], axis=1)\n",
        "featureScores.columns=['Variable', 'Score']\n",
        "print(featureScores.nlargest(10,'Score'))"
      ],
      "metadata": {
        "colab": {
          "base_uri": "https://localhost:8080/"
        },
        "id": "iOIvtQsfCk5I",
        "outputId": "f8d1570d-fbc0-404b-ab8e-583b210a49fe"
      },
      "execution_count": 174,
      "outputs": [
        {
          "output_type": "stream",
          "name": "stdout",
          "text": [
            "         Variable         Score\n",
            "3        sqft_lot  3.119557e+08\n",
            "15     sqft_lot15  1.579147e+08\n",
            "12   yr_renovated  7.053617e+06\n",
            "2     sqft_living  5.345972e+06\n",
            "9      sqft_above  4.218997e+06\n",
            "10  sqft_basement  3.803564e+06\n",
            "14  sqft_living15  2.626179e+06\n",
            "6            view  1.564297e+04\n",
            "5      waterfront  5.908140e+03\n",
            "1       bathrooms  2.608815e+03\n"
          ]
        }
      ]
    },
    {
      "cell_type": "code",
      "source": [
        "# We will narrow down X to the above variables \n",
        "X_df = X[['sqft_lot','sqft_lot15','yr_renovated','sqft_living','sqft_above','sqft_basement','sqft_living15','waterfront', 'view','bathrooms']]\n",
        "# View changes\n",
        "X_df.head()"
      ],
      "metadata": {
        "colab": {
          "base_uri": "https://localhost:8080/",
          "height": 206
        },
        "id": "3nxx25IfC8gP",
        "outputId": "64271b1d-9df6-4e4d-9e76-f91fb998e452"
      },
      "execution_count": 175,
      "outputs": [
        {
          "output_type": "execute_result",
          "data": {
            "text/html": [
              "\n",
              "  <div id=\"df-7049b984-57ff-4eb9-bdab-fc20810bdd88\">\n",
              "    <div class=\"colab-df-container\">\n",
              "      <div>\n",
              "<style scoped>\n",
              "    .dataframe tbody tr th:only-of-type {\n",
              "        vertical-align: middle;\n",
              "    }\n",
              "\n",
              "    .dataframe tbody tr th {\n",
              "        vertical-align: top;\n",
              "    }\n",
              "\n",
              "    .dataframe thead th {\n",
              "        text-align: right;\n",
              "    }\n",
              "</style>\n",
              "<table border=\"1\" class=\"dataframe\">\n",
              "  <thead>\n",
              "    <tr style=\"text-align: right;\">\n",
              "      <th></th>\n",
              "      <th>sqft_lot</th>\n",
              "      <th>sqft_lot15</th>\n",
              "      <th>yr_renovated</th>\n",
              "      <th>sqft_living</th>\n",
              "      <th>sqft_above</th>\n",
              "      <th>sqft_basement</th>\n",
              "      <th>sqft_living15</th>\n",
              "      <th>waterfront</th>\n",
              "      <th>view</th>\n",
              "      <th>bathrooms</th>\n",
              "    </tr>\n",
              "  </thead>\n",
              "  <tbody>\n",
              "    <tr>\n",
              "      <th>0</th>\n",
              "      <td>5650</td>\n",
              "      <td>5650</td>\n",
              "      <td>0</td>\n",
              "      <td>1180</td>\n",
              "      <td>1180</td>\n",
              "      <td>0</td>\n",
              "      <td>1340</td>\n",
              "      <td>0</td>\n",
              "      <td>0</td>\n",
              "      <td>1.00</td>\n",
              "    </tr>\n",
              "    <tr>\n",
              "      <th>1</th>\n",
              "      <td>7242</td>\n",
              "      <td>7639</td>\n",
              "      <td>1991</td>\n",
              "      <td>2570</td>\n",
              "      <td>2170</td>\n",
              "      <td>400</td>\n",
              "      <td>1690</td>\n",
              "      <td>0</td>\n",
              "      <td>0</td>\n",
              "      <td>2.25</td>\n",
              "    </tr>\n",
              "    <tr>\n",
              "      <th>2</th>\n",
              "      <td>10000</td>\n",
              "      <td>8062</td>\n",
              "      <td>0</td>\n",
              "      <td>770</td>\n",
              "      <td>770</td>\n",
              "      <td>0</td>\n",
              "      <td>2720</td>\n",
              "      <td>0</td>\n",
              "      <td>0</td>\n",
              "      <td>1.00</td>\n",
              "    </tr>\n",
              "    <tr>\n",
              "      <th>3</th>\n",
              "      <td>5000</td>\n",
              "      <td>5000</td>\n",
              "      <td>0</td>\n",
              "      <td>1960</td>\n",
              "      <td>1050</td>\n",
              "      <td>910</td>\n",
              "      <td>1360</td>\n",
              "      <td>0</td>\n",
              "      <td>0</td>\n",
              "      <td>3.00</td>\n",
              "    </tr>\n",
              "    <tr>\n",
              "      <th>4</th>\n",
              "      <td>8080</td>\n",
              "      <td>7503</td>\n",
              "      <td>0</td>\n",
              "      <td>1680</td>\n",
              "      <td>1680</td>\n",
              "      <td>0</td>\n",
              "      <td>1800</td>\n",
              "      <td>0</td>\n",
              "      <td>0</td>\n",
              "      <td>2.00</td>\n",
              "    </tr>\n",
              "  </tbody>\n",
              "</table>\n",
              "</div>\n",
              "      <button class=\"colab-df-convert\" onclick=\"convertToInteractive('df-7049b984-57ff-4eb9-bdab-fc20810bdd88')\"\n",
              "              title=\"Convert this dataframe to an interactive table.\"\n",
              "              style=\"display:none;\">\n",
              "        \n",
              "  <svg xmlns=\"http://www.w3.org/2000/svg\" height=\"24px\"viewBox=\"0 0 24 24\"\n",
              "       width=\"24px\">\n",
              "    <path d=\"M0 0h24v24H0V0z\" fill=\"none\"/>\n",
              "    <path d=\"M18.56 5.44l.94 2.06.94-2.06 2.06-.94-2.06-.94-.94-2.06-.94 2.06-2.06.94zm-11 1L8.5 8.5l.94-2.06 2.06-.94-2.06-.94L8.5 2.5l-.94 2.06-2.06.94zm10 10l.94 2.06.94-2.06 2.06-.94-2.06-.94-.94-2.06-.94 2.06-2.06.94z\"/><path d=\"M17.41 7.96l-1.37-1.37c-.4-.4-.92-.59-1.43-.59-.52 0-1.04.2-1.43.59L10.3 9.45l-7.72 7.72c-.78.78-.78 2.05 0 2.83L4 21.41c.39.39.9.59 1.41.59.51 0 1.02-.2 1.41-.59l7.78-7.78 2.81-2.81c.8-.78.8-2.07 0-2.86zM5.41 20L4 18.59l7.72-7.72 1.47 1.35L5.41 20z\"/>\n",
              "  </svg>\n",
              "      </button>\n",
              "      \n",
              "  <style>\n",
              "    .colab-df-container {\n",
              "      display:flex;\n",
              "      flex-wrap:wrap;\n",
              "      gap: 12px;\n",
              "    }\n",
              "\n",
              "    .colab-df-convert {\n",
              "      background-color: #E8F0FE;\n",
              "      border: none;\n",
              "      border-radius: 50%;\n",
              "      cursor: pointer;\n",
              "      display: none;\n",
              "      fill: #1967D2;\n",
              "      height: 32px;\n",
              "      padding: 0 0 0 0;\n",
              "      width: 32px;\n",
              "    }\n",
              "\n",
              "    .colab-df-convert:hover {\n",
              "      background-color: #E2EBFA;\n",
              "      box-shadow: 0px 1px 2px rgba(60, 64, 67, 0.3), 0px 1px 3px 1px rgba(60, 64, 67, 0.15);\n",
              "      fill: #174EA6;\n",
              "    }\n",
              "\n",
              "    [theme=dark] .colab-df-convert {\n",
              "      background-color: #3B4455;\n",
              "      fill: #D2E3FC;\n",
              "    }\n",
              "\n",
              "    [theme=dark] .colab-df-convert:hover {\n",
              "      background-color: #434B5C;\n",
              "      box-shadow: 0px 1px 3px 1px rgba(0, 0, 0, 0.15);\n",
              "      filter: drop-shadow(0px 1px 2px rgba(0, 0, 0, 0.3));\n",
              "      fill: #FFFFFF;\n",
              "    }\n",
              "  </style>\n",
              "\n",
              "      <script>\n",
              "        const buttonEl =\n",
              "          document.querySelector('#df-7049b984-57ff-4eb9-bdab-fc20810bdd88 button.colab-df-convert');\n",
              "        buttonEl.style.display =\n",
              "          google.colab.kernel.accessAllowed ? 'block' : 'none';\n",
              "\n",
              "        async function convertToInteractive(key) {\n",
              "          const element = document.querySelector('#df-7049b984-57ff-4eb9-bdab-fc20810bdd88');\n",
              "          const dataTable =\n",
              "            await google.colab.kernel.invokeFunction('convertToInteractive',\n",
              "                                                     [key], {});\n",
              "          if (!dataTable) return;\n",
              "\n",
              "          const docLinkHtml = 'Like what you see? Visit the ' +\n",
              "            '<a target=\"_blank\" href=https://colab.research.google.com/notebooks/data_table.ipynb>data table notebook</a>'\n",
              "            + ' to learn more about interactive tables.';\n",
              "          element.innerHTML = '';\n",
              "          dataTable['output_type'] = 'display_data';\n",
              "          await google.colab.output.renderOutput(dataTable, element);\n",
              "          const docLink = document.createElement('div');\n",
              "          docLink.innerHTML = docLinkHtml;\n",
              "          element.appendChild(docLink);\n",
              "        }\n",
              "      </script>\n",
              "    </div>\n",
              "  </div>\n",
              "  "
            ],
            "text/plain": [
              "   sqft_lot  sqft_lot15  yr_renovated  ...  waterfront  view  bathrooms\n",
              "0      5650        5650             0  ...           0     0       1.00\n",
              "1      7242        7639          1991  ...           0     0       2.25\n",
              "2     10000        8062             0  ...           0     0       1.00\n",
              "3      5000        5000             0  ...           0     0       3.00\n",
              "4      8080        7503             0  ...           0     0       2.00\n",
              "\n",
              "[5 rows x 10 columns]"
            ]
          },
          "metadata": {},
          "execution_count": 175
        }
      ]
    },
    {
      "cell_type": "markdown",
      "source": [
        "##Multilinear Regression"
      ],
      "metadata": {
        "id": "Lwjv_rIA0eKD"
      }
    },
    {
      "cell_type": "code",
      "source": [
        "# Import libraries\n",
        "# The multiregression will be our base model\n",
        "from sklearn.model_selection import train_test_split\n",
        "# Split our data to train and test\n",
        "X_train, X_test, y_train, y_test = train_test_split(X_df, y, test_size = 0.2, random_state = 42)"
      ],
      "metadata": {
        "id": "ngYtLWflBx-B"
      },
      "execution_count": 176,
      "outputs": []
    },
    {
      "cell_type": "code",
      "source": [
        "# Apply our model\n",
        "from sklearn.linear_model import LinearRegression\n",
        "# creating an object of LinearRegression class\n",
        "regressor = LinearRegression()\n",
        "# fitting the training data\n",
        "regressor.fit(X_train,y_train)"
      ],
      "metadata": {
        "colab": {
          "base_uri": "https://localhost:8080/"
        },
        "id": "cbGb6AtlGPCt",
        "outputId": "e0ceb3a0-4226-4704-8350-22731fa38b8c"
      },
      "execution_count": 177,
      "outputs": [
        {
          "output_type": "execute_result",
          "data": {
            "text/plain": [
              "LinearRegression()"
            ]
          },
          "metadata": {},
          "execution_count": 177
        }
      ]
    },
    {
      "cell_type": "code",
      "source": [
        "from sklearn import metrics\n",
        "y_pred = regressor.predict(X_test)\n",
        "\n",
        "print('Mean Absolute Error:', metrics.mean_absolute_error(y_test, y_pred))  \n",
        "print('Mean Squared Error:', metrics.mean_squared_error(y_test, y_pred))  \n",
        "print('Root Mean Squared Error:', np.sqrt(metrics.mean_squared_error(y_test, y_pred)))"
      ],
      "metadata": {
        "colab": {
          "base_uri": "https://localhost:8080/"
        },
        "id": "1CW-phzoGVMQ",
        "outputId": "c9cbf683-cf8d-43a9-9dac-ed921735462a"
      },
      "execution_count": 178,
      "outputs": [
        {
          "output_type": "stream",
          "name": "stdout",
          "text": [
            "Mean Absolute Error: 167080.38931905228\n",
            "Mean Squared Error: 65171981278.79719\n",
            "Root Mean Squared Error: 255288.035910023\n"
          ]
        }
      ]
    },
    {
      "cell_type": "code",
      "source": [
        "# We will perform crossvalidation to see whether the model improves when subject to different train test combinations\n",
        "from sklearn.model_selection import KFold\n",
        "from sklearn.model_selection import cross_val_score\n",
        "from numpy import mean\n",
        "from numpy import absolute\n",
        "from numpy import sqrt\n",
        "\n",
        "# define cross-validation method to use\n",
        "cv = KFold(n_splits=10, random_state=1, shuffle=True)\n",
        "\n",
        "# build multiple linear regression model\n",
        "model = LinearRegression()\n",
        "\n",
        "# use k-fold CV to evaluate model\n",
        "scores = cross_val_score(model, X_df, y, scoring='neg_mean_absolute_error',\n",
        "                         cv=cv, n_jobs=-1)\n",
        "\n",
        "# view mean absolute error\n",
        "mean(absolute(scores))\n"
      ],
      "metadata": {
        "colab": {
          "base_uri": "https://localhost:8080/"
        },
        "id": "QrQcdwVHYMLF",
        "outputId": "42e975d3-0231-4cc7-8a07-517e6baa78cc"
      },
      "execution_count": 179,
      "outputs": [
        {
          "output_type": "execute_result",
          "data": {
            "text/plain": [
              "163463.69434833186"
            ]
          },
          "metadata": {},
          "execution_count": 179
        }
      ]
    },
    {
      "cell_type": "markdown",
      "source": [
        "Our MLR improves in Mean Squared error after cross validation"
      ],
      "metadata": {
        "id": "mE-hSmGK0oy7"
      }
    },
    {
      "cell_type": "code",
      "source": [
        "# Plot a residuals plot\n",
        "# This is our prediction our model\n",
        "y_predict = regressor.predict(X_test)\n",
        "#\n",
        "residuals = np.subtract(y_predict, y_test)\n",
        "# Plot\n",
        "plt.scatter(y_predict, residuals, color='black')\n",
        "plt.ylabel('residual')\n",
        "plt.xlabel('fitted values')\n",
        "plt.axhline(y= residuals.mean(), color='red', linewidth=1)\n",
        "plt.show()"
      ],
      "metadata": {
        "id": "6nn2pA2PY_Lw",
        "colab": {
          "base_uri": "https://localhost:8080/",
          "height": 290
        },
        "outputId": "58f1d3b5-c064-45dc-f836-43899cffa2aa"
      },
      "execution_count": 180,
      "outputs": [
        {
          "output_type": "display_data",
          "data": {
            "image/png": "[encoded data removed]",
            "text/plain": [
              "<Figure size 432x288 with 1 Axes>"
            ]
          },
          "metadata": {
            "needs_background": "light"
          }
        }
      ]
    },
    {
      "cell_type": "code",
      "source": [
        "# Bartlett Tests\n",
        "import scipy as sp\n",
        "\n",
        "test_result, p_value = sp.stats.bartlett(y_predict, residuals)\n",
        "\n",
        "# To interpret the results we must also compute a critical value of the chi squared distribution\n",
        "degree_of_freedom = len(y_predict)-1\n",
        "probability = 1 - p_value\n",
        "\n",
        "critical_value = sp.stats.chi2.ppf(probability, degree_of_freedom)\n",
        "print(critical_value)\n",
        "\n",
        "if (test_result > critical_value):\n",
        "  print('the variances are unequal, and the model should be reassessed')\n",
        "else:\n",
        "  print('the variances are homogeneous!')"
      ],
      "metadata": {
        "colab": {
          "base_uri": "https://localhost:8080/"
        },
        "id": "81VM_nCpZmtX",
        "outputId": "30fb6308-5398-49ec-ea40-341feee99cc3"
      },
      "execution_count": 181,
      "outputs": [
        {
          "output_type": "stream",
          "name": "stdout",
          "text": [
            "inf\n",
            "the variances are homogeneous!\n"
          ]
        }
      ]
    },
    {
      "cell_type": "markdown",
      "source": [
        "##Quantile Regression"
      ],
      "metadata": {
        "id": "dAINRCrmK5iz"
      }
    },
    {
      "cell_type": "code",
      "source": [
        "# we will create a new dataframe with both X and y variables\n",
        "df = pd.concat([X_df, sale_df['price']], axis=1)\n",
        "df.head()"
      ],
      "metadata": {
        "colab": {
          "base_uri": "https://localhost:8080/",
          "height": 206
        },
        "id": "ZHbMy2jLRSRn",
        "outputId": "f1c54086-9958-457c-85eb-a905425860a9"
      },
      "execution_count": 182,
      "outputs": [
        {
          "output_type": "execute_result",
          "data": {
            "text/html": [
              "\n",
              "  <div id=\"df-170f93ef-db9b-4f93-b47a-2aa85862777e\">\n",
              "    <div class=\"colab-df-container\">\n",
              "      <div>\n",
              "<style scoped>\n",
              "    .dataframe tbody tr th:only-of-type {\n",
              "        vertical-align: middle;\n",
              "    }\n",
              "\n",
              "    .dataframe tbody tr th {\n",
              "        vertical-align: top;\n",
              "    }\n",
              "\n",
              "    .dataframe thead th {\n",
              "        text-align: right;\n",
              "    }\n",
              "</style>\n",
              "<table border=\"1\" class=\"dataframe\">\n",
              "  <thead>\n",
              "    <tr style=\"text-align: right;\">\n",
              "      <th></th>\n",
              "      <th>sqft_lot</th>\n",
              "      <th>sqft_lot15</th>\n",
              "      <th>yr_renovated</th>\n",
              "      <th>sqft_living</th>\n",
              "      <th>sqft_above</th>\n",
              "      <th>sqft_basement</th>\n",
              "      <th>sqft_living15</th>\n",
              "      <th>waterfront</th>\n",
              "      <th>view</th>\n",
              "      <th>bathrooms</th>\n",
              "      <th>price</th>\n",
              "    </tr>\n",
              "  </thead>\n",
              "  <tbody>\n",
              "    <tr>\n",
              "      <th>0</th>\n",
              "      <td>5650</td>\n",
              "      <td>5650</td>\n",
              "      <td>0</td>\n",
              "      <td>1180</td>\n",
              "      <td>1180</td>\n",
              "      <td>0</td>\n",
              "      <td>1340</td>\n",
              "      <td>0</td>\n",
              "      <td>0</td>\n",
              "      <td>1.00</td>\n",
              "      <td>221900.0</td>\n",
              "    </tr>\n",
              "    <tr>\n",
              "      <th>1</th>\n",
              "      <td>7242</td>\n",
              "      <td>7639</td>\n",
              "      <td>1991</td>\n",
              "      <td>2570</td>\n",
              "      <td>2170</td>\n",
              "      <td>400</td>\n",
              "      <td>1690</td>\n",
              "      <td>0</td>\n",
              "      <td>0</td>\n",
              "      <td>2.25</td>\n",
              "      <td>538000.0</td>\n",
              "    </tr>\n",
              "    <tr>\n",
              "      <th>2</th>\n",
              "      <td>10000</td>\n",
              "      <td>8062</td>\n",
              "      <td>0</td>\n",
              "      <td>770</td>\n",
              "      <td>770</td>\n",
              "      <td>0</td>\n",
              "      <td>2720</td>\n",
              "      <td>0</td>\n",
              "      <td>0</td>\n",
              "      <td>1.00</td>\n",
              "      <td>180000.0</td>\n",
              "    </tr>\n",
              "    <tr>\n",
              "      <th>3</th>\n",
              "      <td>5000</td>\n",
              "      <td>5000</td>\n",
              "      <td>0</td>\n",
              "      <td>1960</td>\n",
              "      <td>1050</td>\n",
              "      <td>910</td>\n",
              "      <td>1360</td>\n",
              "      <td>0</td>\n",
              "      <td>0</td>\n",
              "      <td>3.00</td>\n",
              "      <td>604000.0</td>\n",
              "    </tr>\n",
              "    <tr>\n",
              "      <th>4</th>\n",
              "      <td>8080</td>\n",
              "      <td>7503</td>\n",
              "      <td>0</td>\n",
              "      <td>1680</td>\n",
              "      <td>1680</td>\n",
              "      <td>0</td>\n",
              "      <td>1800</td>\n",
              "      <td>0</td>\n",
              "      <td>0</td>\n",
              "      <td>2.00</td>\n",
              "      <td>510000.0</td>\n",
              "    </tr>\n",
              "  </tbody>\n",
              "</table>\n",
              "</div>\n",
              "      <button class=\"colab-df-convert\" onclick=\"convertToInteractive('df-170f93ef-db9b-4f93-b47a-2aa85862777e')\"\n",
              "              title=\"Convert this dataframe to an interactive table.\"\n",
              "              style=\"display:none;\">\n",
              "        \n",
              "  <svg xmlns=\"http://www.w3.org/2000/svg\" height=\"24px\"viewBox=\"0 0 24 24\"\n",
              "       width=\"24px\">\n",
              "    <path d=\"M0 0h24v24H0V0z\" fill=\"none\"/>\n",
              "    <path d=\"M18.56 5.44l.94 2.06.94-2.06 2.06-.94-2.06-.94-.94-2.06-.94 2.06-2.06.94zm-11 1L8.5 8.5l.94-2.06 2.06-.94-2.06-.94L8.5 2.5l-.94 2.06-2.06.94zm10 10l.94 2.06.94-2.06 2.06-.94-2.06-.94-.94-2.06-.94 2.06-2.06.94z\"/><path d=\"M17.41 7.96l-1.37-1.37c-.4-.4-.92-.59-1.43-.59-.52 0-1.04.2-1.43.59L10.3 9.45l-7.72 7.72c-.78.78-.78 2.05 0 2.83L4 21.41c.39.39.9.59 1.41.59.51 0 1.02-.2 1.41-.59l7.78-7.78 2.81-2.81c.8-.78.8-2.07 0-2.86zM5.41 20L4 18.59l7.72-7.72 1.47 1.35L5.41 20z\"/>\n",
              "  </svg>\n",
              "      </button>\n",
              "      \n",
              "  <style>\n",
              "    .colab-df-container {\n",
              "      display:flex;\n",
              "      flex-wrap:wrap;\n",
              "      gap: 12px;\n",
              "    }\n",
              "\n",
              "    .colab-df-convert {\n",
              "      background-color: #E8F0FE;\n",
              "      border: none;\n",
              "      border-radius: 50%;\n",
              "      cursor: pointer;\n",
              "      display: none;\n",
              "      fill: #1967D2;\n",
              "      height: 32px;\n",
              "      padding: 0 0 0 0;\n",
              "      width: 32px;\n",
              "    }\n",
              "\n",
              "    .colab-df-convert:hover {\n",
              "      background-color: #E2EBFA;\n",
              "      box-shadow: 0px 1px 2px rgba(60, 64, 67, 0.3), 0px 1px 3px 1px rgba(60, 64, 67, 0.15);\n",
              "      fill: #174EA6;\n",
              "    }\n",
              "\n",
              "    [theme=dark] .colab-df-convert {\n",
              "      background-color: #3B4455;\n",
              "      fill: #D2E3FC;\n",
              "    }\n",
              "\n",
              "    [theme=dark] .colab-df-convert:hover {\n",
              "      background-color: #434B5C;\n",
              "      box-shadow: 0px 1px 3px 1px rgba(0, 0, 0, 0.15);\n",
              "      filter: drop-shadow(0px 1px 2px rgba(0, 0, 0, 0.3));\n",
              "      fill: #FFFFFF;\n",
              "    }\n",
              "  </style>\n",
              "\n",
              "      <script>\n",
              "        const buttonEl =\n",
              "          document.querySelector('#df-170f93ef-db9b-4f93-b47a-2aa85862777e button.colab-df-convert');\n",
              "        buttonEl.style.display =\n",
              "          google.colab.kernel.accessAllowed ? 'block' : 'none';\n",
              "\n",
              "        async function convertToInteractive(key) {\n",
              "          const element = document.querySelector('#df-170f93ef-db9b-4f93-b47a-2aa85862777e');\n",
              "          const dataTable =\n",
              "            await google.colab.kernel.invokeFunction('convertToInteractive',\n",
              "                                                     [key], {});\n",
              "          if (!dataTable) return;\n",
              "\n",
              "          const docLinkHtml = 'Like what you see? Visit the ' +\n",
              "            '<a target=\"_blank\" href=https://colab.research.google.com/notebooks/data_table.ipynb>data table notebook</a>'\n",
              "            + ' to learn more about interactive tables.';\n",
              "          element.innerHTML = '';\n",
              "          dataTable['output_type'] = 'display_data';\n",
              "          await google.colab.output.renderOutput(dataTable, element);\n",
              "          const docLink = document.createElement('div');\n",
              "          docLink.innerHTML = docLinkHtml;\n",
              "          element.appendChild(docLink);\n",
              "        }\n",
              "      </script>\n",
              "    </div>\n",
              "  </div>\n",
              "  "
            ],
            "text/plain": [
              "   sqft_lot  sqft_lot15  yr_renovated  ...  view  bathrooms     price\n",
              "0      5650        5650             0  ...     0       1.00  221900.0\n",
              "1      7242        7639          1991  ...     0       2.25  538000.0\n",
              "2     10000        8062             0  ...     0       1.00  180000.0\n",
              "3      5000        5000             0  ...     0       3.00  604000.0\n",
              "4      8080        7503             0  ...     0       2.00  510000.0\n",
              "\n",
              "[5 rows x 11 columns]"
            ]
          },
          "metadata": {},
          "execution_count": 182
        }
      ]
    },
    {
      "cell_type": "code",
      "source": [
        "# I will use the python package statsmodels for Quantile Regression\n",
        "import statsmodels.formula.api as smf\n",
        "mod = smf.quantreg('price~ sqft_lot + sqft_lot15 + yr_renovated + sqft_living + sqft_above + sqft_living15 + waterfront+ view + bathrooms', df)\n",
        "res = mod.fit(q=.5)\n",
        "# Then print out the summary of our model\n",
        "print(res.summary())"
      ],
      "metadata": {
        "colab": {
          "base_uri": "https://localhost:8080/"
        },
        "id": "C3FpADb_bHjI",
        "outputId": "82465e16-6603-42e7-e624-8a9a21887ed7"
      },
      "execution_count": 183,
      "outputs": [
        {
          "output_type": "stream",
          "name": "stdout",
          "text": [
            "                         QuantReg Regression Results                          \n",
            "==============================================================================\n",
            "Dep. Variable:                  price   Pseudo R-squared:               0.2890\n",
            "Model:                       QuantReg   Bandwidth:                   3.001e+04\n",
            "Method:                 Least Squares   Sparsity:                    4.569e+05\n",
            "Date:                Sat, 12 Feb 2022   No. Observations:                21613\n",
            "Time:                        09:45:41   Df Residuals:                    21603\n",
            "                                        Df Model:                            9\n",
            "=================================================================================\n",
            "                    coef    std err          t      P>|t|      [0.025      0.975]\n",
            "---------------------------------------------------------------------------------\n",
            "Intercept     -6384.3514   5449.905     -1.171      0.241   -1.71e+04    4297.865\n",
            "sqft_lot          0.0503      0.054      0.930      0.353      -0.056       0.156\n",
            "sqft_lot15       -0.5877      0.082     -7.124      0.000      -0.749      -0.426\n",
            "yr_renovated     51.0248      3.911     13.048      0.000      43.360      58.690\n",
            "sqft_living     160.4014      4.254     37.709      0.000     152.064     168.739\n",
            "sqft_above      -13.7158      4.112     -3.336      0.001     -21.775      -5.656\n",
            "sqft_living15    89.2044      3.613     24.688      0.000      82.122      96.287\n",
            "waterfront     4.712e+05   1.97e+04     23.946      0.000    4.33e+05     5.1e+05\n",
            "view            6.17e+04   2369.286     26.043      0.000    5.71e+04    6.63e+04\n",
            "bathrooms      7682.5049   3097.899      2.480      0.013    1610.394    1.38e+04\n",
            "=================================================================================\n",
            "\n",
            "The condition number is large, 6.41e+05. This might indicate that there are\n",
            "strong multicollinearity or other numerical problems.\n"
          ]
        }
      ]
    },
    {
      "cell_type": "code",
      "source": [
        "# Load a summary of the lower quantile (0.25)\n",
        "mod = smf.quantreg('price~ sqft_lot + sqft_lot15 + yr_renovated + sqft_living + sqft_above + sqft_living15 + waterfront+ view + bathrooms', df)\n",
        "res = mod.fit(q=.25)\n",
        "# Then print out the summary of our model\n",
        "print(res.summary())"
      ],
      "metadata": {
        "id": "3CR2dZcqftal",
        "colab": {
          "base_uri": "https://localhost:8080/"
        },
        "outputId": "daddb471-c740-4dbb-832e-4b68f023c183"
      },
      "execution_count": 184,
      "outputs": [
        {
          "output_type": "stream",
          "name": "stdout",
          "text": [
            "                         QuantReg Regression Results                          \n",
            "==============================================================================\n",
            "Dep. Variable:                  price   Pseudo R-squared:               0.2253\n",
            "Model:                       QuantReg   Bandwidth:                   2.687e+04\n",
            "Method:                 Least Squares   Sparsity:                    4.155e+05\n",
            "Date:                Sat, 12 Feb 2022   No. Observations:                21613\n",
            "Time:                        09:45:49   Df Residuals:                    21603\n",
            "                                        Df Model:                            9\n",
            "=================================================================================\n",
            "                    coef    std err          t      P>|t|      [0.025      0.975]\n",
            "---------------------------------------------------------------------------------\n",
            "Intercept     -2.142e+04   3962.941     -5.404      0.000   -2.92e+04   -1.36e+04\n",
            "sqft_lot          0.0867      0.044      1.969      0.049       0.000       0.173\n",
            "sqft_lot15       -0.1425      0.064     -2.228      0.026      -0.268      -0.017\n",
            "yr_renovated     32.9466      3.085     10.680      0.000      26.900      38.993\n",
            "sqft_living     123.5108      3.425     36.058      0.000     116.797     130.225\n",
            "sqft_above      -13.6253      3.285     -4.148      0.000     -20.063      -7.187\n",
            "sqft_living15    75.5211      2.653     28.463      0.000      70.320      80.722\n",
            "waterfront     2.204e+05   1.55e+04     14.196      0.000     1.9e+05    2.51e+05\n",
            "view           4.964e+04   1904.222     26.070      0.000    4.59e+04    5.34e+04\n",
            "bathrooms      3430.8434   2352.353      1.458      0.145   -1179.942    8041.629\n",
            "=================================================================================\n",
            "\n",
            "The condition number is large, 6.41e+05. This might indicate that there are\n",
            "strong multicollinearity or other numerical problems.\n"
          ]
        }
      ]
    },
    {
      "cell_type": "code",
      "source": [
        "# Load a summary of the upper quantile (0.75)\n",
        "mod = smf.quantreg('price~ sqft_lot + sqft_lot15 + yr_renovated + sqft_living + sqft_above + sqft_living15 + waterfront+ view + bathrooms', df)\n",
        "res = mod.fit(q=.75)\n",
        "# Then print out the summary of our model\n",
        "print(res.summary())"
      ],
      "metadata": {
        "id": "UVAju1kSf15Y",
        "colab": {
          "base_uri": "https://localhost:8080/"
        },
        "outputId": "606115b8-4890-4a71-daa9-01035d5dfe8d"
      },
      "execution_count": 185,
      "outputs": [
        {
          "output_type": "stream",
          "name": "stdout",
          "text": [
            "                         QuantReg Regression Results                          \n",
            "==============================================================================\n",
            "Dep. Variable:                  price   Pseudo R-squared:               0.3571\n",
            "Model:                       QuantReg   Bandwidth:                   2.689e+04\n",
            "Method:                 Least Squares   Sparsity:                    5.894e+05\n",
            "Date:                Sat, 12 Feb 2022   No. Observations:                21613\n",
            "Time:                        09:45:57   Df Residuals:                    21603\n",
            "                                        Df Model:                            9\n",
            "=================================================================================\n",
            "                    coef    std err          t      P>|t|      [0.025      0.975]\n",
            "---------------------------------------------------------------------------------\n",
            "Intercept      6.292e+04   6406.006      9.822      0.000    5.04e+04    7.55e+04\n",
            "sqft_lot          0.0816      0.069      1.177      0.239      -0.054       0.218\n",
            "sqft_lot15       -0.7884      0.111     -7.083      0.000      -1.007      -0.570\n",
            "yr_renovated     71.5186      4.446     16.087      0.000      62.805      80.233\n",
            "sqft_living     226.2715      4.816     46.983      0.000     216.832     235.711\n",
            "sqft_above      -26.9557      4.533     -5.947      0.000     -35.840     -18.071\n",
            "sqft_living15    68.9894      4.494     15.352      0.000      60.181      77.798\n",
            "waterfront     1271.4495   2.97e+04      0.043      0.966    -5.7e+04    5.95e+04\n",
            "view           9.157e+04   2555.539     35.833      0.000    8.66e+04    9.66e+04\n",
            "bathrooms     -1605.9640   3649.984     -0.440      0.660   -8760.202    5548.274\n",
            "=================================================================================\n",
            "\n",
            "The condition number is large, 6.41e+05. This might indicate that there are\n",
            "strong multicollinearity or other numerical problems.\n"
          ]
        }
      ]
    },
    {
      "cell_type": "markdown",
      "source": [
        "##Ridge Regression"
      ],
      "metadata": {
        "id": "fCYJzNp2Mo5U"
      }
    },
    {
      "cell_type": "code",
      "source": [
        "# We will perform Ridge regression\n",
        "# Start by importing the relevant libraries\n",
        "from sklearn.model_selection import GridSearchCV\n",
        "from sklearn.linear_model import Ridge\n",
        "from sklearn.linear_model import LinearRegression\n",
        "from sklearn.metrics import mean_squared_error\n",
        "#\n",
        "import warnings\n",
        "warnings.filterwarnings('ignore')\n",
        "# Apply the model \n",
        "ridge = Ridge(normalize=True)\n",
        "search = GridSearchCV(estimator=ridge,param_grid={'alpha': np.logspace(-5,2,8)},scoring='neg_mean_squared_error',n_jobs=1,refit=True,cv=10)\n",
        "\n",
        "search.fit(X_df,y)\n",
        "print(search.best_params_)\n",
        "abs(search.best_score_) "
      ],
      "metadata": {
        "id": "ZmeXbwcHOp45",
        "colab": {
          "base_uri": "https://localhost:8080/"
        },
        "outputId": "73a99b1b-f90b-47b5-ac4d-1d306281ae51"
      },
      "execution_count": 186,
      "outputs": [
        {
          "output_type": "stream",
          "name": "stdout",
          "text": [
            "{'alpha': 0.01}\n"
          ]
        },
        {
          "output_type": "execute_result",
          "data": {
            "text/plain": [
              "59462123335.531166"
            ]
          },
          "metadata": {},
          "execution_count": 186
        }
      ]
    },
    {
      "cell_type": "code",
      "source": [
        "# We will set our hyperparameters to the recommended values and run on the data\n",
        "ridge = Ridge(normalize=True, alpha = 0.01)\n",
        "ridge.fit(X_df,y)\n",
        "model_1 =(mean_squared_error(y_true=y,y_pred=ridge.predict(X_df)))\n",
        "print(model_1)"
      ],
      "metadata": {
        "colab": {
          "base_uri": "https://localhost:8080/"
        },
        "id": "lncMrHKWhmx1",
        "outputId": "e4f43c3a-2418-4ddb-d7f2-d4ab5a6e389d"
      },
      "execution_count": 187,
      "outputs": [
        {
          "output_type": "stream",
          "name": "stdout",
          "text": [
            "59006780416.04018\n"
          ]
        }
      ]
    },
    {
      "cell_type": "markdown",
      "source": [
        "Comparing our mean squared errors for the two models. \n",
        "\n",
        "The ridge regression model performs better than our base model\n"
      ],
      "metadata": {
        "id": "yqVB4ghVPcCm"
      }
    },
    {
      "cell_type": "markdown",
      "source": [
        "##Lasso Regression"
      ],
      "metadata": {
        "id": "r5KH-MFNSR4-"
      }
    },
    {
      "cell_type": "code",
      "source": [
        "# Next we will perform Lasso Regression\n",
        "# Start by importing the relevant libraries\n",
        "from sklearn.model_selection import GridSearchCV\n",
        "from sklearn.linear_model import Lasso\n",
        "import warnings\n",
        "warnings.filterwarnings(\"ignore\")\n",
        "# Set the alpha range\n",
        "parameters = {'alpha': np.concatenate((np.arange(0.1,2,0.1), np.arange(2, 5, 0.5)))}\n",
        "# Apply the model\n",
        "lasso = Lasso(normalize=True) \n",
        "gridlasso = GridSearchCV(lasso, parameters, scoring ='r2', cv=10)\n",
        "\n",
        "gridlasso.fit(X_train, y_train) \n",
        "print(\"lasso best parameters:\", gridlasso.best_params_) \n",
        "print(\"lasso score:\", gridlasso.score(X_test, y_test))\n",
        "print(\"lasso MSE:\", mean_squared_error(y_test, gridlasso.predict(X_test)))\n",
        "print(\"lasso best estimator coef:\", gridlasso.best_estimator_.coef_)                                "
      ],
      "metadata": {
        "id": "mRiwtNGCSQr4",
        "colab": {
          "base_uri": "https://localhost:8080/"
        },
        "outputId": "6f9394d5-ab77-4d8e-e5b4-c80b3c7aa5d3"
      },
      "execution_count": 189,
      "outputs": [
        {
          "output_type": "stream",
          "name": "stdout",
          "text": [
            "lasso best parameters: {'alpha': 4.5}\n",
            "lasso score: 0.5692898675971365\n",
            "lasso MSE: 65190004268.2762\n",
            "lasso best estimator coef: [-0.00000000e+00 -6.94497828e-01  6.33312091e+01  2.26537470e+02\n",
            "  0.00000000e+00  0.00000000e+00  5.83278656e+01  5.36953586e+05\n",
            "  7.16382056e+04  4.55438805e+02]\n"
          ]
        }
      ]
    },
    {
      "cell_type": "markdown",
      "source": [
        "Lasso regression didn't perform better than the base model or Ridge regression"
      ],
      "metadata": {
        "id": "FcVhiy65UHN-"
      }
    },
    {
      "cell_type": "code",
      "source": [
        "# We will set our hyperparameters to the recommended values and run on the data.\n",
        "lasso = Lasso(normalize=True, alpha=4.5) \n",
        "lasso.fit(X_df,y) \n",
        "first_model=(mean_squared_error(y_true=y,y_pred= lasso.predict(X_df)))\n",
        "print(first_model)"
      ],
      "metadata": {
        "id": "x7teXGaYmmxT",
        "colab": {
          "base_uri": "https://localhost:8080/"
        },
        "outputId": "159f4e2f-3d93-4384-daeb-e7e6e468aa29"
      },
      "execution_count": 191,
      "outputs": [
        {
          "output_type": "stream",
          "name": "stdout",
          "text": [
            "59008132486.12481\n"
          ]
        }
      ]
    },
    {
      "cell_type": "markdown",
      "source": [
        "After tunning alpha value, Lasso regression performs better than the base model but not Ridge regression model"
      ],
      "metadata": {
        "id": "r6iJvTWhGblU"
      }
    },
    {
      "cell_type": "markdown",
      "source": [
        "##Elastic Net regression"
      ],
      "metadata": {
        "id": "sXWaTGc8USzq"
      }
    },
    {
      "cell_type": "code",
      "source": [
        "# Let's perform Elastic net regression \n",
        "# Import the libraries\n",
        "from sklearn.model_selection import GridSearchCV\n",
        "from sklearn.linear_model import ElasticNet\n",
        "# Apply model\n",
        "elastic=ElasticNet(normalize=True)\n",
        "search=GridSearchCV(estimator=elastic,param_grid={'alpha':np.logspace(-5,2,8),'l1_ratio':[.2,.4,.6,.8]},scoring='neg_mean_squared_error',n_jobs=1,refit=True,cv=10)\n",
        "# Fit the model\n",
        "search.fit(X_df,y)\n",
        "print(search.best_params_)\n",
        "abs(search.best_score_)"
      ],
      "metadata": {
        "id": "XoJ3u9SNm-JA",
        "colab": {
          "base_uri": "https://localhost:8080/"
        },
        "outputId": "1032f2f6-b650-4a48-d742-21dfaa516f77"
      },
      "execution_count": 192,
      "outputs": [
        {
          "output_type": "stream",
          "name": "stdout",
          "text": [
            "{'alpha': 1e-05, 'l1_ratio': 0.8}\n"
          ]
        },
        {
          "output_type": "execute_result",
          "data": {
            "text/plain": [
              "59473196604.37234"
            ]
          },
          "metadata": {},
          "execution_count": 192
        }
      ]
    },
    {
      "cell_type": "markdown",
      "source": [
        "Elastic net regression performs better than our base model"
      ],
      "metadata": {
        "id": "TomFxtZhXPCA"
      }
    },
    {
      "cell_type": "code",
      "source": [
        "# We will set our hyperparameters to the recommended values and run on the data.\n",
        "# \n",
        "elastic=ElasticNet(normalize=True,alpha=1e-05,l1_ratio= 0.8)\n",
        "elastic.fit(X_df,y)\n",
        "second_model=(mean_squared_error(y_true=y,y_pred=elastic.predict(X_df)))\n",
        "print(second_model)"
      ],
      "metadata": {
        "colab": {
          "base_uri": "https://localhost:8080/"
        },
        "id": "1zfMnWrqREJ4",
        "outputId": "a9f5ec9d-dfa6-4c91-ad28-02374f68ef01"
      },
      "execution_count": 193,
      "outputs": [
        {
          "output_type": "stream",
          "name": "stdout",
          "text": [
            "59056082372.01328\n"
          ]
        }
      ]
    },
    {
      "cell_type": "markdown",
      "source": [
        "After tunning Elastic regression does not perform better than Ridge and Lasso"
      ],
      "metadata": {
        "id": "SxoaHms_qGFq"
      }
    },
    {
      "cell_type": "markdown",
      "source": [
        "This proves that Lasso tends to do well if there is a small number significant parameters while Ridge works well if there are many large parameters."
      ],
      "metadata": {
        "id": "KNAhNBXPBbD3"
      }
    },
    {
      "cell_type": "markdown",
      "source": [
        "##Challenging the Solution\n",
        "\n",
        "Other models should be used in making predictions\n",
        "\n",
        "\n",
        "More tunning could lower the models MSE "
      ],
      "metadata": {
        "id": "IFm66FNrtJrF"
      }
    }
  ]
}